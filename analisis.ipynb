{
 "cells": [
  {
   "cell_type": "markdown",
   "metadata": {},
   "source": [
    "# Minería de datos, Incendios: Analisis de Datos de los CSV"
   ]
  },
  {
   "cell_type": "markdown",
   "metadata": {},
   "source": [
    "## importaciones de las librerías\n",
    "### Importamos Pandas para:\n",
    "<ul>\n",
    "    <li>El trabajo con CSV</li>\n",
    "    <li></li>\n",
    "</ul>"
   ]
  },
  {
   "cell_type": "code",
   "execution_count": 1,
   "metadata": {},
   "outputs": [],
   "source": [
    "import pandas as pd\n",
    "import seaborn as sns\n",
    "import matplotlib.pyplot as plt\n",
    "import plotly.express as px\n",
    "import numpy as np"
   ]
  },
  {
   "cell_type": "markdown",
   "metadata": {},
   "source": [
    "## Importación de la data"
   ]
  },
  {
   "cell_type": "code",
   "execution_count": 2,
   "metadata": {},
   "outputs": [
    {
     "data": {
      "text/html": [
       "<div>\n",
       "<style scoped>\n",
       "    .dataframe tbody tr th:only-of-type {\n",
       "        vertical-align: middle;\n",
       "    }\n",
       "\n",
       "    .dataframe tbody tr th {\n",
       "        vertical-align: top;\n",
       "    }\n",
       "\n",
       "    .dataframe thead th {\n",
       "        text-align: right;\n",
       "    }\n",
       "</style>\n",
       "<table border=\"1\" class=\"dataframe\">\n",
       "  <thead>\n",
       "    <tr style=\"text-align: right;\">\n",
       "      <th></th>\n",
       "      <th>fireID</th>\n",
       "      <th>season</th>\n",
       "      <th>code</th>\n",
       "      <th>cut_reg</th>\n",
       "      <th>region_conaf</th>\n",
       "      <th>name_conaf</th>\n",
       "      <th>area_conaf</th>\n",
       "      <th>ign_date_conaf</th>\n",
       "      <th>ctrl_date_conaf</th>\n",
       "      <th>lat</th>\n",
       "      <th>...</th>\n",
       "      <th>height</th>\n",
       "      <th>total_area</th>\n",
       "      <th>area_unchs</th>\n",
       "      <th>area_lows</th>\n",
       "      <th>area_mods</th>\n",
       "      <th>area_hs</th>\n",
       "      <th>firescar_poly</th>\n",
       "      <th>sev_poly</th>\n",
       "      <th>overlap</th>\n",
       "      <th>obs</th>\n",
       "    </tr>\n",
       "  </thead>\n",
       "  <tbody>\n",
       "    <tr>\n",
       "      <th>0</th>\n",
       "      <td>ID10000</td>\n",
       "      <td>1986</td>\n",
       "      <td>CL-BI</td>\n",
       "      <td>8</td>\n",
       "      <td>Biobío</td>\n",
       "      <td>RAPELCO</td>\n",
       "      <td>51.0</td>\n",
       "      <td>1986-01-04</td>\n",
       "      <td>1986-01-04</td>\n",
       "      <td>-37.6710</td>\n",
       "      <td>...</td>\n",
       "      <td>NaN</td>\n",
       "      <td>NaN</td>\n",
       "      <td>NaN</td>\n",
       "      <td>NaN</td>\n",
       "      <td>NaN</td>\n",
       "      <td>NaN</td>\n",
       "      <td>NaN</td>\n",
       "      <td>NaN</td>\n",
       "      <td>NaN</td>\n",
       "      <td>NaN</td>\n",
       "    </tr>\n",
       "    <tr>\n",
       "      <th>1</th>\n",
       "      <td>ID100000</td>\n",
       "      <td>2003</td>\n",
       "      <td>CL-ML</td>\n",
       "      <td>7</td>\n",
       "      <td>Maule</td>\n",
       "      <td>MAITENHUAPI</td>\n",
       "      <td>50.0</td>\n",
       "      <td>2003-02-09</td>\n",
       "      <td>2003-02-09</td>\n",
       "      <td>-35.3283</td>\n",
       "      <td>...</td>\n",
       "      <td>46.0</td>\n",
       "      <td>4.278272e+05</td>\n",
       "      <td>0.0</td>\n",
       "      <td>0.0</td>\n",
       "      <td>178748.092346</td>\n",
       "      <td>2.490791e+05</td>\n",
       "      <td>1.0</td>\n",
       "      <td>57.0</td>\n",
       "      <td>NaN</td>\n",
       "      <td>NaN</td>\n",
       "    </tr>\n",
       "    <tr>\n",
       "      <th>2</th>\n",
       "      <td>ID10002</td>\n",
       "      <td>1986</td>\n",
       "      <td>CL-BI</td>\n",
       "      <td>16</td>\n",
       "      <td>Ñuble</td>\n",
       "      <td>LAs chilcas</td>\n",
       "      <td>87.0</td>\n",
       "      <td>1986-02-03</td>\n",
       "      <td>1986-02-03</td>\n",
       "      <td>-36.6711</td>\n",
       "      <td>...</td>\n",
       "      <td>118.0</td>\n",
       "      <td>3.227681e+06</td>\n",
       "      <td>0.0</td>\n",
       "      <td>0.0</td>\n",
       "      <td>710373.072388</td>\n",
       "      <td>2.517308e+06</td>\n",
       "      <td>16.0</td>\n",
       "      <td>423.0</td>\n",
       "      <td>NaN</td>\n",
       "      <td>The ignition point is located in the current C...</td>\n",
       "    </tr>\n",
       "    <tr>\n",
       "      <th>3</th>\n",
       "      <td>ID100027</td>\n",
       "      <td>2003</td>\n",
       "      <td>CL-ML</td>\n",
       "      <td>7</td>\n",
       "      <td>Maule</td>\n",
       "      <td>LAS CATALINAS II</td>\n",
       "      <td>80.0</td>\n",
       "      <td>2003-02-15</td>\n",
       "      <td>2003-02-16</td>\n",
       "      <td>-35.5755</td>\n",
       "      <td>...</td>\n",
       "      <td>114.0</td>\n",
       "      <td>1.155078e+06</td>\n",
       "      <td>0.0</td>\n",
       "      <td>0.0</td>\n",
       "      <td>539904.116699</td>\n",
       "      <td>6.151739e+05</td>\n",
       "      <td>6.0</td>\n",
       "      <td>122.0</td>\n",
       "      <td>NaN</td>\n",
       "      <td>NaN</td>\n",
       "    </tr>\n",
       "    <tr>\n",
       "      <th>4</th>\n",
       "      <td>ID10003</td>\n",
       "      <td>1986</td>\n",
       "      <td>CL-BI</td>\n",
       "      <td>16</td>\n",
       "      <td>Ñuble</td>\n",
       "      <td>NAHUELTORO 1</td>\n",
       "      <td>53.0</td>\n",
       "      <td>1986-02-06</td>\n",
       "      <td>1986-02-06</td>\n",
       "      <td>-36.4938</td>\n",
       "      <td>...</td>\n",
       "      <td>NaN</td>\n",
       "      <td>NaN</td>\n",
       "      <td>NaN</td>\n",
       "      <td>NaN</td>\n",
       "      <td>NaN</td>\n",
       "      <td>NaN</td>\n",
       "      <td>NaN</td>\n",
       "      <td>NaN</td>\n",
       "      <td>NaN</td>\n",
       "      <td>NaN</td>\n",
       "    </tr>\n",
       "  </tbody>\n",
       "</table>\n",
       "<p>5 rows × 35 columns</p>\n",
       "</div>"
      ],
      "text/plain": [
       "     fireID  season   code  cut_reg region_conaf        name_conaf  \\\n",
       "0   ID10000    1986  CL-BI        8       Biobío           RAPELCO   \n",
       "1  ID100000    2003  CL-ML        7        Maule       MAITENHUAPI   \n",
       "2   ID10002    1986  CL-BI       16        Ñuble       LAs chilcas   \n",
       "3  ID100027    2003  CL-ML        7        Maule  LAS CATALINAS II   \n",
       "4   ID10003    1986  CL-BI       16        Ñuble      NAHUELTORO 1   \n",
       "\n",
       "   area_conaf ign_date_conaf ctrl_date_conaf      lat  ...  height  \\\n",
       "0        51.0     1986-01-04      1986-01-04 -37.6710  ...     NaN   \n",
       "1        50.0     2003-02-09      2003-02-09 -35.3283  ...    46.0   \n",
       "2        87.0     1986-02-03      1986-02-03 -36.6711  ...   118.0   \n",
       "3        80.0     2003-02-15      2003-02-16 -35.5755  ...   114.0   \n",
       "4        53.0     1986-02-06      1986-02-06 -36.4938  ...     NaN   \n",
       "\n",
       "     total_area area_unchs area_lows      area_mods       area_hs  \\\n",
       "0           NaN        NaN       NaN            NaN           NaN   \n",
       "1  4.278272e+05        0.0       0.0  178748.092346  2.490791e+05   \n",
       "2  3.227681e+06        0.0       0.0  710373.072388  2.517308e+06   \n",
       "3  1.155078e+06        0.0       0.0  539904.116699  6.151739e+05   \n",
       "4           NaN        NaN       NaN            NaN           NaN   \n",
       "\n",
       "  firescar_poly sev_poly overlap  \\\n",
       "0           NaN      NaN     NaN   \n",
       "1           1.0     57.0     NaN   \n",
       "2          16.0    423.0     NaN   \n",
       "3           6.0    122.0     NaN   \n",
       "4           NaN      NaN     NaN   \n",
       "\n",
       "                                                 obs  \n",
       "0                                                NaN  \n",
       "1                                                NaN  \n",
       "2  The ignition point is located in the current C...  \n",
       "3                                                NaN  \n",
       "4                                                NaN  \n",
       "\n",
       "[5 rows x 35 columns]"
      ]
     },
     "execution_count": 2,
     "metadata": {},
     "output_type": "execute_result"
    }
   ],
   "source": [
    "cicatrices_incedios = pd.read_csv(\"https://raw.githubusercontent.com/Kiki1108/incendios/refs/heads/main/data/cicatrices_incendios_resumen.csv\")\n",
    "cicatrices_incedios.head()"
   ]
  },
  {
   "cell_type": "markdown",
   "metadata": {},
   "source": [
    "### ¿Qué significa cada una de las columnas?\n",
    "\n",
    "<ul>\n",
    "    <li><strong>fireID</strong> → Identificador único del incendio.</li>\n",
    "    <li><strong>season</strong> → Año en que ocurrió el incendio.</li>\n",
    "    <li><strong>code</strong> → Código del área donde ocurrió el incendio (probablemente código regional o de país).</li>\n",
    "    <li><strong>cut_reg</strong> → Código de la región administrativa en la que ocurrió el incendio.</li>\n",
    "    <li><strong>region_conaf</strong> → Nombre de la región según la CONAF (Corporación Nacional Forestal de Chile).</li>\n",
    "    <li><strong>name_conaf</strong> → Nombre asignado al incendio en los registros de CONAF.</li>\n",
    "    <li><strong>area_conaf</strong> → Área del incendio registrada por CONAF en hectáreas.</li>\n",
    "    <li><strong>ign_date_conaf</strong> → Fecha de inicio del incendio.</li>\n",
    "    <li><strong>ctrl_date_conaf</strong> → Fecha en que el incendio fue controlado.</li>\n",
    "    <li><strong>lat, lon</strong> → Latitud y longitud del incendio.</li>\n",
    "    <li><strong>firescar</strong> → Identificación de la cicatriz del incendio (probablemente en imágenes satelitales).</li>\n",
    "    <li><strong>folderloc</strong> → Ubicación del archivo en la base de datos.</li>\n",
    "    <li><strong>firescar_img_name</strong> → Nombre de la imagen satelital de la cicatriz del incendio.</li>\n",
    "    <li><strong>prefire_img_name</strong> → Nombre de la imagen satelital previa al incendio.</li>\n",
    "    <li><strong>postfire_img_name</strong> → Nombre de la imagen satelital posterior al incendio.</li>\n",
    "    <li><strong>rdnbr_img_name</strong> → Nombre de la imagen con el índice RDNBR (relacionado con la severidad del incendio).</li>\n",
    "    <li><strong>sev_img_name</strong> → Imagen de severidad del incendio.</li>\n",
    "    <li><strong>firescar_vec_name</strong> → Nombre del archivo vectorial de la cicatriz del incendio.</li>\n",
    "    <li><strong>sev_vec_name</strong> → Nombre del archivo vectorial de la severidad del incendio.</li>\n",
    "    <li><strong>north_lat, south_lat</strong> → Latitud máxima y mínima del área afectada.</li>\n",
    "    <li><strong>west_lon, east_lon</strong> → Longitud máxima y mínima del área afectada.</li>\n",
    "    <li><strong>width, height</strong> → Dimensiones de la zona afectada (posiblemente en píxeles o metros).</li>\n",
    "    <li><strong>total_area</strong> → Área total afectada (posiblemente en m²).</li>\n",
    "    <li><strong>area_unchs</strong> → Área sin cambios después del incendio.</li>\n",
    "    <li><strong>area_lows</strong> → Área con baja severidad de quemado.</li>\n",
    "    <li><strong>area_mods</strong> → Área con severidad moderada.</li>\n",
    "    <li><strong>area_hs</strong> → Área con alta severidad.</li>\n",
    "    <li><strong>firescar_poly</strong> → Polígonos de cicatrices de incendios.</li>\n",
    "    <li><strong>sev_poly</strong> → Polígonos de severidad del incendio.</li>\n",
    "    <li><strong>overlap</strong> → Superposición con incendios previos o cicatrices antiguas.</li>\n",
    "    <li><strong>obs</strong> → Observaciones adicionales sobre el incendio.</li>\n",
    "</ul>\n",
    "\n",
    "\n",
    "## Analisis del estado / calidad de los datos"
   ]
  },
  {
   "cell_type": "code",
   "execution_count": 3,
   "metadata": {},
   "outputs": [
    {
     "data": {
      "text/plain": [
       "fireID                   0\n",
       "season                   0\n",
       "code                     0\n",
       "cut_reg                  0\n",
       "region_conaf             0\n",
       "name_conaf               0\n",
       "area_conaf               0\n",
       "ign_date_conaf           0\n",
       "ctrl_date_conaf          0\n",
       "lat                      0\n",
       "lon                      0\n",
       "firescar                 0\n",
       "folderloc             4097\n",
       "firescar_img_name     4097\n",
       "prefire_img_name      4097\n",
       "postfire_img_name     4097\n",
       "rdnbr_img_name        4097\n",
       "sev_img_name          4097\n",
       "firescar_vec_name     4097\n",
       "sev_vec_name          4097\n",
       "north_lat             4097\n",
       "south_lat             4097\n",
       "west_lon              4097\n",
       "east_lon              4097\n",
       "width                 4097\n",
       "height                4097\n",
       "total_area            4097\n",
       "area_unchs            4097\n",
       "area_lows             4097\n",
       "area_mods             4097\n",
       "area_hs               4097\n",
       "firescar_poly         4097\n",
       "sev_poly              4097\n",
       "overlap              10064\n",
       "obs                  11589\n",
       "dtype: int64"
      ]
     },
     "execution_count": 3,
     "metadata": {},
     "output_type": "execute_result"
    }
   ],
   "source": [
    "# Analisis de missing values\n",
    "cicatrices_incedios.isna().sum()"
   ]
  },
  {
   "cell_type": "code",
   "execution_count": 4,
   "metadata": {},
   "outputs": [
    {
     "name": "stdout",
     "output_type": "stream",
     "text": [
      "0\n"
     ]
    }
   ],
   "source": [
    "# Revisión de duplicados\n",
    "print(cicatrices_incedios.duplicated().sum())"
   ]
  },
  {
   "cell_type": "code",
   "execution_count": 5,
   "metadata": {},
   "outputs": [
    {
     "data": {
      "text/html": [
       "<div>\n",
       "<style scoped>\n",
       "    .dataframe tbody tr th:only-of-type {\n",
       "        vertical-align: middle;\n",
       "    }\n",
       "\n",
       "    .dataframe tbody tr th {\n",
       "        vertical-align: top;\n",
       "    }\n",
       "\n",
       "    .dataframe thead th {\n",
       "        text-align: right;\n",
       "    }\n",
       "</style>\n",
       "<table border=\"1\" class=\"dataframe\">\n",
       "  <thead>\n",
       "    <tr style=\"text-align: right;\">\n",
       "      <th></th>\n",
       "      <th>season</th>\n",
       "      <th>cut_reg</th>\n",
       "      <th>area_conaf</th>\n",
       "      <th>lat</th>\n",
       "      <th>lon</th>\n",
       "      <th>firescar</th>\n",
       "      <th>north_lat</th>\n",
       "      <th>south_lat</th>\n",
       "      <th>west_lon</th>\n",
       "      <th>east_lon</th>\n",
       "      <th>width</th>\n",
       "      <th>height</th>\n",
       "      <th>total_area</th>\n",
       "      <th>area_unchs</th>\n",
       "      <th>area_lows</th>\n",
       "      <th>area_mods</th>\n",
       "      <th>area_hs</th>\n",
       "      <th>firescar_poly</th>\n",
       "      <th>sev_poly</th>\n",
       "    </tr>\n",
       "  </thead>\n",
       "  <tbody>\n",
       "    <tr>\n",
       "      <th>count</th>\n",
       "      <td>12250.000000</td>\n",
       "      <td>12250.000000</td>\n",
       "      <td>12250.000000</td>\n",
       "      <td>12250.000000</td>\n",
       "      <td>12250.000000</td>\n",
       "      <td>12250.000000</td>\n",
       "      <td>8153.000000</td>\n",
       "      <td>8153.000000</td>\n",
       "      <td>8153.000000</td>\n",
       "      <td>8153.000000</td>\n",
       "      <td>8153.000000</td>\n",
       "      <td>8153.000000</td>\n",
       "      <td>8.153000e+03</td>\n",
       "      <td>8153.0</td>\n",
       "      <td>8.153000e+03</td>\n",
       "      <td>8.153000e+03</td>\n",
       "      <td>8.153000e+03</td>\n",
       "      <td>8153.000000</td>\n",
       "      <td>8153.000000</td>\n",
       "    </tr>\n",
       "    <tr>\n",
       "      <th>mean</th>\n",
       "      <td>2002.889878</td>\n",
       "      <td>8.788898</td>\n",
       "      <td>162.016658</td>\n",
       "      <td>-36.160550</td>\n",
       "      <td>-72.021913</td>\n",
       "      <td>0.665551</td>\n",
       "      <td>-35.766741</td>\n",
       "      <td>-35.783576</td>\n",
       "      <td>-71.909786</td>\n",
       "      <td>-71.891267</td>\n",
       "      <td>68.718876</td>\n",
       "      <td>62.469766</td>\n",
       "      <td>3.053903e+06</td>\n",
       "      <td>0.0</td>\n",
       "      <td>2.389187e+04</td>\n",
       "      <td>8.062175e+05</td>\n",
       "      <td>2.223797e+06</td>\n",
       "      <td>5.899546</td>\n",
       "      <td>216.848645</td>\n",
       "    </tr>\n",
       "    <tr>\n",
       "      <th>std</th>\n",
       "      <td>10.358023</td>\n",
       "      <td>3.309122</td>\n",
       "      <td>1698.260123</td>\n",
       "      <td>2.410442</td>\n",
       "      <td>0.785569</td>\n",
       "      <td>0.471817</td>\n",
       "      <td>2.371484</td>\n",
       "      <td>2.372316</td>\n",
       "      <td>0.782938</td>\n",
       "      <td>0.782595</td>\n",
       "      <td>101.786266</td>\n",
       "      <td>102.178169</td>\n",
       "      <td>3.117599e+07</td>\n",
       "      <td>0.0</td>\n",
       "      <td>5.755228e+05</td>\n",
       "      <td>8.000398e+06</td>\n",
       "      <td>2.332097e+07</td>\n",
       "      <td>97.444902</td>\n",
       "      <td>1985.821834</td>\n",
       "    </tr>\n",
       "    <tr>\n",
       "      <th>min</th>\n",
       "      <td>1985.000000</td>\n",
       "      <td>4.000000</td>\n",
       "      <td>10.000000</td>\n",
       "      <td>-43.843300</td>\n",
       "      <td>-74.232600</td>\n",
       "      <td>0.000000</td>\n",
       "      <td>-43.833025</td>\n",
       "      <td>-43.880995</td>\n",
       "      <td>-74.119635</td>\n",
       "      <td>-73.997823</td>\n",
       "      <td>3.000000</td>\n",
       "      <td>2.000000</td>\n",
       "      <td>4.345003e+03</td>\n",
       "      <td>0.0</td>\n",
       "      <td>0.000000e+00</td>\n",
       "      <td>0.000000e+00</td>\n",
       "      <td>0.000000e+00</td>\n",
       "      <td>1.000000</td>\n",
       "      <td>1.000000</td>\n",
       "    </tr>\n",
       "    <tr>\n",
       "      <th>25%</th>\n",
       "      <td>1994.000000</td>\n",
       "      <td>6.000000</td>\n",
       "      <td>15.000000</td>\n",
       "      <td>-38.005300</td>\n",
       "      <td>-72.592200</td>\n",
       "      <td>0.000000</td>\n",
       "      <td>-37.786644</td>\n",
       "      <td>-37.805778</td>\n",
       "      <td>-72.485689</td>\n",
       "      <td>-72.462243</td>\n",
       "      <td>26.000000</td>\n",
       "      <td>22.000000</td>\n",
       "      <td>1.631970e+05</td>\n",
       "      <td>0.0</td>\n",
       "      <td>0.000000e+00</td>\n",
       "      <td>3.468296e+04</td>\n",
       "      <td>9.348120e+04</td>\n",
       "      <td>1.000000</td>\n",
       "      <td>18.000000</td>\n",
       "    </tr>\n",
       "    <tr>\n",
       "      <th>50%</th>\n",
       "      <td>2004.000000</td>\n",
       "      <td>8.000000</td>\n",
       "      <td>26.000000</td>\n",
       "      <td>-36.548950</td>\n",
       "      <td>-72.052800</td>\n",
       "      <td>1.000000</td>\n",
       "      <td>-35.463331</td>\n",
       "      <td>-35.479501</td>\n",
       "      <td>-71.754281</td>\n",
       "      <td>-71.734877</td>\n",
       "      <td>43.000000</td>\n",
       "      <td>37.000000</td>\n",
       "      <td>3.977722e+05</td>\n",
       "      <td>0.0</td>\n",
       "      <td>0.000000e+00</td>\n",
       "      <td>9.522537e+04</td>\n",
       "      <td>2.602239e+05</td>\n",
       "      <td>2.000000</td>\n",
       "      <td>41.000000</td>\n",
       "    </tr>\n",
       "    <tr>\n",
       "      <th>75%</th>\n",
       "      <td>2013.000000</td>\n",
       "      <td>10.000000</td>\n",
       "      <td>70.000000</td>\n",
       "      <td>-33.962850</td>\n",
       "      <td>-71.382900</td>\n",
       "      <td>1.000000</td>\n",
       "      <td>-33.631307</td>\n",
       "      <td>-33.646399</td>\n",
       "      <td>-71.326862</td>\n",
       "      <td>-71.305572</td>\n",
       "      <td>76.000000</td>\n",
       "      <td>67.000000</td>\n",
       "      <td>1.170953e+06</td>\n",
       "      <td>0.0</td>\n",
       "      <td>0.000000e+00</td>\n",
       "      <td>2.929125e+05</td>\n",
       "      <td>8.210708e+05</td>\n",
       "      <td>3.000000</td>\n",
       "      <td>102.000000</td>\n",
       "    </tr>\n",
       "    <tr>\n",
       "      <th>max</th>\n",
       "      <td>2018.000000</td>\n",
       "      <td>16.000000</td>\n",
       "      <td>159813.000000</td>\n",
       "      <td>-29.511200</td>\n",
       "      <td>-70.222200</td>\n",
       "      <td>1.000000</td>\n",
       "      <td>-29.857036</td>\n",
       "      <td>-29.858922</td>\n",
       "      <td>-70.223552</td>\n",
       "      <td>-70.217892</td>\n",
       "      <td>2229.000000</td>\n",
       "      <td>2433.000000</td>\n",
       "      <td>1.353321e+09</td>\n",
       "      <td>0.0</td>\n",
       "      <td>3.761882e+07</td>\n",
       "      <td>3.236190e+08</td>\n",
       "      <td>1.031391e+09</td>\n",
       "      <td>5286.000000</td>\n",
       "      <td>87752.000000</td>\n",
       "    </tr>\n",
       "  </tbody>\n",
       "</table>\n",
       "</div>"
      ],
      "text/plain": [
       "             season       cut_reg     area_conaf           lat           lon  \\\n",
       "count  12250.000000  12250.000000   12250.000000  12250.000000  12250.000000   \n",
       "mean    2002.889878      8.788898     162.016658    -36.160550    -72.021913   \n",
       "std       10.358023      3.309122    1698.260123      2.410442      0.785569   \n",
       "min     1985.000000      4.000000      10.000000    -43.843300    -74.232600   \n",
       "25%     1994.000000      6.000000      15.000000    -38.005300    -72.592200   \n",
       "50%     2004.000000      8.000000      26.000000    -36.548950    -72.052800   \n",
       "75%     2013.000000     10.000000      70.000000    -33.962850    -71.382900   \n",
       "max     2018.000000     16.000000  159813.000000    -29.511200    -70.222200   \n",
       "\n",
       "           firescar    north_lat    south_lat     west_lon     east_lon  \\\n",
       "count  12250.000000  8153.000000  8153.000000  8153.000000  8153.000000   \n",
       "mean       0.665551   -35.766741   -35.783576   -71.909786   -71.891267   \n",
       "std        0.471817     2.371484     2.372316     0.782938     0.782595   \n",
       "min        0.000000   -43.833025   -43.880995   -74.119635   -73.997823   \n",
       "25%        0.000000   -37.786644   -37.805778   -72.485689   -72.462243   \n",
       "50%        1.000000   -35.463331   -35.479501   -71.754281   -71.734877   \n",
       "75%        1.000000   -33.631307   -33.646399   -71.326862   -71.305572   \n",
       "max        1.000000   -29.857036   -29.858922   -70.223552   -70.217892   \n",
       "\n",
       "             width       height    total_area  area_unchs     area_lows  \\\n",
       "count  8153.000000  8153.000000  8.153000e+03      8153.0  8.153000e+03   \n",
       "mean     68.718876    62.469766  3.053903e+06         0.0  2.389187e+04   \n",
       "std     101.786266   102.178169  3.117599e+07         0.0  5.755228e+05   \n",
       "min       3.000000     2.000000  4.345003e+03         0.0  0.000000e+00   \n",
       "25%      26.000000    22.000000  1.631970e+05         0.0  0.000000e+00   \n",
       "50%      43.000000    37.000000  3.977722e+05         0.0  0.000000e+00   \n",
       "75%      76.000000    67.000000  1.170953e+06         0.0  0.000000e+00   \n",
       "max    2229.000000  2433.000000  1.353321e+09         0.0  3.761882e+07   \n",
       "\n",
       "          area_mods       area_hs  firescar_poly      sev_poly  \n",
       "count  8.153000e+03  8.153000e+03    8153.000000   8153.000000  \n",
       "mean   8.062175e+05  2.223797e+06       5.899546    216.848645  \n",
       "std    8.000398e+06  2.332097e+07      97.444902   1985.821834  \n",
       "min    0.000000e+00  0.000000e+00       1.000000      1.000000  \n",
       "25%    3.468296e+04  9.348120e+04       1.000000     18.000000  \n",
       "50%    9.522537e+04  2.602239e+05       2.000000     41.000000  \n",
       "75%    2.929125e+05  8.210708e+05       3.000000    102.000000  \n",
       "max    3.236190e+08  1.031391e+09    5286.000000  87752.000000  "
      ]
     },
     "execution_count": 5,
     "metadata": {},
     "output_type": "execute_result"
    }
   ],
   "source": [
    "# Descriptores generales\n",
    "# Cantidad, media, desviación estandar, minimo, maximo, quartiles.\n",
    "cicatrices_incedios.describe()"
   ]
  },
  {
   "cell_type": "code",
   "execution_count": 6,
   "metadata": {},
   "outputs": [
    {
     "name": "stdout",
     "output_type": "stream",
     "text": [
      "<class 'pandas.core.frame.DataFrame'>\n",
      "RangeIndex: 12250 entries, 0 to 12249\n",
      "Data columns (total 35 columns):\n",
      " #   Column             Non-Null Count  Dtype  \n",
      "---  ------             --------------  -----  \n",
      " 0   fireID             12250 non-null  object \n",
      " 1   season             12250 non-null  int64  \n",
      " 2   code               12250 non-null  object \n",
      " 3   cut_reg            12250 non-null  int64  \n",
      " 4   region_conaf       12250 non-null  object \n",
      " 5   name_conaf         12250 non-null  object \n",
      " 6   area_conaf         12250 non-null  float64\n",
      " 7   ign_date_conaf     12250 non-null  object \n",
      " 8   ctrl_date_conaf    12250 non-null  object \n",
      " 9   lat                12250 non-null  float64\n",
      " 10  lon                12250 non-null  float64\n",
      " 11  firescar           12250 non-null  int64  \n",
      " 12  folderloc          8153 non-null   object \n",
      " 13  firescar_img_name  8153 non-null   object \n",
      " 14  prefire_img_name   8153 non-null   object \n",
      " 15  postfire_img_name  8153 non-null   object \n",
      " 16  rdnbr_img_name     8153 non-null   object \n",
      " 17  sev_img_name       8153 non-null   object \n",
      " 18  firescar_vec_name  8153 non-null   object \n",
      " 19  sev_vec_name       8153 non-null   object \n",
      " 20  north_lat          8153 non-null   float64\n",
      " 21  south_lat          8153 non-null   float64\n",
      " 22  west_lon           8153 non-null   float64\n",
      " 23  east_lon           8153 non-null   float64\n",
      " 24  width              8153 non-null   float64\n",
      " 25  height             8153 non-null   float64\n",
      " 26  total_area         8153 non-null   float64\n",
      " 27  area_unchs         8153 non-null   float64\n",
      " 28  area_lows          8153 non-null   float64\n",
      " 29  area_mods          8153 non-null   float64\n",
      " 30  area_hs            8153 non-null   float64\n",
      " 31  firescar_poly      8153 non-null   float64\n",
      " 32  sev_poly           8153 non-null   float64\n",
      " 33  overlap            2186 non-null   object \n",
      " 34  obs                661 non-null    object \n",
      "dtypes: float64(16), int64(3), object(16)\n",
      "memory usage: 3.3+ MB\n"
     ]
    }
   ],
   "source": [
    "# Revisión de tipos de datos\n",
    "cicatrices_incedios.info()"
   ]
  },
  {
   "cell_type": "code",
   "execution_count": 7,
   "metadata": {},
   "outputs": [
    {
     "name": "stdout",
     "output_type": "stream",
     "text": [
      "fireID: ['ID10000' 'ID100000' 'ID10002' ... 'ID9999' 'ID99995' 'ID99998']\n",
      "season: [1986 2003 1987 1985 2004 2005 2006 2007 2008 2009 2010 2011 1988 2012\n",
      " 2013 2014 2015 2016 2017 2018 1989 1990 1991 1992 1993 1994 1995 1996\n",
      " 1997 1998 1999 2000 2001 2002]\n",
      "code: ['CL-BI' 'CL-ML' 'CL-AR' 'CL-VS' 'CL-LI' 'CL-LR' 'CL-CO' 'CL-LL' 'CL-RM']\n",
      "cut_reg: [ 8  7 16  9  5  6 14  4 10 13]\n",
      "region_conaf: ['Biobío' 'Maule' 'Ñuble' 'La Araucanía' 'Valparaíso' 'OHiggins'\n",
      " 'Los Ríos' 'Coquimbo' 'Los Lagos' 'Santiago']\n",
      "name_conaf: ['RAPELCO' 'MAITENHUAPI' 'LAs chilcas' ... 'CUATRO ESQUINAS' 'LA REINA'\n",
      " 'BALLICA NORTE 3']\n",
      "area_conaf: [  51.   50.   87. ...  685. 1020. 1045.]\n",
      "ign_date_conaf: ['1986-01-04' '2003-02-09' '1986-02-03' ... '2002-12-01' '1986-01-15'\n",
      " '2003-01-16']\n",
      "ctrl_date_conaf: ['1986-01-04' '2003-02-09' '1986-02-03' ... '1986-01-15' '2003-01-16'\n",
      " '2003-01-17']\n",
      "lat: [-37.671  -35.3283 -36.6711 ... -36.1722 -35.9472 -35.8431]\n",
      "lon: [-72.3978 -71.5799 -71.9708 ... -71.8282 -71.6757 -71.7295]\n",
      "firescar: [0 1]\n",
      "folderloc: [nan 'FireScar_CL-ML_Maule_2003' 'FireScar_CL-BI_BioBio_1986'\n",
      " 'FireScar_CL-ML_Maule_1986' 'FireScar_CL-VS_Valparaiso_1986'\n",
      " 'FireScar_CL-LI_Ohiggins_1986' 'FireScar_CL-LR_LosRios_1986'\n",
      " 'FireScar_CL-BI_BioBio_2003' 'FireScar_CL-VS_Valparaiso_1987'\n",
      " 'FireScar_CL-AR_Araucania_2003' 'FireScar_CL-LR_LosRios_2003'\n",
      " 'FireScar_CL-LL_LosLagos_2003' 'FireScar_CL-RM_Metropolitana_2003'\n",
      " 'FireScar_CL-LI_Ohiggins_1987' 'FireScar_CL-LI_Ohiggins_2004'\n",
      " 'FireScar_CL-BI_BioBio_2004' 'FireScar_CL-AR_Araucania_2004'\n",
      " 'FireScar_CL-CO_Coquimbo_2004' 'FireScar_CL-VS_Valparaiso_2004'\n",
      " 'FireScar_CL-ML_Maule_2004' 'FireScar_CL-RM_Metropolitana_2004'\n",
      " 'FireScar_CL-LR_LosRios_2004' 'FireScar_CL-LL_LosLagos_2004'\n",
      " 'FireScar_CL-ML_Maule_1987' 'FireScar_CL-BI_BioBio_1987'\n",
      " 'FireScar_CL-BI_BioBio_2005' 'FireScar_CL-LR_LosRios_2005'\n",
      " 'FireScar_CL-VS_Valparaiso_2005' 'FireScar_CL-LI_Ohiggins_2005'\n",
      " 'FireScar_CL-ML_Maule_2005' 'FireScar_CL-AR_Araucania_2005'\n",
      " 'FireScar_CL-RM_Metropolitana_2005' 'FireScar_CL-LL_LosLagos_2005'\n",
      " 'FireScar_CL-CO_Coquimbo_2005' 'FireScar_CL-ML_Maule_2006'\n",
      " 'FireScar_CL-LL_LosLagos_2006' 'FireScar_CL-VS_Valparaiso_2006'\n",
      " 'FireScar_CL-LI_Ohiggins_2006' 'FireScar_CL-BI_BioBio_2006'\n",
      " 'FireScar_CL-AR_Araucania_2006' 'FireScar_CL-LR_LosRios_2006'\n",
      " 'FireScar_CL-RM_Metropolitana_2006' 'FireScar_CL-CO_Coquimbo_2006'\n",
      " 'FireScar_CL-AR_Araucania_1987' 'FireScar_CL-RM_Metropolitana_2007'\n",
      " 'FireScar_CL-LL_LosLagos_2007' 'FireScar_CL-CO_Coquimbo_2007'\n",
      " 'FireScar_CL-VS_Valparaiso_2007' 'FireScar_CL-LI_Ohiggins_2007'\n",
      " 'FireScar_CL-ML_Maule_2007' 'FireScar_CL-BI_BioBio_2007'\n",
      " 'FireScar_CL-AR_Araucania_2007' 'FireScar_CL-LL_LosLagos_1987'\n",
      " 'FireScar_CL-AR_Araucania_2008' 'FireScar_CL-LL_LosLagos_2008'\n",
      " 'FireScar_CL-ML_Maule_2008' 'FireScar_CL-BI_BioBio_2008'\n",
      " 'FireScar_CL-RM_Metropolitana_2008' 'FireScar_CL-VS_Valparaiso_2008'\n",
      " 'FireScar_CL-LI_Ohiggins_2008' 'FireScar_CL-LR_LosRios_2008'\n",
      " 'FireScar_CL-CO_Coquimbo_2008' 'FireScar_CL-LR_LosRios_1987'\n",
      " 'FireScar_CL-RM_Metropolitana_1987' 'FireScar_CL-AR_Araucania_2009'\n",
      " 'FireScar_CL-BI_BioBio_2009' 'FireScar_CL-RM_Metropolitana_2009'\n",
      " 'FireScar_CL-ML_Maule_2009' 'FireScar_CL-VS_Valparaiso_2009'\n",
      " 'FireScar_CL-LL_LosLagos_2009' 'FireScar_CL-LI_Ohiggins_2009'\n",
      " 'FireScar_CL-LR_LosRios_2009' 'FireScar_CL-ML_Maule_2010'\n",
      " 'FireScar_CL-BI_BioBio_2010' 'FireScar_CL-RM_Metropolitana_2010'\n",
      " 'FireScar_CL-VS_Valparaiso_2010' 'FireScar_CL-LI_Ohiggins_2010'\n",
      " 'FireScar_CL-CO_Coquimbo_2010' 'FireScar_CL-AR_Araucania_2010'\n",
      " 'FireScar_CL-LI_Ohiggins_2011' 'FireScar_CL-BI_BioBio_2011'\n",
      " 'FireScar_CL-ML_Maule_2011' 'FireScar_CL-RM_Metropolitana_2011'\n",
      " 'FireScar_CL-VS_Valparaiso_2011' 'FireScar_CL-AR_Araucania_2011'\n",
      " 'FireScar_CL-CO_Coquimbo_2011' 'FireScar_CL-LL_LosLagos_2011'\n",
      " 'FireScar_CL-CO_Coquimbo_1988' 'FireScar_CL-VS_Valparaiso_1988'\n",
      " 'FireScar_CL-BI_BioBio_2012' 'FireScar_CL-AR_Araucania_2012'\n",
      " 'FireScar_CL-ML_Maule_2012' 'FireScar_CL-RM_Metropolitana_2012'\n",
      " 'FireScar_CL-LI_Ohiggins_2012' 'FireScar_CL-CO_Coquimbo_2012'\n",
      " 'FireScar_CL-VS_Valparaiso_2012' 'FireScar_CL-LR_LosRios_2012'\n",
      " 'FireScar_CL-LL_LosLagos_2012' 'FireScar_CL-CO_Coquimbo_2013'\n",
      " 'FireScar_CL-LI_Ohiggins_2013' 'FireScar_CL-VS_Valparaiso_2013'\n",
      " 'FireScar_CL-BI_BioBio_2013' 'FireScar_CL-ML_Maule_2013'\n",
      " 'FireScar_CL-AR_Araucania_2013' 'FireScar_CL-LL_LosLagos_2013'\n",
      " 'FireScar_CL-RM_Metropolitana_2013' 'FireScar_CL-LR_LosRios_2013'\n",
      " 'FireScar_CL-LI_Ohiggins_1988' 'FireScar_CL-ML_Maule_1988'\n",
      " 'FireScar_CL-ML_Maule_2014' 'FireScar_CL-AR_Araucania_2014'\n",
      " 'FireScar_CL-VS_Valparaiso_2014' 'FireScar_CL-BI_BioBio_2014'\n",
      " 'FireScar_CL-LI_Ohiggins_2014' 'FireScar_CL-LL_LosLagos_2014'\n",
      " 'FireScar_CL-RM_Metropolitana_2014' 'FireScar_CL-LR_LosRios_2014'\n",
      " 'FireScar_CL-CO_Coquimbo_2014' 'FireScar_CL-AR_Araucania_2015'\n",
      " 'FireScar_CL-ML_Maule_2015' 'FireScar_CL-BI_BioBio_2015'\n",
      " 'FireScar_CL-LI_Ohiggins_2015' 'FireScar_CL-LL_LosLagos_2015'\n",
      " 'FireScar_CL-VS_Valparaiso_2015' 'FireScar_CL-RM_Metropolitana_2015'\n",
      " 'FireScar_CL-LR_LosRios_2015' 'FireScar_CL-CO_Coquimbo_2015'\n",
      " 'FireScar_CL-BI_BioBio_1985' 'FireScar_CL-RM_Metropolitana_2016'\n",
      " 'FireScar_CL-BI_BioBio_2016' 'FireScar_CL-AR_Araucania_2016'\n",
      " 'FireScar_CL-LR_LosRios_2016' 'FireScar_CL-VS_Valparaiso_2016'\n",
      " 'FireScar_CL-LL_LosLagos_2016' 'FireScar_CL-ML_Maule_2016'\n",
      " 'FireScar_CL-CO_Coquimbo_2016' 'FireScar_CL-LI_Ohiggins_2016'\n",
      " 'FireScar_CL-RM_Metropolitana_2017' 'FireScar_CL-BI_BioBio_2017'\n",
      " 'FireScar_CL-VS_Valparaiso_2017' 'FireScar_CL-CO_Coquimbo_2017'\n",
      " 'FireScar_CL-ML_Maule_2017' 'FireScar_CL-LI_Ohiggins_2017'\n",
      " 'FireScar_CL-AR_Araucania_2017' 'FireScar_CL-LR_LosRios_2017'\n",
      " 'FireScar_CL-LL_LosLagos_2017' 'FireScar_CL-CO_Coquimbo_2018'\n",
      " 'FireScar_CL-VS_Valparaiso_2018' 'FireScar_CL-LI_Ohiggins_2018'\n",
      " 'FireScar_CL-ML_Maule_2018' 'FireScar_CL-BI_BioBio_2018'\n",
      " 'FireScar_CL-RM_Metropolitana_1988' 'FireScar_CL-AR_Araucania_2018'\n",
      " 'FireScar_CL-LL_LosLagos_2018' 'FireScar_CL-RM_Metropolitana_2018'\n",
      " 'FireScar_CL-LR_LosRios_2018' 'FireScar_CL-CO_Coquimbo_1989'\n",
      " 'FireScar_CL-VS_Valparaiso_1989' 'FireScar_CL-LI_Ohiggins_1989'\n",
      " 'FireScar_CL-ML_Maule_1989' 'FireScar_CL-RM_Metropolitana_1989'\n",
      " 'FireScar_CL-CO_Coquimbo_1990' 'FireScar_CL-VS_Valparaiso_1990'\n",
      " 'FireScar_CL-LI_Ohiggins_1990' 'FireScar_CL-ML_Maule_1990'\n",
      " 'FireScar_CL-RM_Metropolitana_1990' 'FireScar_CL-CO_Coquimbo_1991'\n",
      " 'FireScar_CL-VS_Valparaiso_1991' 'FireScar_CL-LI_Ohiggins_1991'\n",
      " 'FireScar_CL-ML_Maule_1991' 'FireScar_CL-RM_Metropolitana_1991'\n",
      " 'FireScar_CL-CO_Coquimbo_1992' 'FireScar_CL-VS_Valparaiso_1992'\n",
      " 'FireScar_CL-LI_Ohiggins_1992' 'FireScar_CL-ML_Maule_1992'\n",
      " 'FireScar_CL-RM_Metropolitana_1992' 'FireScar_CL-CO_Coquimbo_1993'\n",
      " 'FireScar_CL-VS_Valparaiso_1993' 'FireScar_CL-LI_Ohiggins_1993'\n",
      " 'FireScar_CL-ML_Maule_1993' 'FireScar_CL-RM_Metropolitana_1993'\n",
      " 'FireScar_CL-CO_Coquimbo_1994' 'FireScar_CL-VS_Valparaiso_1994'\n",
      " 'FireScar_CL-LI_Ohiggins_1994' 'FireScar_CL-ML_Maule_1994'\n",
      " 'FireScar_CL-RM_Metropolitana_1994' 'FireScar_CL-VS_Valparaiso_1995'\n",
      " 'FireScar_CL-LI_Ohiggins_1995' 'FireScar_CL-ML_Maule_1995'\n",
      " 'FireScar_CL-RM_Metropolitana_1995' 'FireScar_CL-VS_Valparaiso_1996'\n",
      " 'FireScar_CL-LI_Ohiggins_1996' 'FireScar_CL-RM_Metropolitana_1996'\n",
      " 'FireScar_CL-ML_Maule_1996' 'FireScar_CL-LI_Ohiggins_1997'\n",
      " 'FireScar_CL-VS_Valparaiso_1997' 'FireScar_CL-RM_Metropolitana_1997'\n",
      " 'FireScar_CL-ML_Maule_1997' 'FireScar_CL-VS_Valparaiso_1998'\n",
      " 'FireScar_CL-ML_Maule_1998' 'FireScar_CL-RM_Metropolitana_1998'\n",
      " 'FireScar_CL-LI_Ohiggins_1998' 'FireScar_CL-AR_Araucania_1998'\n",
      " 'FireScar_CL-LL_LosLagos_1998' 'FireScar_CL-LR_LosRios_1998'\n",
      " 'FireScar_CL-BI_BioBio_1998' 'FireScar_CL-CO_Coquimbo_1998'\n",
      " 'FireScar_CL-AR_Araucania_1986' 'FireScar_CL-LI_Ohiggins_1999'\n",
      " 'FireScar_CL-ML_Maule_1999' 'FireScar_CL-BI_BioBio_1999'\n",
      " 'FireScar_CL-RM_Metropolitana_1999' 'FireScar_CL-AR_Araucania_1999'\n",
      " 'FireScar_CL-VS_Valparaiso_1999' 'FireScar_CL-LR_LosRios_1999'\n",
      " 'FireScar_CL-CO_Coquimbo_1999' 'FireScar_CL-LL_LosLagos_1999'\n",
      " 'FireScar_CL-LL_LosLagos_1986' 'FireScar_CL-VS_Valparaiso_2000'\n",
      " 'FireScar_CL-LI_Ohiggins_2000' 'FireScar_CL-ML_Maule_2000'\n",
      " 'FireScar_CL-AR_Araucania_2000' 'FireScar_CL-RM_Metropolitana_2000'\n",
      " 'FireScar_CL-BI_BioBio_2000' 'FireScar_CL-RM_Metropolitana_1986'\n",
      " 'FireScar_CL-VS_Valparaiso_2001' 'FireScar_CL-LI_Ohiggins_2001'\n",
      " 'FireScar_CL-ML_Maule_2001' 'FireScar_CL-BI_BioBio_2001'\n",
      " 'FireScar_CL-AR_Araucania_2001' 'FireScar_CL-LL_LosLagos_2001'\n",
      " 'FireScar_CL-RM_Metropolitana_2001' 'FireScar_CL-CO_Coquimbo_2001'\n",
      " 'FireScar_CL-AR_Araucania_2002' 'FireScar_CL-VS_Valparaiso_2002'\n",
      " 'FireScar_CL-ML_Maule_2002' 'FireScar_CL-BI_BioBio_2002'\n",
      " 'FireScar_CL-LR_LosRios_2002' 'FireScar_CL-RM_Metropolitana_2002'\n",
      " 'FireScar_CL-LL_LosLagos_2002' 'FireScar_CL-LI_Ohiggins_2002'\n",
      " 'FireScar_CL-CO_Coquimbo_2002' 'FireScar_CL-CO_Coquimbo_2003'\n",
      " 'FireScar_CL-VS_Valparaiso_2003' 'FireScar_CL-LI_Ohiggins_2003']\n",
      "firescar_img_name: [nan 'FireScar_CL-ML_ID100000_u400_20030209.tif'\n",
      " 'FireScar_CL-BI_ID10002_u500_19860203.tif' ...\n",
      " 'FireScar_CL-ML_ID99985_u550_20030206.tif'\n",
      " 'FireScar_CL-ML_ID99995_u350_20030209.tif'\n",
      " 'FireScar_CL-ML_ID99998_u600_20030209.tif']\n",
      "prefire_img_name: [nan 'ImgPreF_CL-ML_ID100000_u400_20030209.tif'\n",
      " 'ImgPreF_CL-BI_ID10002_u500_19860203.tif' ...\n",
      " 'ImgPreF_CL-ML_ID99985_u550_20030206.tif'\n",
      " 'ImgPreF_CL-ML_ID99995_u350_20030209.tif'\n",
      " 'ImgPreF_CL-ML_ID99998_u600_20030209.tif']\n",
      "postfire_img_name: [nan 'ImgPosF_CL-ML_ID100000_u400_20030209.tif'\n",
      " 'ImgPosF_CL-BI_ID10002_u500_19860203.tif' ...\n",
      " 'ImgPosF_CL-ML_ID99985_u550_20030206.tif'\n",
      " 'ImgPosF_CL-ML_ID99995_u350_20030209.tif'\n",
      " 'ImgPosF_CL-ML_ID99998_u600_20030209.tif']\n",
      "rdnbr_img_name: [nan 'RdNBR_CL-ML_ID100000_u400_20030209.tif'\n",
      " 'RdNBR_CL-BI_ID10002_u500_19860203.tif' ...\n",
      " 'RdNBR_CL-ML_ID99985_u550_20030206.tif'\n",
      " 'RdNBR_CL-ML_ID99995_u350_20030209.tif'\n",
      " 'RdNBR_CL-ML_ID99998_u600_20030209.tif']\n",
      "sev_img_name: [nan 'Severity_CL-ML_ID100000_u400_20030209.tif'\n",
      " 'Severity_CL-BI_ID10002_u500_19860203.tif' ...\n",
      " 'Severity_CL-ML_ID99985_u550_20030206.tif'\n",
      " 'Severity_CL-ML_ID99995_u350_20030209.tif'\n",
      " 'Severity_CL-ML_ID99998_u600_20030209.tif']\n",
      "firescar_vec_name: [nan 'FireScar_CL-ML_ID100000_u400_20030209.shp'\n",
      " 'FireScar_CL-BI_ID10002_u500_19860203.shp' ...\n",
      " 'FireScar_CL-ML_ID99985_u550_20030206.shp'\n",
      " 'FireScar_CL-ML_ID99995_u350_20030209.shp'\n",
      " 'FireScar_CL-ML_ID99998_u600_20030209.shp']\n",
      "sev_vec_name: [nan 'Severity_CL-ML_ID100000_u400_20030209.shp'\n",
      " 'Severity_CL-BI_ID10002_u500_19860203.shp' ...\n",
      " 'Severity_CL-ML_ID99985_u550_20030206.shp'\n",
      " 'Severity_CL-ML_ID99995_u350_20030209.shp'\n",
      " 'Severity_CL-ML_ID99998_u600_20030209.shp']\n",
      "north_lat: [         nan -35.32804518 -36.65773146 ... -35.89317532 -35.94707424\n",
      " -35.84251034]\n",
      "south_lat: [         nan -35.34044193 -36.68953182 ... -35.90341612 -35.95246413\n",
      " -35.85059518]\n",
      "west_lon: [         nan -71.58153476 -71.98092574 ... -71.83162574 -72.31752448\n",
      " -71.77745733]\n",
      "east_lon: [         nan -71.57183296 -71.93241671 ... -71.67343242 -72.40996112\n",
      " -71.52790534]\n",
      "width: [  nan   36.  180.   49.   26.  147.   39.   11.   71.   50.  212.   58.\n",
      "   32.   33.  132.   27.   98.   66.   44.   62.   17.   29.  103.   21.\n",
      "   53.  101.  130.  128.   28.   35.   64.  106.   65.  156.   76.   18.\n",
      "   12.   24.   48.   67.   74.  155.  129.   38.   47.   16.   37.   15.\n",
      "   25.   23.   75.   40.   73.   20.  111.    8.   19.   42.   82.   13.\n",
      "   22.   14.  176.   31.   70.   78.   84.   93.  198.   30.   60.  121.\n",
      "    9.  122.   59.   90.   41.    7.   68.  117.   61.  135.   91.   87.\n",
      "   45.  137.  120.   43.   83.   51.   72.  116.  486.   52.   81.  239.\n",
      "  112.  110.  126.   34.   54.   96.  124.   88.   10.   56.  162.  145.\n",
      "   46.   99.  256.   55.  148.  213.   63.  107.   94.   89.  350.   80.\n",
      "  164.  221.   79.   97.  131.  209.   92.   57.  114.  100.   69.  108.\n",
      "  161.  154.  283.  204.  272.  214.  243.  242.  280.  260.  186.   86.\n",
      "  159.   77.  168.  189.   85.  123.  141.  115.  118.  109.  104.  193.\n",
      "  144.  175.  143.  166.  138.  125.  174.  133.  105.  226.  217.   95.\n",
      "  558.  178.  146.  142.  113.  281.  165.  202.  247.  197.  220.  361.\n",
      "  419.  136.  187.  119.  102.  190.  286.    6.  157.  185.  564.  179.\n",
      "  634.  465.  205.  575.  235.  196.    5.  285.  181.  228.  238.  194.\n",
      "  234.  216.  311.  208.  151.  215.  288.  347.  172.  273.  140.  574.\n",
      "  606.  153.  314.  152.  177.  513.  413.  386.  139.  299.  342.  248.\n",
      "  200.  692.  290.  210.  233.  207.  219.  271.  530.  246.  338.  368.\n",
      "  374.  170.  134.  163.  149.  229.  277.  279.  183.  307.  436.  321.\n",
      "  127.  440.  188.  422.  329.  428.  701.    3.    4.  169.  150.  182.\n",
      "  224.  250.  423.  312.  191.  452.  399.  316.  432.  401.  481.  664.\n",
      "  284.  385.  310.  160.  526.  206.  351.  345.  298.  291.  167.  230.\n",
      "  274.  304.  232.  367.  201.  249.  218.  241.  363.  264.  318.  319.\n",
      "  346.  463.  532.  322.  381.  292.  266.  225.  580.  211. 2228.  184.\n",
      "  327.  158.  222.  251.  468.  812.  992.  402.  257.  467.  252.  379.\n",
      "  392.  297.  474.  464.  337. 2229.  354.  393.  499. 1895.  783.  605.\n",
      " 1567. 1059.  378. 1125.  635.  491.  552. 1036. 1595.  240.  294.  353.\n",
      "  192.  270.  303.  390.  376.  439.  603.  269.  339.  255.  171.  203.\n",
      "  259.  395.  195.  424.  328.  173.  332.  364.  275.  245.  296.  495.\n",
      "  365.  244.  236.  265.  679.  276.  865.  925.  836.  360.  869.  686.\n",
      "  835.  660.  680.  855.  702.  411.  410.  293.  254.  267.  403.  278.\n",
      "  389.  199.]\n",
      "height: [      nan 4.600e+01 1.180e+02 1.140e+02 2.900e+01 1.800e+02 3.200e+01\n",
      " 2.300e+01 1.550e+02 9.700e+01 1.930e+02 3.800e+01 2.200e+01 2.400e+01\n",
      " 7.200e+01 4.800e+01 8.400e+01 5.700e+01 1.400e+01 9.200e+01 2.000e+01\n",
      " 8.800e+01 8.600e+01 5.200e+01 1.100e+01 4.900e+01 8.000e+00 1.730e+02\n",
      " 9.900e+01 9.000e+01 6.700e+01 1.000e+02 2.600e+01 2.800e+01 7.500e+01\n",
      " 9.000e+00 2.100e+01 4.000e+01 4.700e+01 7.400e+01 3.100e+01 4.100e+01\n",
      " 7.100e+01 2.380e+02 5.500e+01 1.900e+01 3.500e+01 6.900e+01 8.300e+01\n",
      " 1.500e+01 4.500e+01 5.600e+01 7.700e+01 1.700e+02 6.000e+00 3.000e+01\n",
      " 3.600e+01 1.700e+01 1.300e+01 4.400e+01 6.000e+01 5.300e+01 1.600e+01\n",
      " 6.100e+01 2.700e+01 2.500e+01 1.320e+02 8.100e+01 4.300e+01 3.700e+01\n",
      " 6.600e+01 1.610e+02 1.800e+01 1.260e+02 3.300e+01 1.120e+02 3.900e+01\n",
      " 1.470e+02 7.000e+00 4.200e+01 1.500e+02 5.000e+00 1.200e+01 1.620e+02\n",
      " 6.500e+01 1.010e+02 1.600e+02 6.400e+01 5.100e+01 1.020e+02 1.110e+02\n",
      " 9.500e+01 1.080e+02 6.300e+01 7.800e+01 1.330e+02 7.300e+01 3.520e+02\n",
      " 3.400e+01 1.950e+02 7.900e+01 2.640e+02 8.500e+01 7.000e+01 1.460e+02\n",
      " 8.200e+01 5.400e+01 9.800e+01 1.000e+01 5.000e+01 1.230e+02 9.300e+01\n",
      " 6.200e+01 1.150e+02 1.280e+02 1.070e+02 9.600e+01 5.900e+01 1.240e+02\n",
      " 5.800e+01 2.430e+02 8.000e+01 1.480e+02 6.800e+01 1.050e+02 1.190e+02\n",
      " 1.040e+02 4.280e+02 1.210e+02 8.700e+01 1.390e+02 1.790e+02 9.100e+01\n",
      " 2.240e+02 2.440e+02 1.900e+02 4.440e+02 1.880e+02 2.480e+02 4.170e+02\n",
      " 2.410e+02 1.540e+02 2.300e+02 1.740e+02 2.080e+02 1.660e+02 1.220e+02\n",
      " 1.090e+02 1.690e+02 1.520e+02 1.350e+02 2.090e+02 7.600e+01 1.680e+02\n",
      " 1.030e+02 1.450e+02 1.130e+02 2.160e+02 1.580e+02 1.570e+02 2.600e+02\n",
      " 1.510e+02 1.250e+02 3.360e+02 2.150e+02 1.530e+02 2.010e+02 1.920e+02\n",
      " 1.830e+02 1.630e+02 1.760e+02 1.060e+02 1.380e+02 1.160e+02 1.360e+02\n",
      " 1.340e+02 1.890e+02 1.640e+02 2.290e+02 1.100e+02 6.080e+02 2.610e+02\n",
      " 1.087e+03 2.100e+02 2.040e+02 5.740e+02 2.910e+02 3.420e+02 4.860e+02\n",
      " 9.570e+02 5.000e+02 1.020e+03 1.310e+02 3.150e+02 9.400e+01 1.490e+02\n",
      " 1.430e+02 1.440e+02 2.250e+02 2.420e+02 1.770e+02 8.900e+01 1.420e+02\n",
      " 2.030e+02 1.170e+02 4.770e+02 3.180e+02 1.410e+02 2.180e+02 1.870e+02\n",
      " 1.670e+02 2.670e+02 2.620e+02 2.770e+02 2.840e+02 2.560e+02 2.680e+02\n",
      " 1.940e+02 2.880e+02 2.270e+02 1.850e+02 2.280e+02 2.550e+02 2.990e+02\n",
      " 2.400e+02 2.540e+02 4.000e+00 2.470e+02 2.710e+02 1.370e+02 2.500e+02\n",
      " 2.700e+02 3.130e+02 2.350e+02 1.200e+02 1.970e+02 1.270e+02 2.580e+02\n",
      " 3.300e+02 2.070e+02 2.750e+02 2.170e+02 1.400e+02 2.390e+02 2.370e+02\n",
      " 7.120e+02 1.290e+02 2.760e+02 3.780e+02 1.960e+02 1.750e+02 3.040e+02\n",
      " 5.170e+02 3.950e+02 9.670e+02 1.650e+02 2.000e+00 2.570e+02 1.560e+02\n",
      " 2.330e+02 3.110e+02 3.100e+02 1.780e+02 1.720e+02 2.930e+02 3.060e+02\n",
      " 2.020e+02 2.450e+02 2.530e+02 2.110e+02 5.140e+02 7.340e+02 6.630e+02\n",
      " 3.630e+02 5.350e+02 6.870e+02 7.400e+02 3.030e+02 3.650e+02 3.430e+02\n",
      " 3.590e+02 1.590e+02 5.380e+02 3.340e+02 1.980e+02 3.530e+02 3.870e+02\n",
      " 3.570e+02 2.460e+02 2.130e+02 2.200e+02 2.690e+02 2.320e+02 3.200e+02\n",
      " 3.710e+02 1.300e+02 4.910e+02 2.260e+02 3.020e+02 3.120e+02 4.030e+02\n",
      " 2.205e+03 2.230e+02 1.860e+02 1.910e+02 1.710e+02 5.010e+02 2.210e+02\n",
      " 4.720e+02 2.650e+02 1.010e+03 9.830e+02 2.720e+02 3.580e+02 2.120e+02\n",
      " 4.700e+02 2.810e+02 3.310e+02 2.920e+02 2.510e+02 2.830e+02 5.100e+02\n",
      " 2.660e+02 4.150e+02 3.010e+02 3.190e+02 3.170e+02 2.431e+03 2.890e+02\n",
      " 2.730e+02 3.160e+02 3.700e+02 1.286e+03 4.330e+02 6.280e+02 3.140e+02\n",
      " 4.640e+02 1.239e+03 9.120e+02 5.820e+02 4.310e+02 9.140e+02 6.470e+02\n",
      " 8.630e+02 6.010e+02 1.477e+03 1.402e+03 1.241e+03 2.433e+03 1.810e+02\n",
      " 3.000e+00 2.140e+02 1.820e+02 3.620e+02 3.860e+02 2.870e+02 2.740e+02\n",
      " 4.020e+02 3.730e+02 3.050e+02 2.360e+02 2.900e+02 1.840e+02 2.340e+02\n",
      " 2.940e+02 1.022e+03 7.470e+02 1.066e+03 4.570e+02 3.210e+02 1.099e+03\n",
      " 2.520e+02 1.154e+03 2.980e+02 1.152e+03 1.094e+03 7.870e+02 3.330e+02\n",
      " 4.410e+02 3.290e+02 4.400e+02 2.050e+02 4.160e+02 3.910e+02 4.230e+02\n",
      " 4.240e+02 3.640e+02 4.210e+02 4.670e+02 5.060e+02 3.320e+02 5.050e+02]\n",
      "total_area: [             nan  427827.19384766 3227680.69720459 ...  261178.98193359\n",
      "  178127.77404785  242417.43884277]\n",
      "area_unchs: [nan  0.]\n",
      "area_lows: [            nan      0.          22222.67669678 ...   9624.86169434\n",
      " 219678.88854981   4994.39770508]\n",
      "area_mods: [            nan 178748.09234619 710373.07238769 ...  17460.33496094\n",
      " 127961.61248779   3639.91894531]\n",
      "area_hs: [             nan  249079.10150146 2517307.62481689 ...  243718.64697266\n",
      "   50166.16156006  238777.51989746]\n",
      "firescar_poly: [      nan 1.000e+00 1.600e+01 6.000e+00 2.000e+00 5.000e+00 3.000e+00\n",
      " 7.000e+00 4.000e+00 2.200e+01 1.100e+01 8.000e+00 9.000e+00 1.000e+01\n",
      " 1.200e+01 5.100e+01 1.400e+01 1.700e+01 1.800e+01 2.000e+01 2.300e+01\n",
      " 1.500e+01 2.500e+01 1.300e+01 4.100e+01 1.900e+01 2.400e+01 3.200e+01\n",
      " 2.600e+01 2.800e+01 4.200e+01 3.100e+01 4.300e+01 6.900e+01 4.900e+01\n",
      " 3.000e+01 4.800e+01 4.600e+01 1.690e+02 3.400e+01 2.100e+01 5.700e+01\n",
      " 3.800e+01 6.300e+01 1.080e+02 1.910e+02 5.800e+01 8.000e+01 3.700e+01\n",
      " 2.900e+01 6.700e+01 3.490e+03 3.483e+03 1.420e+02 1.260e+02 1.170e+02\n",
      " 2.700e+01 5.286e+03 6.480e+02 7.100e+01 5.200e+01 1.240e+02 4.700e+01\n",
      " 9.700e+01 6.460e+02 6.910e+02 4.851e+03 3.300e+01 4.400e+01 8.300e+01\n",
      " 8.100e+01 9.100e+01 5.300e+01 3.600e+01 8.600e+01 3.500e+01 1.020e+02\n",
      " 2.070e+02 8.900e+01 6.100e+01 1.310e+02 6.400e+01 4.500e+01 6.800e+01]\n",
      "sev_poly: [       nan 5.7000e+01 4.2300e+02 1.2200e+02 2.0000e+00 3.5600e+02\n",
      " 4.7000e+01 1.9000e+01 5.5000e+01 1.2900e+02 8.3100e+02 6.0000e+01\n",
      " 2.1000e+01 1.7000e+01 3.2700e+02 2.5000e+01 1.1600e+02 8.4000e+01\n",
      " 7.0000e+01 1.3000e+01 1.2000e+01 2.1100e+02 1.5000e+01 1.4000e+01\n",
      " 3.0000e+00 1.0400e+02 2.0100e+02 7.0000e+00 5.3000e+01 1.8000e+01\n",
      " 1.0000e+00 3.1000e+01 2.4400e+02 1.0500e+02 2.4300e+02 1.1100e+02\n",
      " 1.0200e+02 9.0000e+00 5.2000e+01 3.8000e+01 4.9000e+01 2.8000e+01\n",
      " 4.3000e+01 4.2000e+01 8.2000e+01 2.9000e+01 4.0000e+00 1.9100e+02\n",
      " 3.0600e+02 4.1000e+01 2.4000e+01 3.5000e+01 2.2000e+01 7.6000e+01\n",
      " 1.8900e+02 3.0000e+01 1.0700e+02 2.7000e+01 3.4000e+01 2.0000e+01\n",
      " 7.2000e+01 1.6000e+01 3.9000e+01 8.0000e+01 2.8300e+02 5.4000e+01\n",
      " 2.3900e+02 1.1000e+02 5.9000e+01 1.1000e+01 5.0800e+02 1.3500e+02\n",
      " 5.1000e+01 3.6000e+01 2.2200e+02 3.0200e+02 5.0000e+00 2.8500e+02\n",
      " 6.2000e+01 6.7000e+01 6.0000e+00 1.6900e+02 5.8000e+01 6.3000e+01\n",
      " 1.3200e+02 3.3000e+01 2.2100e+02 1.1200e+02 2.5400e+02 1.7100e+02\n",
      " 1.6400e+02 4.0800e+02 1.1500e+02 3.2000e+01 1.3000e+02 8.5000e+01\n",
      " 8.1000e+01 4.0000e+01 1.2400e+02 2.5700e+02 2.2300e+02 1.4300e+02\n",
      " 1.0000e+02 5.9600e+02 1.1700e+02 9.3000e+01 1.1800e+02 2.8630e+03\n",
      " 5.0000e+01 1.0800e+03 2.2000e+02 6.6000e+01 3.6700e+02 7.0500e+02\n",
      " 8.7000e+01 1.6800e+02 7.8000e+01 2.7000e+02 2.6600e+02 1.4400e+02\n",
      " 2.0600e+02 2.3000e+01 1.3300e+02 7.4000e+01 8.0000e+00 6.1000e+01\n",
      " 7.3000e+01 1.0800e+02 7.7000e+01 3.5700e+02 4.9800e+02 4.4000e+01\n",
      " 9.0000e+01 4.6000e+01 1.5100e+02 2.6000e+01 3.7000e+01 5.4200e+02\n",
      " 1.5900e+02 4.5000e+01 2.4800e+02 1.4600e+02 8.3000e+01 1.6000e+02\n",
      " 3.8500e+02 5.6000e+01 8.6000e+01 1.2100e+02 6.8000e+01 6.4000e+01\n",
      " 1.0300e+02 1.0900e+02 9.1000e+01 9.9000e+01 9.7000e+01 7.9000e+01\n",
      " 8.8000e+01 1.5500e+02 2.5100e+02 1.3600e+02 1.1400e+02 2.3200e+02\n",
      " 2.6800e+02 1.0100e+02 9.8000e+01 6.2600e+02 2.4000e+02 2.8900e+02\n",
      " 1.8100e+02 1.2600e+02 4.5900e+02 1.0600e+02 1.4800e+02 1.8600e+02\n",
      " 1.5000e+02 2.4500e+02 1.4900e+02 2.7200e+02 1.3700e+02 4.9900e+02\n",
      " 2.2700e+02 4.4600e+02 2.5500e+02 1.9900e+02 5.0500e+02 5.8800e+02\n",
      " 8.9900e+02 1.2420e+03 8.9100e+02 1.0790e+03 4.3200e+02 1.7800e+02\n",
      " 1.0000e+01 2.1600e+02 2.0400e+02 6.5000e+01 3.4700e+02 1.7700e+02\n",
      " 1.1900e+02 6.9000e+01 8.9000e+01 4.0700e+02 1.2700e+02 7.1000e+01\n",
      " 9.6000e+01 1.8300e+02 2.6400e+02 4.8000e+01 1.3100e+02 1.3800e+02\n",
      " 9.2000e+01 1.9600e+02 1.4000e+02 5.2700e+02 2.1800e+02 2.1700e+02\n",
      " 2.3800e+02 1.2000e+02 3.5100e+02 1.7600e+02 2.1900e+02 2.6000e+02\n",
      " 3.4200e+02 2.4200e+02 3.8300e+02 5.4300e+02 2.7500e+02 3.6800e+02\n",
      " 2.2500e+02 4.8000e+02 1.6700e+02 3.7100e+02 1.8200e+02 6.5300e+02\n",
      " 4.1000e+02 5.7600e+02 2.1400e+02 2.8700e+02 5.2100e+02 3.3000e+02\n",
      " 1.7400e+02 4.2400e+02 2.1300e+02 6.2400e+02 7.1500e+02 5.9000e+02\n",
      " 1.0920e+03 2.6500e+02 7.1800e+02 5.1500e+02 1.2220e+03 7.4600e+02\n",
      " 2.2800e+02 1.9700e+02 1.1300e+02 1.5600e+02 7.5000e+01 2.0200e+02\n",
      " 4.5700e+02 1.8400e+02 1.9500e+02 2.9900e+02 7.5200e+02 4.0600e+02\n",
      " 9.4000e+01 1.4200e+02 3.1900e+02 1.9400e+02 3.2200e+02 1.6200e+02\n",
      " 1.2300e+02 1.5300e+02 2.4700e+02 1.6100e+02 1.2500e+02 2.0000e+02\n",
      " 3.7570e+03 7.3800e+02 1.1737e+04 7.3100e+02 9.1400e+02 2.6300e+02\n",
      " 3.9000e+03 1.0480e+03 5.9100e+02 6.0100e+02 1.4920e+03 4.6500e+03\n",
      " 9.5600e+02 6.5200e+02 4.9690e+03 9.2300e+02 3.9740e+03 9.5000e+01\n",
      " 4.5800e+02 2.5200e+02 3.1300e+02 1.6600e+02 1.5700e+02 1.8500e+02\n",
      " 2.3400e+02 1.4500e+02 4.1800e+02 2.8400e+02 1.4100e+02 1.9200e+02\n",
      " 1.3400e+02 3.3200e+02 5.6500e+02 2.7900e+02 2.6900e+02 4.6700e+02\n",
      " 4.5100e+02 5.5500e+02 4.2600e+02 5.7800e+02 5.7300e+02 1.8030e+03\n",
      " 8.4000e+02 3.1500e+02 2.4600e+02 3.2000e+02 3.4800e+02 6.8700e+02\n",
      " 5.7400e+02 5.0100e+02 1.3900e+02 2.0700e+02 1.4700e+02 5.5300e+02\n",
      " 3.2800e+02 7.0100e+02 5.7000e+02 3.4400e+02 8.4600e+02 1.7900e+02\n",
      " 3.0800e+02 4.5600e+02 1.5200e+02 6.6800e+02 1.1660e+03 1.7000e+02\n",
      " 1.9300e+02 8.1800e+02 5.7500e+02 2.2400e+02 2.6200e+02 3.0000e+02\n",
      " 2.3300e+02 3.2900e+02 2.8600e+02 2.5000e+02 4.7100e+02 2.7600e+02\n",
      " 3.6300e+02 2.9100e+02 5.2000e+02 7.0400e+02 5.1600e+02 6.0300e+02\n",
      " 7.4800e+02 6.7900e+02 9.3700e+02 8.5100e+02 1.2530e+03 2.3880e+03\n",
      " 6.5700e+02 9.1900e+02 2.4900e+02 3.1200e+02 6.5100e+02 7.1000e+02\n",
      " 5.3900e+02 9.5300e+02 4.3900e+02 1.7500e+02 3.0100e+02 1.6300e+02\n",
      " 6.7700e+02 1.9460e+03 2.1000e+02 2.7300e+02 1.0970e+03 3.0700e+02\n",
      " 8.9200e+02 2.8200e+02 3.3500e+02 5.3000e+02 4.4400e+02 7.6400e+02\n",
      " 6.9300e+02 4.3500e+02 7.6600e+02 2.8760e+03 4.0000e+02 2.2230e+03\n",
      " 1.9520e+03 1.6510e+03 1.4240e+03 2.5600e+02 1.8700e+02 2.8000e+02\n",
      " 1.0780e+03 1.8000e+02 2.1500e+02 3.1000e+02 1.5400e+02 2.0900e+02\n",
      " 6.3200e+02 1.7300e+02 3.9600e+02 2.9400e+02 2.7800e+02 3.0900e+02\n",
      " 4.9400e+02 6.4700e+02 2.7100e+02 8.4900e+02 1.0880e+03 1.8810e+03\n",
      " 3.3750e+03 5.4900e+02 2.0500e+02 9.6900e+02 4.8500e+02 5.3500e+02\n",
      " 2.4200e+03 4.6400e+02 1.9000e+02 5.2400e+02 2.9000e+02 8.4200e+02\n",
      " 4.6800e+02 2.4400e+03 1.5800e+03 2.0280e+03 9.1300e+03 1.2800e+02\n",
      " 3.3700e+02 2.0800e+02 1.8800e+02 3.1400e+02 2.1200e+02 3.2500e+02\n",
      " 6.6700e+02 4.1500e+02 5.6900e+02 6.2500e+02 6.5900e+02 2.6700e+02\n",
      " 5.5700e+02 4.2900e+02 4.1600e+02 2.3100e+02 9.0900e+02 5.8600e+02\n",
      " 6.9900e+02 6.7300e+02 2.0300e+02 4.8100e+02 6.6200e+02 5.5900e+02\n",
      " 6.8000e+02 5.8500e+02 6.5000e+02 3.5200e+02 2.3600e+02 3.4300e+02\n",
      " 8.5000e+02 4.7900e+02 2.9600e+02 3.1800e+02 3.8700e+02 1.5800e+02\n",
      " 1.8820e+03 3.1600e+02 1.2850e+03 5.3300e+02 6.9400e+02 8.7500e+02\n",
      " 1.0330e+03 1.0290e+03 1.2910e+03 6.6000e+02 1.9030e+03 1.5470e+03\n",
      " 5.2490e+03 5.3440e+03 1.0770e+03 3.7700e+02 2.2900e+02 1.0300e+03\n",
      " 6.6600e+02 2.9300e+02 4.7800e+02 2.8100e+02 4.7330e+03 4.4900e+02\n",
      " 3.8000e+02 7.9900e+02 2.6470e+03 3.0500e+02 4.0400e+02 7.1700e+02\n",
      " 4.9700e+02 4.1200e+02 2.5800e+02 3.0300e+02 5.4400e+02 1.7200e+02\n",
      " 2.4100e+02 2.9700e+02 3.3300e+02 3.9500e+02 3.9100e+02 7.8000e+02\n",
      " 3.3900e+02 6.3100e+02 4.6600e+02 1.3750e+03 2.3500e+02 3.7400e+02\n",
      " 2.7700e+02 5.1200e+02 1.1820e+03 8.5300e+02 5.7200e+02 7.1300e+02\n",
      " 4.0100e+02 4.0900e+02 3.3400e+02 4.5000e+02 7.9500e+02 3.8100e+02\n",
      " 3.2100e+02 2.9500e+02 4.1100e+02 3.8600e+02 2.6100e+02 3.8900e+02\n",
      " 4.8200e+02 1.2720e+03 9.2600e+02 5.6700e+02 7.7100e+02 1.0720e+03\n",
      " 1.0620e+03 1.0120e+03 1.5960e+03 1.8450e+03 1.6200e+03 2.3500e+03\n",
      " 1.7670e+03 5.9630e+03 4.2800e+02 1.0650e+03 3.7900e+02 2.9800e+02\n",
      " 1.6500e+02 3.9400e+02 8.1400e+02 1.6140e+03 2.1130e+03 3.9560e+03\n",
      " 6.4600e+02 1.9800e+02 8.6900e+02 5.9517e+04 5.2200e+02 2.3000e+02\n",
      " 9.6100e+02 3.2400e+02 4.3800e+02 3.3800e+02 2.5900e+02 9.9700e+02\n",
      " 5.9501e+04 1.3820e+03 5.2600e+02 4.2100e+02 6.7600e+02 4.4000e+02\n",
      " 4.3100e+02 3.8200e+02 6.8600e+02 7.9800e+02 4.7400e+02 4.6500e+02\n",
      " 3.7600e+02 7.1900e+02 2.7400e+02 4.7700e+02 1.0110e+03 1.4230e+03\n",
      " 4.4700e+02 7.7600e+02 3.1650e+03 9.5800e+02 5.4600e+02 8.7600e+02\n",
      " 1.0810e+03 1.7137e+04 7.4900e+02 8.1000e+02 1.2010e+03 2.3780e+03\n",
      " 1.1460e+03 6.8900e+02 9.5700e+02 1.7760e+03 1.4760e+03 1.2180e+03\n",
      " 5.0580e+03 1.4330e+03 1.1720e+03 2.3590e+03 1.6340e+03 1.3530e+03\n",
      " 2.6290e+03 1.6920e+03 8.7752e+04 3.3680e+03 2.7050e+03 2.8910e+03\n",
      " 2.7652e+04 3.3170e+03 3.1460e+03 3.7840e+03 3.9970e+03 1.6755e+04\n",
      " 1.5151e+04 6.3810e+03 3.7600e+03 2.9129e+04 6.4930e+03 4.7190e+03\n",
      " 2.7649e+04 3.8880e+03 2.2210e+04 2.8812e+04 1.8979e+04 8.5419e+04\n",
      " 4.6000e+02 1.5440e+03 3.6600e+02 8.9000e+02 4.7000e+02 7.2000e+02\n",
      " 6.4800e+02 5.6800e+02 1.2890e+03 7.8300e+02 9.3400e+02 1.0200e+03\n",
      " 1.3450e+03 1.3690e+03 6.7100e+02 1.0240e+03 5.1700e+02 8.6700e+02\n",
      " 7.5700e+02 6.8200e+02 8.0400e+02 1.3300e+03 3.6200e+02 4.4100e+02\n",
      " 6.9500e+02 9.4500e+02 1.4400e+03 3.6100e+02 5.0300e+02 9.7700e+02\n",
      " 5.7100e+02 3.0400e+02 6.3900e+02 1.5930e+03 7.7500e+02 4.6100e+02\n",
      " 2.3700e+02 3.9800e+02 3.6400e+02 8.4300e+02 7.5800e+02 7.0800e+02\n",
      " 5.9500e+02 6.0000e+02 1.4850e+03 9.2800e+02 1.7160e+03 1.1220e+03\n",
      " 3.9200e+02 4.7200e+02 2.2600e+02 3.2300e+02 7.6200e+02 1.0670e+03\n",
      " 2.5300e+02 5.5100e+02 6.4100e+02 3.7000e+02 1.6570e+03 5.8700e+02\n",
      " 4.6200e+02 3.7300e+02 3.7200e+02 6.0700e+02 3.4000e+02 3.2600e+02\n",
      " 3.6500e+02 1.3080e+03 9.9200e+02 1.5300e+03 6.0600e+02 3.5400e+02\n",
      " 5.5200e+02 9.6400e+02 4.2700e+02 1.2440e+03 1.8350e+03 4.9600e+02\n",
      " 3.8800e+02 3.6000e+02 7.0700e+02 5.1800e+02 5.9900e+02 3.9000e+02\n",
      " 4.3600e+02 3.5300e+02 1.3120e+03 2.3980e+03 1.1700e+03 8.6400e+02\n",
      " 8.3500e+02 9.4000e+02 3.3600e+02 5.7700e+02 5.8200e+02 3.4500e+02\n",
      " 6.9100e+02 7.2500e+02 1.1325e+04 7.1100e+02 4.1400e+02 1.0030e+03\n",
      " 4.5200e+02 7.2700e+02 5.4700e+02 3.0702e+04 2.5980e+04 7.6900e+02\n",
      " 2.2410e+03 1.1910e+03 2.3006e+04 4.0500e+02 6.0800e+02 2.4331e+04\n",
      " 1.9040e+03 1.6563e+04 1.3780e+03 2.3219e+04 1.4930e+04 1.3680e+04\n",
      " 1.0019e+04 4.8600e+02 4.9100e+02 2.1370e+03 1.1610e+03 7.5900e+02\n",
      " 2.0240e+03 7.3700e+02 2.0150e+03 1.2760e+03 1.9800e+03 1.0730e+03\n",
      " 1.6880e+03 2.2440e+03 6.3600e+02 1.8780e+03 1.6640e+03 9.1000e+02\n",
      " 7.3600e+02 2.2420e+03 1.1080e+03 5.3200e+02 7.6800e+02 9.9600e+02\n",
      " 2.0190e+03 1.3680e+03 1.7200e+03 1.7140e+03 4.8900e+02 1.1420e+03\n",
      " 2.2820e+03 6.4500e+02 1.7730e+03 4.2500e+02 1.2470e+03 1.6690e+03\n",
      " 9.0800e+02 1.0090e+03 3.4900e+02 6.3300e+02 3.7800e+02 9.7900e+02\n",
      " 5.9800e+02 7.3000e+02]\n",
      "overlap: [nan 'ID5377' 'ID5956, ID5964' ... 'ID7137' 'ID8240' 'ID100150']\n",
      "obs: [nan 'The ignition point is located in the current CL-NB region'\n",
      " 'The ignition point is located in the CL-LI region'\n",
      " 'The ignition point is located in the CL-VS region'\n",
      " 'The ignition point is located in the CL-AR region'\n",
      " 'The ignition point is located in the CL-ML region'\n",
      " 'The ignition point is located in the CL-BI region'\n",
      " 'The ignition point is located in the CL-RM region'\n",
      " 'The ignition point is located in the CL-CO region'\n",
      " 'The ignition point is located in the CL-LR region']\n"
     ]
    }
   ],
   "source": [
    "# Revisión de valores únicos por columna\n",
    "cols = cicatrices_incedios.columns.tolist()\n",
    "for col in cols:\n",
    "    print(f\"{col}: {cicatrices_incedios[col].unique()}\")"
   ]
  },
  {
   "cell_type": "code",
   "execution_count": 8,
   "metadata": {},
   "outputs": [
    {
     "data": {
      "application/vnd.plotly.v1+json": {
       "config": {
        "plotlyServerURL": "https://plot.ly"
       },
       "data": [
        {
         "branchvalues": "total",
         "domain": {
          "x": [
           0,
           1
          ],
          "y": [
           0,
           1
          ]
         },
         "hovertemplate": "labels=%{label}<br>count=%{value}<br>parent=%{parent}<br>id=%{id}<extra></extra>",
         "ids": [
          "Biobío/01",
          "Maule/02",
          "Ñuble/02",
          "La Araucanía/03",
          "Maule/01",
          "Valparaíso/01",
          "OHiggins/01",
          "La Araucanía/02",
          "Maule/03",
          "Ñuble/01",
          "La Araucanía/12",
          "Maule/04",
          "Los Ríos/01",
          "Maule/11",
          "Maule/05",
          "Biobío/03",
          "Ñuble/03",
          "Coquimbo/01",
          "Biobío/02",
          "Valparaíso/11",
          "Ñuble/04",
          "Biobío/04",
          "Valparaíso/02",
          "Ñuble/05",
          "Valparaíso/12",
          "Biobío/11",
          "Biobío/12",
          "Biobío/05",
          "La Araucanía/01",
          "La Araucanía/04",
          "Los Lagos/01",
          "Los Ríos/02",
          "Los Ríos/03",
          "Los Lagos/04",
          "Santiago/07",
          "Santiago/11",
          "Santiago/12",
          "Santiago/01",
          "Santiago/02",
          "OHiggins/03",
          "Santiago/03",
          "Santiago/04",
          "Valparaíso/03",
          "Coquimbo/12",
          "Valparaíso/04",
          "OHiggins/12",
          "OHiggins/02",
          "Coquimbo/02",
          "OHiggins/10",
          "La Araucanía/10",
          "Ñuble/12",
          "Coquimbo/04",
          "Maule/12",
          "Los Ríos/08",
          "Coquimbo/10",
          "Coquimbo/11",
          "Los Lagos/02",
          "OHiggins/11",
          "Maule/10",
          "Coquimbo/03",
          "OHiggins/04",
          "Los Lagos/11",
          "Valparaíso/09",
          "OHiggins/05",
          "Biobío/09",
          "Santiago/05",
          "Los Ríos/12",
          "Los Lagos/12",
          "Ñuble/11",
          "La Araucanía/11",
          "Los Lagos/03",
          "Coquimbo/09",
          "Coquimbo/05",
          "Santiago/06",
          "Valparaíso/10",
          "Valparaíso/05",
          "Santiago/10",
          "Santiago/09",
          "Maule/08",
          "Maule/09",
          "Ñuble/09",
          "Ñuble/10",
          "Valparaíso/06",
          "Biobío/10",
          "OHiggins/09",
          "Maule/06",
          "Valparaíso/08",
          "Maule/07",
          "Los Ríos/04",
          "Los Ríos/11",
          "Los Ríos/05",
          "Los Lagos/05",
          "Valparaíso/07",
          "La Araucanía/09",
          "Los Lagos/10",
          "Coquimbo/08",
          "OHiggins/07",
          "Los Ríos/10",
          "Biobío",
          "Maule",
          "Ñuble",
          "La Araucanía",
          "Valparaíso",
          "OHiggins",
          "Los Ríos",
          "Coquimbo",
          "Los Lagos",
          "Santiago"
         ],
         "labels": [
          "01",
          "02",
          "02",
          "03",
          "01",
          "01",
          "01",
          "02",
          "03",
          "01",
          "12",
          "04",
          "01",
          "11",
          "05",
          "03",
          "03",
          "01",
          "02",
          "11",
          "04",
          "04",
          "02",
          "05",
          "12",
          "11",
          "12",
          "05",
          "01",
          "04",
          "01",
          "02",
          "03",
          "04",
          "07",
          "11",
          "12",
          "01",
          "02",
          "03",
          "03",
          "04",
          "03",
          "12",
          "04",
          "12",
          "02",
          "02",
          "10",
          "10",
          "12",
          "04",
          "12",
          "08",
          "10",
          "11",
          "02",
          "11",
          "10",
          "03",
          "04",
          "11",
          "09",
          "05",
          "09",
          "05",
          "12",
          "12",
          "11",
          "11",
          "03",
          "09",
          "05",
          "06",
          "10",
          "05",
          "10",
          "09",
          "08",
          "09",
          "09",
          "10",
          "06",
          "10",
          "09",
          "06",
          "08",
          "07",
          "04",
          "11",
          "05",
          "05",
          "07",
          "09",
          "10",
          "08",
          "07",
          "10",
          "Biobío",
          "Maule",
          "Ñuble",
          "La Araucanía",
          "Valparaíso",
          "OHiggins",
          "Los Ríos",
          "Coquimbo",
          "Los Lagos",
          "Santiago"
         ],
         "name": "",
         "parents": [
          "Biobío",
          "Maule",
          "Ñuble",
          "La Araucanía",
          "Maule",
          "Valparaíso",
          "OHiggins",
          "La Araucanía",
          "Maule",
          "Ñuble",
          "La Araucanía",
          "Maule",
          "Los Ríos",
          "Maule",
          "Maule",
          "Biobío",
          "Ñuble",
          "Coquimbo",
          "Biobío",
          "Valparaíso",
          "Ñuble",
          "Biobío",
          "Valparaíso",
          "Ñuble",
          "Valparaíso",
          "Biobío",
          "Biobío",
          "Biobío",
          "La Araucanía",
          "La Araucanía",
          "Los Lagos",
          "Los Ríos",
          "Los Ríos",
          "Los Lagos",
          "Santiago",
          "Santiago",
          "Santiago",
          "Santiago",
          "Santiago",
          "OHiggins",
          "Santiago",
          "Santiago",
          "Valparaíso",
          "Coquimbo",
          "Valparaíso",
          "OHiggins",
          "OHiggins",
          "Coquimbo",
          "OHiggins",
          "La Araucanía",
          "Ñuble",
          "Coquimbo",
          "Maule",
          "Los Ríos",
          "Coquimbo",
          "Coquimbo",
          "Los Lagos",
          "OHiggins",
          "Maule",
          "Coquimbo",
          "OHiggins",
          "Los Lagos",
          "Valparaíso",
          "OHiggins",
          "Biobío",
          "Santiago",
          "Los Ríos",
          "Los Lagos",
          "Ñuble",
          "La Araucanía",
          "Los Lagos",
          "Coquimbo",
          "Coquimbo",
          "Santiago",
          "Valparaíso",
          "Valparaíso",
          "Santiago",
          "Santiago",
          "Maule",
          "Maule",
          "Ñuble",
          "Ñuble",
          "Valparaíso",
          "Biobío",
          "OHiggins",
          "Maule",
          "Valparaíso",
          "Maule",
          "Los Ríos",
          "Los Ríos",
          "Los Ríos",
          "Los Lagos",
          "Valparaíso",
          "La Araucanía",
          "Los Lagos",
          "Coquimbo",
          "OHiggins",
          "Los Ríos",
          "",
          "",
          "",
          "",
          "",
          "",
          "",
          "",
          "",
          ""
         ],
         "textinfo": "label+percent parent",
         "type": "sunburst",
         "values": {
          "bdata": "fQJeAV4BZwKqASYCmwG3A/8AGgF1AHYAQAAyAAYAmQEpATcAjgKPAGkAmQBHAQQAlQE3AK8ACABKAjoAdQCPAFgAAwABAJkAOQE3AaQApABUABwAwgAyAF8A4wD0ADAACwAKAD4ABQDDAAIACgAlAOUAPwAPABgATwARAAcAGAAOAAoAGgBSAAsAHQBFAAMABAAHAB8AHQAZAAIAAQAIAAIABAAEABYAAQABAAMAAwAGAAUAAQABAAIABAADAAEAAQACAE8IlAVdBEIJ/gbJBFEB7QAJAkoE",
          "dtype": "i2"
         }
        }
       ],
       "layout": {
        "legend": {
         "tracegroupgap": 0
        },
        "margin": {
         "t": 60
        },
        "template": {
         "data": {
          "bar": [
           {
            "error_x": {
             "color": "#2a3f5f"
            },
            "error_y": {
             "color": "#2a3f5f"
            },
            "marker": {
             "line": {
              "color": "#E5ECF6",
              "width": 0.5
             },
             "pattern": {
              "fillmode": "overlay",
              "size": 10,
              "solidity": 0.2
             }
            },
            "type": "bar"
           }
          ],
          "barpolar": [
           {
            "marker": {
             "line": {
              "color": "#E5ECF6",
              "width": 0.5
             },
             "pattern": {
              "fillmode": "overlay",
              "size": 10,
              "solidity": 0.2
             }
            },
            "type": "barpolar"
           }
          ],
          "carpet": [
           {
            "aaxis": {
             "endlinecolor": "#2a3f5f",
             "gridcolor": "white",
             "linecolor": "white",
             "minorgridcolor": "white",
             "startlinecolor": "#2a3f5f"
            },
            "baxis": {
             "endlinecolor": "#2a3f5f",
             "gridcolor": "white",
             "linecolor": "white",
             "minorgridcolor": "white",
             "startlinecolor": "#2a3f5f"
            },
            "type": "carpet"
           }
          ],
          "choropleth": [
           {
            "colorbar": {
             "outlinewidth": 0,
             "ticks": ""
            },
            "type": "choropleth"
           }
          ],
          "contour": [
           {
            "colorbar": {
             "outlinewidth": 0,
             "ticks": ""
            },
            "colorscale": [
             [
              0,
              "#0d0887"
             ],
             [
              0.1111111111111111,
              "#46039f"
             ],
             [
              0.2222222222222222,
              "#7201a8"
             ],
             [
              0.3333333333333333,
              "#9c179e"
             ],
             [
              0.4444444444444444,
              "#bd3786"
             ],
             [
              0.5555555555555556,
              "#d8576b"
             ],
             [
              0.6666666666666666,
              "#ed7953"
             ],
             [
              0.7777777777777778,
              "#fb9f3a"
             ],
             [
              0.8888888888888888,
              "#fdca26"
             ],
             [
              1,
              "#f0f921"
             ]
            ],
            "type": "contour"
           }
          ],
          "contourcarpet": [
           {
            "colorbar": {
             "outlinewidth": 0,
             "ticks": ""
            },
            "type": "contourcarpet"
           }
          ],
          "heatmap": [
           {
            "colorbar": {
             "outlinewidth": 0,
             "ticks": ""
            },
            "colorscale": [
             [
              0,
              "#0d0887"
             ],
             [
              0.1111111111111111,
              "#46039f"
             ],
             [
              0.2222222222222222,
              "#7201a8"
             ],
             [
              0.3333333333333333,
              "#9c179e"
             ],
             [
              0.4444444444444444,
              "#bd3786"
             ],
             [
              0.5555555555555556,
              "#d8576b"
             ],
             [
              0.6666666666666666,
              "#ed7953"
             ],
             [
              0.7777777777777778,
              "#fb9f3a"
             ],
             [
              0.8888888888888888,
              "#fdca26"
             ],
             [
              1,
              "#f0f921"
             ]
            ],
            "type": "heatmap"
           }
          ],
          "histogram": [
           {
            "marker": {
             "pattern": {
              "fillmode": "overlay",
              "size": 10,
              "solidity": 0.2
             }
            },
            "type": "histogram"
           }
          ],
          "histogram2d": [
           {
            "colorbar": {
             "outlinewidth": 0,
             "ticks": ""
            },
            "colorscale": [
             [
              0,
              "#0d0887"
             ],
             [
              0.1111111111111111,
              "#46039f"
             ],
             [
              0.2222222222222222,
              "#7201a8"
             ],
             [
              0.3333333333333333,
              "#9c179e"
             ],
             [
              0.4444444444444444,
              "#bd3786"
             ],
             [
              0.5555555555555556,
              "#d8576b"
             ],
             [
              0.6666666666666666,
              "#ed7953"
             ],
             [
              0.7777777777777778,
              "#fb9f3a"
             ],
             [
              0.8888888888888888,
              "#fdca26"
             ],
             [
              1,
              "#f0f921"
             ]
            ],
            "type": "histogram2d"
           }
          ],
          "histogram2dcontour": [
           {
            "colorbar": {
             "outlinewidth": 0,
             "ticks": ""
            },
            "colorscale": [
             [
              0,
              "#0d0887"
             ],
             [
              0.1111111111111111,
              "#46039f"
             ],
             [
              0.2222222222222222,
              "#7201a8"
             ],
             [
              0.3333333333333333,
              "#9c179e"
             ],
             [
              0.4444444444444444,
              "#bd3786"
             ],
             [
              0.5555555555555556,
              "#d8576b"
             ],
             [
              0.6666666666666666,
              "#ed7953"
             ],
             [
              0.7777777777777778,
              "#fb9f3a"
             ],
             [
              0.8888888888888888,
              "#fdca26"
             ],
             [
              1,
              "#f0f921"
             ]
            ],
            "type": "histogram2dcontour"
           }
          ],
          "mesh3d": [
           {
            "colorbar": {
             "outlinewidth": 0,
             "ticks": ""
            },
            "type": "mesh3d"
           }
          ],
          "parcoords": [
           {
            "line": {
             "colorbar": {
              "outlinewidth": 0,
              "ticks": ""
             }
            },
            "type": "parcoords"
           }
          ],
          "pie": [
           {
            "automargin": true,
            "type": "pie"
           }
          ],
          "scatter": [
           {
            "fillpattern": {
             "fillmode": "overlay",
             "size": 10,
             "solidity": 0.2
            },
            "type": "scatter"
           }
          ],
          "scatter3d": [
           {
            "line": {
             "colorbar": {
              "outlinewidth": 0,
              "ticks": ""
             }
            },
            "marker": {
             "colorbar": {
              "outlinewidth": 0,
              "ticks": ""
             }
            },
            "type": "scatter3d"
           }
          ],
          "scattercarpet": [
           {
            "marker": {
             "colorbar": {
              "outlinewidth": 0,
              "ticks": ""
             }
            },
            "type": "scattercarpet"
           }
          ],
          "scattergeo": [
           {
            "marker": {
             "colorbar": {
              "outlinewidth": 0,
              "ticks": ""
             }
            },
            "type": "scattergeo"
           }
          ],
          "scattergl": [
           {
            "marker": {
             "colorbar": {
              "outlinewidth": 0,
              "ticks": ""
             }
            },
            "type": "scattergl"
           }
          ],
          "scattermap": [
           {
            "marker": {
             "colorbar": {
              "outlinewidth": 0,
              "ticks": ""
             }
            },
            "type": "scattermap"
           }
          ],
          "scattermapbox": [
           {
            "marker": {
             "colorbar": {
              "outlinewidth": 0,
              "ticks": ""
             }
            },
            "type": "scattermapbox"
           }
          ],
          "scatterpolar": [
           {
            "marker": {
             "colorbar": {
              "outlinewidth": 0,
              "ticks": ""
             }
            },
            "type": "scatterpolar"
           }
          ],
          "scatterpolargl": [
           {
            "marker": {
             "colorbar": {
              "outlinewidth": 0,
              "ticks": ""
             }
            },
            "type": "scatterpolargl"
           }
          ],
          "scatterternary": [
           {
            "marker": {
             "colorbar": {
              "outlinewidth": 0,
              "ticks": ""
             }
            },
            "type": "scatterternary"
           }
          ],
          "surface": [
           {
            "colorbar": {
             "outlinewidth": 0,
             "ticks": ""
            },
            "colorscale": [
             [
              0,
              "#0d0887"
             ],
             [
              0.1111111111111111,
              "#46039f"
             ],
             [
              0.2222222222222222,
              "#7201a8"
             ],
             [
              0.3333333333333333,
              "#9c179e"
             ],
             [
              0.4444444444444444,
              "#bd3786"
             ],
             [
              0.5555555555555556,
              "#d8576b"
             ],
             [
              0.6666666666666666,
              "#ed7953"
             ],
             [
              0.7777777777777778,
              "#fb9f3a"
             ],
             [
              0.8888888888888888,
              "#fdca26"
             ],
             [
              1,
              "#f0f921"
             ]
            ],
            "type": "surface"
           }
          ],
          "table": [
           {
            "cells": {
             "fill": {
              "color": "#EBF0F8"
             },
             "line": {
              "color": "white"
             }
            },
            "header": {
             "fill": {
              "color": "#C8D4E3"
             },
             "line": {
              "color": "white"
             }
            },
            "type": "table"
           }
          ]
         },
         "layout": {
          "annotationdefaults": {
           "arrowcolor": "#2a3f5f",
           "arrowhead": 0,
           "arrowwidth": 1
          },
          "autotypenumbers": "strict",
          "coloraxis": {
           "colorbar": {
            "outlinewidth": 0,
            "ticks": ""
           }
          },
          "colorscale": {
           "diverging": [
            [
             0,
             "#8e0152"
            ],
            [
             0.1,
             "#c51b7d"
            ],
            [
             0.2,
             "#de77ae"
            ],
            [
             0.3,
             "#f1b6da"
            ],
            [
             0.4,
             "#fde0ef"
            ],
            [
             0.5,
             "#f7f7f7"
            ],
            [
             0.6,
             "#e6f5d0"
            ],
            [
             0.7,
             "#b8e186"
            ],
            [
             0.8,
             "#7fbc41"
            ],
            [
             0.9,
             "#4d9221"
            ],
            [
             1,
             "#276419"
            ]
           ],
           "sequential": [
            [
             0,
             "#0d0887"
            ],
            [
             0.1111111111111111,
             "#46039f"
            ],
            [
             0.2222222222222222,
             "#7201a8"
            ],
            [
             0.3333333333333333,
             "#9c179e"
            ],
            [
             0.4444444444444444,
             "#bd3786"
            ],
            [
             0.5555555555555556,
             "#d8576b"
            ],
            [
             0.6666666666666666,
             "#ed7953"
            ],
            [
             0.7777777777777778,
             "#fb9f3a"
            ],
            [
             0.8888888888888888,
             "#fdca26"
            ],
            [
             1,
             "#f0f921"
            ]
           ],
           "sequentialminus": [
            [
             0,
             "#0d0887"
            ],
            [
             0.1111111111111111,
             "#46039f"
            ],
            [
             0.2222222222222222,
             "#7201a8"
            ],
            [
             0.3333333333333333,
             "#9c179e"
            ],
            [
             0.4444444444444444,
             "#bd3786"
            ],
            [
             0.5555555555555556,
             "#d8576b"
            ],
            [
             0.6666666666666666,
             "#ed7953"
            ],
            [
             0.7777777777777778,
             "#fb9f3a"
            ],
            [
             0.8888888888888888,
             "#fdca26"
            ],
            [
             1,
             "#f0f921"
            ]
           ]
          },
          "colorway": [
           "#636efa",
           "#EF553B",
           "#00cc96",
           "#ab63fa",
           "#FFA15A",
           "#19d3f3",
           "#FF6692",
           "#B6E880",
           "#FF97FF",
           "#FECB52"
          ],
          "font": {
           "color": "#2a3f5f"
          },
          "geo": {
           "bgcolor": "white",
           "lakecolor": "white",
           "landcolor": "#E5ECF6",
           "showlakes": true,
           "showland": true,
           "subunitcolor": "white"
          },
          "hoverlabel": {
           "align": "left"
          },
          "hovermode": "closest",
          "mapbox": {
           "style": "light"
          },
          "paper_bgcolor": "white",
          "plot_bgcolor": "#E5ECF6",
          "polar": {
           "angularaxis": {
            "gridcolor": "white",
            "linecolor": "white",
            "ticks": ""
           },
           "bgcolor": "#E5ECF6",
           "radialaxis": {
            "gridcolor": "white",
            "linecolor": "white",
            "ticks": ""
           }
          },
          "scene": {
           "xaxis": {
            "backgroundcolor": "#E5ECF6",
            "gridcolor": "white",
            "gridwidth": 2,
            "linecolor": "white",
            "showbackground": true,
            "ticks": "",
            "zerolinecolor": "white"
           },
           "yaxis": {
            "backgroundcolor": "#E5ECF6",
            "gridcolor": "white",
            "gridwidth": 2,
            "linecolor": "white",
            "showbackground": true,
            "ticks": "",
            "zerolinecolor": "white"
           },
           "zaxis": {
            "backgroundcolor": "#E5ECF6",
            "gridcolor": "white",
            "gridwidth": 2,
            "linecolor": "white",
            "showbackground": true,
            "ticks": "",
            "zerolinecolor": "white"
           }
          },
          "shapedefaults": {
           "line": {
            "color": "#2a3f5f"
           }
          },
          "ternary": {
           "aaxis": {
            "gridcolor": "white",
            "linecolor": "white",
            "ticks": ""
           },
           "baxis": {
            "gridcolor": "white",
            "linecolor": "white",
            "ticks": ""
           },
           "bgcolor": "#E5ECF6",
           "caxis": {
            "gridcolor": "white",
            "linecolor": "white",
            "ticks": ""
           }
          },
          "title": {
           "x": 0.05
          },
          "xaxis": {
           "automargin": true,
           "gridcolor": "white",
           "linecolor": "white",
           "ticks": "",
           "title": {
            "standoff": 15
           },
           "zerolinecolor": "white",
           "zerolinewidth": 2
          },
          "yaxis": {
           "automargin": true,
           "gridcolor": "white",
           "linecolor": "white",
           "ticks": "",
           "title": {
            "standoff": 15
           },
           "zerolinecolor": "white",
           "zerolinewidth": 2
          }
         }
        }
       }
      }
     },
     "metadata": {},
     "output_type": "display_data"
    }
   ],
   "source": [
    "# Asegurarse que ign_date_conaf es de tipo datetime\n",
    "cicatrices_incedios[\"ign_date_conaf\"] = pd.to_datetime(cicatrices_incedios[\"ign_date_conaf\"])\n",
    "\n",
    "# Extraer solo el mes en formato numérico (01, 02, ..., 12)\n",
    "cicatrices_incedios[\"mes_incendio\"] = cicatrices_incedios[\"ign_date_conaf\"].dt.strftime(\"%m\")\n",
    "\n",
    "# Crear el gráfico Sunburst\n",
    "fig = px.sunburst(cicatrices_incedios, path=[\"region_conaf\", \"mes_incendio\"])\n",
    "fig.update_traces(textinfo=\"label+percent parent\")\n",
    "fig.show()"
   ]
  },
  {
   "cell_type": "code",
   "execution_count": 9,
   "metadata": {},
   "outputs": [
    {
     "ename": "TypeError",
     "evalue": "Could not convert string '01020202020202030202010201010202020303030201030203031203030404010404041104020404040204041201020505020101030304040301010101010101010102021102020202020202020203030303110303030303031103030404040404040404040404040201020301030303040404050102120412111201010101010202020202030405020202030505120101010101020202020202020202020303030303030303030303030303030303030303030303030303040404020203030402010103010201121201010101120101020202021202020203030303030303030301020401010202020203030303010101010102030401020207111112121212121212121212121212120101010101010101010102020202020202010202020303030304010101020101020202020202020202020202020202020202020202030312020303040404010101010101010102011202020203010103021201010304100212020302030302100311111212120103020302020303010112030202120102111202031204121212120312120202030202020301010802020103020302010203030201010201020210111102121202010102020203121201010202120202030201030301010108111203030301120212010102020302120201110101020101020202030112020202010111021212020302020303010201020201010303020202030212120202030502121212121201021202030201020202010212120101020203020212030112011002011012120201021003010102111112120303020201020112110102030303030312120301020311020102010102030211021111121212021201010102110101010302010202101212011212010103020103010201010202020112010302020112010201021201010202010212030203021103111203020202011002120112120101110102020201010202021212020102020102020201010101111212021212020102121202120301020201020101010101010212021203120203010102010112121212010201120101020212010111020112120202020202030303030404040404040412010101020202020212020303020301030303030101010101020102020403010204121212010101010202031212010102030401010102020303030304010303040404020204010401120202010112020204010303121201010203010202020203040401020202020203120404010311031212120203010201030101020102020211040202010202011201021212120101010102030312010101010102020101010102020203030204020303020312010102030102010204030204010212020102040201020101011209120103051201010203010102030102040202020201020101020202010103020301020201010204010212110302120101010402010101031212010104020304020201030102121212030204030301010302031103110301110203020101120202030201020202040101010204020212030201020202120402040202010112020102020201111201030302120402010201030212020302010104020302020103030103030101040101030202040103011201020202020202020201030302010212120102040201020112040102010402041204011212030201030201010402010102020101010112020112010201010202121212010202011201120101010202020202020202020202021202020202020202020202020303030303030303030303030303030303030303030303030303030101020112020512120101020203030401020203010104010109030102111111111201010502020303040402010311121202030203030203030302020411121211020202121204110101010102020303030302031111121212121201020202110203010103010102030302111212120101010404010102010101041203111201030311011211111112120103041204020211110103010410120512010202020211121201020201010412010103010102030202021201011201010201040211020301021204091203010212010205011201031112120312110101011212020203040311011201051202020101010501021102120205010301021201030202010103010101010101040202020202020202020202020203090105111101010104120304010102010101110311121202020103120303020302020212041201030212030201020312020301020610020305020412030211030101020201030202120111101212020203030402010201010303040401120202030312120612050511121203030102010301120101010403010302020202110302011102120312120202120202111201010203120202020302120212010103020303030302010412120101010112050301010102121202030101120103010101010101010101010101010101010101010112010102020102020202020212020402030304030304030304030303030303030303030303030303030303030303030303030303030303030303030303030303030303030303030303030303030312040101040101010401010401010101040101010101010401020204020201101202020101020202030303050202020501020303120101111111120203041201030502020201030312030312010202020203020204030103020103010201021104010101111202020203020201010101010303020302020103030202010112011010111201010304040102100201020202030202010402111202020102010202011212010202010204120102021202120402030102030202090103010102020304010202030103020102010203120102010202091103011201020202030102010202110111021201010202100101080101010202030202010203011103020202020101020202091103010202030201030103040102031001020201011202010102020203020203010202020202031201010202010303041102120301010102021203010201030401120102020302021202020212010202020202010201020102020302020202020101020202020203020212011212010201010101010203021202020103020201020211020902021002020101030212020201020202010204110202020202010202010304020202040202020202020303030303030303030303030303030303030303030303030303030303030303030303030303121212121212121212010101031202011101010109010112041203010103010112030301010103120104111201010211010204010101020312010101010102011101020202010101020201110303031201020103010201020201020301030202031201030101010103040101030103020212020101020203010103120102010104111202030101011212120103010101010111040302120202030102030212120203090102010101020201010202020101010304030202020203010302110101030202110202010101010202031101030203030401010302020212120301040203020202030201030302120101020104021103030101020312010203010202031202030301020303010102120301040201041202020209010104010112010102010101030303010102040103010201011201010304010101010201020104010102011102030202120103100112120111010303020112010204020203010202031103040404040203030112010402030210110312030103030201010101010302020201010202010101020112040112010102010202020102021201121203010301030103020103020101010201020103010402020103030102030202010101120301010201020201010302020201110101010101040101010312120101030101010101010101010101020202020303030304040102010201120201120109010204050102111212010211120212011212020312010201020102010301011103120102010102121203091201040101020201030202090101021201040212120102120101090212121209041201011204120101021201090112111201010101121201040103040210020212121203030103120302011201120102120109031112010304030101030102120112010203010301031201111209040202020104120112010102120101021212090312121101120102011002030401011203120101121201011203120312041002011202120301121202020102120111011201021212010201010102020304021203021212010301121201010401030304121212011201121201120101121101030101050212120112120112120112120101010112040101040103040102030303110203020303030303020301020203010102020301020202030303030301010303030302020202020203030102020201120102010203030302020203020203031201020103030201011201020102030103020303101202030303020312031201010202031101041102020201021212121201010201010101010303100101030103030302020202010212121104041212010102020301010103010203020302121110020201051102020201011211120101030303030102010312120102010212100303010301030102020301010101020211020303010303030303120103110101030302020101010101010401010102050103030312110101120203010602120101010310110301020202030101120202040101020301020202010202020501110205020312020201020202030412040102120203020211120203050202120103120212011211120203010101030104120101020109040301011112010102020101120102010302030305011201030202121203120301120512120104021201021201021205041212020212020101011201030202121203011202010202030203030302030303010203030203020302030103030203020202020102020303030103020202020112020203030202021212120212120303031202020202121201120104041201020511121112010101020203011104051201120402040203121202110102020103111202011212020202021101120101120304120112010402120412011112010202040112021201120202120310121201020312020201010402021202010503020201020101110102010112020103010212120111021203041212010203010112030212120202030302120203010401110202040103020102010101120101120102041203011101120102020312030301030311010205111210010112120302040112090412010202010101010112120202110201010102020202030312011201021002020101010102110102031112010201010211120112010303030101040203010301120102010310020101021201030301020112120203020112031201120204020201110301021202010201121202120101020101021201010101010101010102020202020204030303030303030404030510020201011112011001020302020204021101020203011111111201020112020212120110121102030201110412110102110403111101020302010501010303020102020311040311010901020502010202030401020211121201030212020212020302110303020103010202010303020403111002111204020103040602120204020111110101010201030201020303011211010301120301040202030312120203020103030303010103110403030203011103030203030412030201011203030302120112010303010211030102010203010402030212011202021202030402030201030101020202030202040201030101010201010203010203120104020202060101020903120404040405120101010101010101020303040404041112010101010101020202020303040404040404040403110103010201051212120901110101020301120104120101120112101111120202040203020102031104031211010103041211030112010302020101010311010301111101010111020202030303021012010303020301110101011112011212020102100203121201010301021211010312010111010312030301111112010103110211011212120101020112020401120103010102120101100302010202030303011201090911030201031001110101041202040404010101010101121202010102010212120104010101021203031101020401120101011101011201010102110201011212010211110202011112120301010103120102021201020101010112020101020202010112010202041101010502010102010112010301030101020101010102030101010101030201010312010301020101010804010101010112010112030101011211010301021212010204121101100101010111110111010112120202120112010304120201020101010102010412121212120101010101010101020203010101010101040101010104010101101201011212010112070403031112011112011212121201010112010111011203010112020101011212010301120103040112011212010101011201121201010101011212120101010101121201010101010101020202020202020202020202020202020212020211030212031102030203030101010412041201110306050512120102040211030303030202030311020202020312010102030201010202021203020212050202020302011201010102020202020112110212120202040104021210121201011201030303020101031202020202030403021201020202121102021201040102020102020202030302030502020101010202010301020303030202010103010203011101010202040101010201030304040101010102010102020203030103011201020302010303120303120102010101010202020403020201030102120305020203020212020102020301030302011212020212030401020203030103120202010201021201010301031203010303040101010202021101011102030103030102030202030102030101030103030301030203020203010103030303010201110103010102010203030202030301110303020202020601010112020312020101020102020202020301030101010201030201010102120102010202120102020204020202010203031202020101030201020212120203020201120201030212020104020101040101030202121204020103010202040202010202020101020312020203020102041203020102030203020302010203010103010202030303010102010302010103030303010103040203020103010201031101010101020203010101020302010101020304050303020201021203030102010302020203010103010302030202020211010202120102020202010202020301021202031202020304030203010203030102030301030202030102020301020202020202100102020301010303020112030204010201010301010301120204020302020202020101010208020102020201020201010201030302020201020203020202030202020103010101010101020302020301030603020202020211010106120303020203020102020102030101030102120201030202020101020101020103010301020202020203030202020303030302020203020201020201030302010302020303020302120202030202020203010202020202010202010202030301010303040303040404040404040404040404040202030403020201020301030303030304040404040412121201010202110303030103010103060302010303020207070101020203040401020202030303110202020203030204111212121201010304020402010202010302010301030312020302020301020103030202030112021201020203030302020202030303030203020203030402020202030303011202020302020112030203030102011202010203120102021202010102120302021201010202020203020102030202020303041112120304120205020102030112020303030302020211031202121201030303020102120102120303030304040310121203020303020202020202030303111204030201020302020303040503010302020302020301010303030203030301031203010202010102020101021212020202020203030103030203010302021103020103030202120202030202010302020301030312020103010202040303010201010102010303010102020204021202030202031202010201020312020101020101030303021103120302040102030311020203020201030303030203010303070303021202020203020302120301040203030303010203120202020303020303030101040102030203120202011002020203020203020102020102120312110112020202030101011203020303021201030102020302020202020202020202020202020304040102020202010202020202020202020202020202020202020212021201121201120311010102020104010301010103020112120203010201010202041011111212121202121212010203010311120103030202020402121212011111121102010201011103010101010110110402010103120201010101101203120101040112011201021009110303010101121103010102121111120512110111121003010104010903111201011112011212120111040102010902031011120103111212010201120101120112120101040303010302010310111111120102120301020111030912010201041101020112110101010211011209121212010311020101010101120101011112010101100303010202010101120308120112120103020112020101120101010103121101010901030301010101010102120211030111030401030101011102110301120312020401090901120203120101010312110111110101030912121203010101120109091211111111110409010102011112010201010102010112010112010101010101110112100301020101100111020112120103120303121110120112031011110111020101110201010101110111011002100112010101121212010102020201010111031201111201010101110201111201120101010102030901110112121211110112010301011201010101010111021101011110111101120101121101010101010103110111111101111211120112120101010111011202030112010212011101111211011212021212011101120111011101010112121101021201010101011101121201111101010101010101010112010101010101010101010101010101011111111111031112121201010102020202020307091111111111111112121212121212121212121212120101010101010101010101010101010101010202020202020202020203030303030303030303030304060107111111121212121212121212010101010101010102020202020203030303030303030304040405010312021111121212121212120101120101010101010101010102020202020202020202020203030303030303030303040405051201010201020203020102121011011111111112020203030211010101021102020211121212121212010101010101010101010101010101010101120112011201010101010101010102020202020202020202020202020202020212020202020202020203030303030303030303030303030303040101010101010101010101010101020201020202020202020202020202030103030101030301010101030303010301020401020101010101010102020202020202020202010302020201030301020201020202121212010101010101010101010101020202020201020202020202010202020202020202020202020202020202020202030303030303030303030311111112011010101111111111111111111111111111111111121212121212121212121212121212121212121212121212121212121201010101010101010101010101010101010101010101010202020202020202020202020303030303030505060101020304040501010304021101020202010204010202120202030303030401121204010312010412120402020203020203010202020304020202030412120101010103010103010102020203010202030303010202020202010101010202020401020101031202020202020204020203040201010102010202030302020201010404020202120203120201030303020202020203040202120404030103020402011111120101010202030103030311111111111212121212121212121212121212121212121201010101020101010101010101010101010101010101010102020102020202020203030303030303030405121010101112121212121212010101010101010101010101020202020202020202030303030303030303030303030304040401101212121212121212010201010102010101020202020202020202020303030303030303030303040404040401121201010101010101020202020202020202030304120404030404040404040402020202020211120202030203050102020303030404040404041201010202020203020202020202020203030303030303030303030203031201010101010102020202020303111112121212120301010101010101010102030303041202010301120102040101010102030301120101020204120104030102110204040211031202120101021101030403020301101212010302030103030304040303120201120301030404030304030303030103020304010203030303030302010403020302020302030402120402020401120202010202010102020202020201010103051002111212121212121212020102010101020202020202030303030405050505051201010101010101020202020303030303051112120101120101010101020203030303030303010101020202030102010101010303030210010202030303030302111111120101010202020203100211020302030101010103030101030103111212030303010103031102111101020201111203101103020303011211010103010101021203021111120101120212010101020202031011111102111111111212021212121212121212120101010101010101020202020202020303040512110312031212121201010101020203031112121201010101010101010101010202021202020202020202020202020202030303030303030303030404010103120103010202020212020202010202020203120303030304030312021201010303020103040312020202020202020202020202020202020202020202020202020202020303030303041201020202020202020202020202020203110212121212010101020302020202020101020202120102020312030102020202030103020201030101030201020203020202020202010103020202020203021102010202010201111201010302020202020303011212010102030103020101040402010203020303020303030103020211010312120303020112020202010203020202030202010204020202020201010203030201020302010102030203030202020202020202020202020212030312121212031212010101010101010101010101010101010202020202020202020202021102020202020303031103030312110412121212010101010101010101010202020202120303030303030101120102120202030303111201010102020202020303120301121203121001020302020301010211011112121212120101010101010101010101010101020202020203030303040402020102011204030102010204010101010202011103020101020302010302030101120212010201020201030210021212120103031001011111111111011212121212121212121212120112121212120201020102010101010101020101010101010101010202020202020202020203030202041112121212120212120101010102010101010101010102020202020303030412121201010201010101020202020202020203030303040302040104010202020202020204020204020202020202030303030303030402030201020202020202030201020202020202030302010202020203020202010202031010111111111111121212121212121212120101010101010101010101020202020202020203030412010402011202021212020202030112011201120203120401010303110102010303020303010202020201010101020303030301020302020101030311010202030203030202030303030102020202030302020302020302010202010202010411111112121201010102101111111111111103111111111111111212121212121212121212011212121212121212010101010303010101010101020101010202020202020402020203020202020202020203030303030303120404040404040204040211031112121212120101010201020101010101020302020202020202030303030303030303030303030401020311120312121212021202010102010101030102010302020202030202020202030302030301020403030303030302040404030404040403040202010202020101020102120301010103020203011212120101010101020102020203030302030303030303030304101111010103120311010103021103030203030101020202120303031103030303030312120312021012010112010212020303030303030303030302031010101011111111111111111112121212121212121212121212010101010101010102020202020202020303041201020102120201120102020303030312021203030303041202121103020112121203030302031201021211120112120404120312120102010311010303010303010303120204030303020203010103111111111212121212121212010101010101010101010101120203030303030404040404111212120101010101010102020202020203030303030303041112121212121212010101010202020202020303030304040404020203120101010101010101020202020201030303030301030404120101020101010101010304010103010403010301010102010101020102010101020203030203030302021112030303101111011212121212121212121201010101010201010102020202030301020202020201010203010103030312121202020202020103121204030203030303020311120202010201030102020303021202040103020401020103030303020312040403030301010303030302030102010212020103021201030312030304121201121201010101010101010101010101010101010101010101010102020102020202030303030303030404120112121212120101010101010101010202030412010201010101020211121201010112010101021201111202120101110102020303030312120201110102020112031201030502030302120101050103120201120212020312120212010101120302010102010202120203121212010103030212010112010203120304010202030201010202020301021212110102011201020212110201020212021201010103120112121201020501030401021202020101020101031212011201021212120201031212120102121201120202120112120112011101020303031212010212010101121201010103020104010202020502010212011212020103120212120201030212010201120202120301021201020112011202011205010112020204120201121201120202030301121212121201010101010101010101020203040101020402030401010103030404030301010302030111020303121201030205110101041201020304020304010202040303030212030203031004030302030301020301010311120103040403030302010302020202020403030101040402030103030302041002040403040403120303010212040301010203040401030102020302031204030203040303010304040301030104040201020302010303040304120303020304021201040404041212020301040303040312040311020102030202031102030101030301010304030112010102040205011210020101010404010204040202040101021102120301020103020104010204100104040401011105010301040404020201030302030302030301110404040304030301040205010203011201010101021104040404020101050402040404040101010101050101010101020202020102020202020502020102010203030201011201010301110401010202030303020203030202020212030202020103030403011201010501030303030303021202021201010203020404020202040204020102021203040101030403021101010212030302010312010203030303020202010101010202020212010203040202030202020201010303041104010203031201020304020303030304020211020202021201030402020202010303020202030201010101040202010201010102020103030303030201010403120101020302020201030102020201020302011201030303020101030302030102020101020202010304020202010304010201040202020202030102020103020103010202020101010212010202010302010101020202020202020101030201020201020102010202010202020202020203030303030303030303010301030203121212010101010101010101010101010101010202110404120112011010120101020303111201020203030303030411040102020101010202121104010112010212020202120312020201010111031201010402050103120101021111020212021201120201110110010401010212020202120102010212020201121212010403010101010202020101011102030310010204021012011201041011020410011202020102100104111112010404120102011011120312100202010202121111041202010101110204011202101102040212010102021101120202021201010201121011121201030104020101021002020104110202110201030202021111021012020312120202100101121203011002120211120212120102040102120202030203020204040101101002041202021201021204120101010402030403120112020105020202021011010102121202121211020102021002020202120204021204021201021201020204010202120402021204020202020201020202100201021202030202020201010202020202020202020102020202030103030303111101121201010101010101010202120101020202040412011002020412120101010101020205120103021002110301020404040111010102010112120301010301010103120101010202010101021203011201010101010104100102120202111101020103010301120101010402010102120312101202020201100101121202030101020101031212100211040112030101010301010202101012010101031212010401010302011110120103120111010111010112121101011102040212110101010101040101121201030212031103011112121201110101010101011202020202020212010102030303100102110204120303120304120203021201121201010101020203010301040201010102120301010202020101021203120112120112110112120101010402021112120101021203031201030312020202021003011211020102120102020301010302121212010203020102040311010203020103011201010302030302030112031203010102121204020303120402031101030301121201050203030301020303030101030202120103020201030312030301030303111212120102120212011202031201021203040201120203040203010102020211031202010211111201010101020304100101010101020302020102020202121201120102120202021111121202030201020202020201010101010101010102100201020201020201020203021201120202020212010101020202020201101210020201020101120202020101021101101201010104040102030101010201020202111112120101021201020102010202021212120112010212020201021212120102120312120202010112010101020201020202120102010302010201020112111201011212011201120201020201111104020112120212020201020212120304031201021202010202010212020202020402020202010201020101020312020201020211030202020212010102040101021202010202020302020202010201010202021112010104110202010202021202030101020202120201010112020212010101120201010102120301020112020111010202010101120212120102120201021202121212020102020112020210020202011201021201020212010102010201030102011201020202011201020202010202020202020212021102021202011201020202020202020212020202020202020202020212020202021202110202020202020102020201021202010303111111111103121212121212121212010101010102050508111111111203120303121202120302121203120312030201030303010101030101010201010101010101010112010301010101010101010101010202030302030202010102020302030202030202030203020401030203030304040204030104030411010201121212120110010102010102010101020201010101010301010101010101030202020202020201020302020202010202010202021003010312030412040404020102011203031203031212120102120203010301020201010101010202010101010202020102020202' to numeric",
     "output_type": "error",
     "traceback": [
      "\u001b[31m---------------------------------------------------------------------------\u001b[39m",
      "\u001b[31mTypeError\u001b[39m                                 Traceback (most recent call last)",
      "\u001b[36mCell\u001b[39m\u001b[36m \u001b[39m\u001b[32mIn[9]\u001b[39m\u001b[32m, line 4\u001b[39m\n\u001b[32m      1\u001b[39m data = cicatrices_incedios[\u001b[33m\"\u001b[39m\u001b[33mmes_incendio\u001b[39m\u001b[33m\"\u001b[39m]\n\u001b[32m      2\u001b[39m sns.histplot(data, bins=\u001b[32m100\u001b[39m, kde=\u001b[38;5;28;01mTrue\u001b[39;00m)\n\u001b[32m----> \u001b[39m\u001b[32m4\u001b[39m mean_val = \u001b[43mnp\u001b[49m\u001b[43m.\u001b[49m\u001b[43mmean\u001b[49m\u001b[43m(\u001b[49m\u001b[43mdata\u001b[49m\u001b[43m)\u001b[49m\n\u001b[32m      5\u001b[39m median_val = np.median(data)\n\u001b[32m      6\u001b[39m std_dev = np.std(data)\n",
      "\u001b[36mFile \u001b[39m\u001b[32m~\\AppData\\Local\\Packages\\PythonSoftwareFoundation.Python.3.12_qbz5n2kfra8p0\\LocalCache\\local-packages\\Python312\\site-packages\\numpy\\_core\\fromnumeric.py:3902\u001b[39m, in \u001b[36mmean\u001b[39m\u001b[34m(a, axis, dtype, out, keepdims, where)\u001b[39m\n\u001b[32m   3900\u001b[39m         \u001b[38;5;28;01mpass\u001b[39;00m\n\u001b[32m   3901\u001b[39m     \u001b[38;5;28;01melse\u001b[39;00m:\n\u001b[32m-> \u001b[39m\u001b[32m3902\u001b[39m         \u001b[38;5;28;01mreturn\u001b[39;00m \u001b[43mmean\u001b[49m\u001b[43m(\u001b[49m\u001b[43maxis\u001b[49m\u001b[43m=\u001b[49m\u001b[43maxis\u001b[49m\u001b[43m,\u001b[49m\u001b[43m \u001b[49m\u001b[43mdtype\u001b[49m\u001b[43m=\u001b[49m\u001b[43mdtype\u001b[49m\u001b[43m,\u001b[49m\u001b[43m \u001b[49m\u001b[43mout\u001b[49m\u001b[43m=\u001b[49m\u001b[43mout\u001b[49m\u001b[43m,\u001b[49m\u001b[43m \u001b[49m\u001b[43m*\u001b[49m\u001b[43m*\u001b[49m\u001b[43mkwargs\u001b[49m\u001b[43m)\u001b[49m\n\u001b[32m   3904\u001b[39m \u001b[38;5;28;01mreturn\u001b[39;00m _methods._mean(a, axis=axis, dtype=dtype,\n\u001b[32m   3905\u001b[39m                       out=out, **kwargs)\n",
      "\u001b[36mFile \u001b[39m\u001b[32m~\\AppData\\Local\\Packages\\PythonSoftwareFoundation.Python.3.12_qbz5n2kfra8p0\\LocalCache\\local-packages\\Python312\\site-packages\\pandas\\core\\series.py:6549\u001b[39m, in \u001b[36mSeries.mean\u001b[39m\u001b[34m(self, axis, skipna, numeric_only, **kwargs)\u001b[39m\n\u001b[32m   6541\u001b[39m \u001b[38;5;129m@doc\u001b[39m(make_doc(\u001b[33m\"\u001b[39m\u001b[33mmean\u001b[39m\u001b[33m\"\u001b[39m, ndim=\u001b[32m1\u001b[39m))\n\u001b[32m   6542\u001b[39m \u001b[38;5;28;01mdef\u001b[39;00m\u001b[38;5;250m \u001b[39m\u001b[34mmean\u001b[39m(\n\u001b[32m   6543\u001b[39m     \u001b[38;5;28mself\u001b[39m,\n\u001b[32m   (...)\u001b[39m\u001b[32m   6547\u001b[39m     **kwargs,\n\u001b[32m   6548\u001b[39m ):\n\u001b[32m-> \u001b[39m\u001b[32m6549\u001b[39m     \u001b[38;5;28;01mreturn\u001b[39;00m \u001b[43mNDFrame\u001b[49m\u001b[43m.\u001b[49m\u001b[43mmean\u001b[49m\u001b[43m(\u001b[49m\u001b[38;5;28;43mself\u001b[39;49m\u001b[43m,\u001b[49m\u001b[43m \u001b[49m\u001b[43maxis\u001b[49m\u001b[43m,\u001b[49m\u001b[43m \u001b[49m\u001b[43mskipna\u001b[49m\u001b[43m,\u001b[49m\u001b[43m \u001b[49m\u001b[43mnumeric_only\u001b[49m\u001b[43m,\u001b[49m\u001b[43m \u001b[49m\u001b[43m*\u001b[49m\u001b[43m*\u001b[49m\u001b[43mkwargs\u001b[49m\u001b[43m)\u001b[49m\n",
      "\u001b[36mFile \u001b[39m\u001b[32m~\\AppData\\Local\\Packages\\PythonSoftwareFoundation.Python.3.12_qbz5n2kfra8p0\\LocalCache\\local-packages\\Python312\\site-packages\\pandas\\core\\generic.py:12420\u001b[39m, in \u001b[36mNDFrame.mean\u001b[39m\u001b[34m(self, axis, skipna, numeric_only, **kwargs)\u001b[39m\n\u001b[32m  12413\u001b[39m \u001b[38;5;28;01mdef\u001b[39;00m\u001b[38;5;250m \u001b[39m\u001b[34mmean\u001b[39m(\n\u001b[32m  12414\u001b[39m     \u001b[38;5;28mself\u001b[39m,\n\u001b[32m  12415\u001b[39m     axis: Axis | \u001b[38;5;28;01mNone\u001b[39;00m = \u001b[32m0\u001b[39m,\n\u001b[32m   (...)\u001b[39m\u001b[32m  12418\u001b[39m     **kwargs,\n\u001b[32m  12419\u001b[39m ) -> Series | \u001b[38;5;28mfloat\u001b[39m:\n\u001b[32m> \u001b[39m\u001b[32m12420\u001b[39m     \u001b[38;5;28;01mreturn\u001b[39;00m \u001b[38;5;28;43mself\u001b[39;49m\u001b[43m.\u001b[49m\u001b[43m_stat_function\u001b[49m\u001b[43m(\u001b[49m\n\u001b[32m  12421\u001b[39m \u001b[43m        \u001b[49m\u001b[33;43m\"\u001b[39;49m\u001b[33;43mmean\u001b[39;49m\u001b[33;43m\"\u001b[39;49m\u001b[43m,\u001b[49m\u001b[43m \u001b[49m\u001b[43mnanops\u001b[49m\u001b[43m.\u001b[49m\u001b[43mnanmean\u001b[49m\u001b[43m,\u001b[49m\u001b[43m \u001b[49m\u001b[43maxis\u001b[49m\u001b[43m,\u001b[49m\u001b[43m \u001b[49m\u001b[43mskipna\u001b[49m\u001b[43m,\u001b[49m\u001b[43m \u001b[49m\u001b[43mnumeric_only\u001b[49m\u001b[43m,\u001b[49m\u001b[43m \u001b[49m\u001b[43m*\u001b[49m\u001b[43m*\u001b[49m\u001b[43mkwargs\u001b[49m\n\u001b[32m  12422\u001b[39m \u001b[43m    \u001b[49m\u001b[43m)\u001b[49m\n",
      "\u001b[36mFile \u001b[39m\u001b[32m~\\AppData\\Local\\Packages\\PythonSoftwareFoundation.Python.3.12_qbz5n2kfra8p0\\LocalCache\\local-packages\\Python312\\site-packages\\pandas\\core\\generic.py:12377\u001b[39m, in \u001b[36mNDFrame._stat_function\u001b[39m\u001b[34m(self, name, func, axis, skipna, numeric_only, **kwargs)\u001b[39m\n\u001b[32m  12373\u001b[39m nv.validate_func(name, (), kwargs)\n\u001b[32m  12375\u001b[39m validate_bool_kwarg(skipna, \u001b[33m\"\u001b[39m\u001b[33mskipna\u001b[39m\u001b[33m\"\u001b[39m, none_allowed=\u001b[38;5;28;01mFalse\u001b[39;00m)\n\u001b[32m> \u001b[39m\u001b[32m12377\u001b[39m \u001b[38;5;28;01mreturn\u001b[39;00m \u001b[38;5;28;43mself\u001b[39;49m\u001b[43m.\u001b[49m\u001b[43m_reduce\u001b[49m\u001b[43m(\u001b[49m\n\u001b[32m  12378\u001b[39m \u001b[43m    \u001b[49m\u001b[43mfunc\u001b[49m\u001b[43m,\u001b[49m\u001b[43m \u001b[49m\u001b[43mname\u001b[49m\u001b[43m=\u001b[49m\u001b[43mname\u001b[49m\u001b[43m,\u001b[49m\u001b[43m \u001b[49m\u001b[43maxis\u001b[49m\u001b[43m=\u001b[49m\u001b[43maxis\u001b[49m\u001b[43m,\u001b[49m\u001b[43m \u001b[49m\u001b[43mskipna\u001b[49m\u001b[43m=\u001b[49m\u001b[43mskipna\u001b[49m\u001b[43m,\u001b[49m\u001b[43m \u001b[49m\u001b[43mnumeric_only\u001b[49m\u001b[43m=\u001b[49m\u001b[43mnumeric_only\u001b[49m\n\u001b[32m  12379\u001b[39m \u001b[43m\u001b[49m\u001b[43m)\u001b[49m\n",
      "\u001b[36mFile \u001b[39m\u001b[32m~\\AppData\\Local\\Packages\\PythonSoftwareFoundation.Python.3.12_qbz5n2kfra8p0\\LocalCache\\local-packages\\Python312\\site-packages\\pandas\\core\\series.py:6457\u001b[39m, in \u001b[36mSeries._reduce\u001b[39m\u001b[34m(self, op, name, axis, skipna, numeric_only, filter_type, **kwds)\u001b[39m\n\u001b[32m   6452\u001b[39m     \u001b[38;5;66;03m# GH#47500 - change to TypeError to match other methods\u001b[39;00m\n\u001b[32m   6453\u001b[39m     \u001b[38;5;28;01mraise\u001b[39;00m \u001b[38;5;167;01mTypeError\u001b[39;00m(\n\u001b[32m   6454\u001b[39m         \u001b[33mf\u001b[39m\u001b[33m\"\u001b[39m\u001b[33mSeries.\u001b[39m\u001b[38;5;132;01m{\u001b[39;00mname\u001b[38;5;132;01m}\u001b[39;00m\u001b[33m does not allow \u001b[39m\u001b[38;5;132;01m{\u001b[39;00mkwd_name\u001b[38;5;132;01m}\u001b[39;00m\u001b[33m=\u001b[39m\u001b[38;5;132;01m{\u001b[39;00mnumeric_only\u001b[38;5;132;01m}\u001b[39;00m\u001b[33m \u001b[39m\u001b[33m\"\u001b[39m\n\u001b[32m   6455\u001b[39m         \u001b[33m\"\u001b[39m\u001b[33mwith non-numeric dtypes.\u001b[39m\u001b[33m\"\u001b[39m\n\u001b[32m   6456\u001b[39m     )\n\u001b[32m-> \u001b[39m\u001b[32m6457\u001b[39m \u001b[38;5;28;01mreturn\u001b[39;00m \u001b[43mop\u001b[49m\u001b[43m(\u001b[49m\u001b[43mdelegate\u001b[49m\u001b[43m,\u001b[49m\u001b[43m \u001b[49m\u001b[43mskipna\u001b[49m\u001b[43m=\u001b[49m\u001b[43mskipna\u001b[49m\u001b[43m,\u001b[49m\u001b[43m \u001b[49m\u001b[43m*\u001b[49m\u001b[43m*\u001b[49m\u001b[43mkwds\u001b[49m\u001b[43m)\u001b[49m\n",
      "\u001b[36mFile \u001b[39m\u001b[32m~\\AppData\\Local\\Packages\\PythonSoftwareFoundation.Python.3.12_qbz5n2kfra8p0\\LocalCache\\local-packages\\Python312\\site-packages\\pandas\\core\\nanops.py:147\u001b[39m, in \u001b[36mbottleneck_switch.__call__.<locals>.f\u001b[39m\u001b[34m(values, axis, skipna, **kwds)\u001b[39m\n\u001b[32m    145\u001b[39m         result = alt(values, axis=axis, skipna=skipna, **kwds)\n\u001b[32m    146\u001b[39m \u001b[38;5;28;01melse\u001b[39;00m:\n\u001b[32m--> \u001b[39m\u001b[32m147\u001b[39m     result = \u001b[43malt\u001b[49m\u001b[43m(\u001b[49m\u001b[43mvalues\u001b[49m\u001b[43m,\u001b[49m\u001b[43m \u001b[49m\u001b[43maxis\u001b[49m\u001b[43m=\u001b[49m\u001b[43maxis\u001b[49m\u001b[43m,\u001b[49m\u001b[43m \u001b[49m\u001b[43mskipna\u001b[49m\u001b[43m=\u001b[49m\u001b[43mskipna\u001b[49m\u001b[43m,\u001b[49m\u001b[43m \u001b[49m\u001b[43m*\u001b[49m\u001b[43m*\u001b[49m\u001b[43mkwds\u001b[49m\u001b[43m)\u001b[49m\n\u001b[32m    149\u001b[39m \u001b[38;5;28;01mreturn\u001b[39;00m result\n",
      "\u001b[36mFile \u001b[39m\u001b[32m~\\AppData\\Local\\Packages\\PythonSoftwareFoundation.Python.3.12_qbz5n2kfra8p0\\LocalCache\\local-packages\\Python312\\site-packages\\pandas\\core\\nanops.py:404\u001b[39m, in \u001b[36m_datetimelike_compat.<locals>.new_func\u001b[39m\u001b[34m(values, axis, skipna, mask, **kwargs)\u001b[39m\n\u001b[32m    401\u001b[39m \u001b[38;5;28;01mif\u001b[39;00m datetimelike \u001b[38;5;129;01mand\u001b[39;00m mask \u001b[38;5;129;01mis\u001b[39;00m \u001b[38;5;28;01mNone\u001b[39;00m:\n\u001b[32m    402\u001b[39m     mask = isna(values)\n\u001b[32m--> \u001b[39m\u001b[32m404\u001b[39m result = \u001b[43mfunc\u001b[49m\u001b[43m(\u001b[49m\u001b[43mvalues\u001b[49m\u001b[43m,\u001b[49m\u001b[43m \u001b[49m\u001b[43maxis\u001b[49m\u001b[43m=\u001b[49m\u001b[43maxis\u001b[49m\u001b[43m,\u001b[49m\u001b[43m \u001b[49m\u001b[43mskipna\u001b[49m\u001b[43m=\u001b[49m\u001b[43mskipna\u001b[49m\u001b[43m,\u001b[49m\u001b[43m \u001b[49m\u001b[43mmask\u001b[49m\u001b[43m=\u001b[49m\u001b[43mmask\u001b[49m\u001b[43m,\u001b[49m\u001b[43m \u001b[49m\u001b[43m*\u001b[49m\u001b[43m*\u001b[49m\u001b[43mkwargs\u001b[49m\u001b[43m)\u001b[49m\n\u001b[32m    406\u001b[39m \u001b[38;5;28;01mif\u001b[39;00m datetimelike:\n\u001b[32m    407\u001b[39m     result = _wrap_results(result, orig_values.dtype, fill_value=iNaT)\n",
      "\u001b[36mFile \u001b[39m\u001b[32m~\\AppData\\Local\\Packages\\PythonSoftwareFoundation.Python.3.12_qbz5n2kfra8p0\\LocalCache\\local-packages\\Python312\\site-packages\\pandas\\core\\nanops.py:720\u001b[39m, in \u001b[36mnanmean\u001b[39m\u001b[34m(values, axis, skipna, mask)\u001b[39m\n\u001b[32m    718\u001b[39m count = _get_counts(values.shape, mask, axis, dtype=dtype_count)\n\u001b[32m    719\u001b[39m the_sum = values.sum(axis, dtype=dtype_sum)\n\u001b[32m--> \u001b[39m\u001b[32m720\u001b[39m the_sum = \u001b[43m_ensure_numeric\u001b[49m\u001b[43m(\u001b[49m\u001b[43mthe_sum\u001b[49m\u001b[43m)\u001b[49m\n\u001b[32m    722\u001b[39m \u001b[38;5;28;01mif\u001b[39;00m axis \u001b[38;5;129;01mis\u001b[39;00m \u001b[38;5;129;01mnot\u001b[39;00m \u001b[38;5;28;01mNone\u001b[39;00m \u001b[38;5;129;01mand\u001b[39;00m \u001b[38;5;28mgetattr\u001b[39m(the_sum, \u001b[33m\"\u001b[39m\u001b[33mndim\u001b[39m\u001b[33m\"\u001b[39m, \u001b[38;5;28;01mFalse\u001b[39;00m):\n\u001b[32m    723\u001b[39m     count = cast(np.ndarray, count)\n",
      "\u001b[36mFile \u001b[39m\u001b[32m~\\AppData\\Local\\Packages\\PythonSoftwareFoundation.Python.3.12_qbz5n2kfra8p0\\LocalCache\\local-packages\\Python312\\site-packages\\pandas\\core\\nanops.py:1701\u001b[39m, in \u001b[36m_ensure_numeric\u001b[39m\u001b[34m(x)\u001b[39m\n\u001b[32m   1698\u001b[39m \u001b[38;5;28;01melif\u001b[39;00m \u001b[38;5;129;01mnot\u001b[39;00m (is_float(x) \u001b[38;5;129;01mor\u001b[39;00m is_integer(x) \u001b[38;5;129;01mor\u001b[39;00m is_complex(x)):\n\u001b[32m   1699\u001b[39m     \u001b[38;5;28;01mif\u001b[39;00m \u001b[38;5;28misinstance\u001b[39m(x, \u001b[38;5;28mstr\u001b[39m):\n\u001b[32m   1700\u001b[39m         \u001b[38;5;66;03m# GH#44008, GH#36703 avoid casting e.g. strings to numeric\u001b[39;00m\n\u001b[32m-> \u001b[39m\u001b[32m1701\u001b[39m         \u001b[38;5;28;01mraise\u001b[39;00m \u001b[38;5;167;01mTypeError\u001b[39;00m(\u001b[33mf\u001b[39m\u001b[33m\"\u001b[39m\u001b[33mCould not convert string \u001b[39m\u001b[33m'\u001b[39m\u001b[38;5;132;01m{\u001b[39;00mx\u001b[38;5;132;01m}\u001b[39;00m\u001b[33m'\u001b[39m\u001b[33m to numeric\u001b[39m\u001b[33m\"\u001b[39m)\n\u001b[32m   1702\u001b[39m     \u001b[38;5;28;01mtry\u001b[39;00m:\n\u001b[32m   1703\u001b[39m         x = \u001b[38;5;28mfloat\u001b[39m(x)\n",
      "\u001b[31mTypeError\u001b[39m: Could not convert string '01020202020202030202010201010202020303030201030203031203030404010404041104020404040204041201020505020101030304040301010101010101010102021102020202020202020203030303110303030303031103030404040404040404040404040201020301030303040404050102120412111201010101010202020202030405020202030505120101010101020202020202020202020303030303030303030303030303030303030303030303030303040404020203030402010103010201121201010101120101020202021202020203030303030303030301020401010202020203030303010101010102030401020207111112121212121212121212121212120101010101010101010102020202020202010202020303030304010101020101020202020202020202020202020202020202020202030312020303040404010101010101010102011202020203010103021201010304100212020302030302100311111212120103020302020303010112030202120102111202031204121212120312120202030202020301010802020103020302010203030201010201020210111102121202010102020203121201010202120202030201030301010108111203030301120212010102020302120201110101020101020202030112020202010111021212020302020303010201020201010303020202030212120202030502121212121201021202030201020202010212120101020203020212030112011002011012120201021003010102111112120303020201020112110102030303030312120301020311020102010102030211021111121212021201010102110101010302010202101212011212010103020103010201010202020112010302020112010201021201010202010212030203021103111203020202011002120112120101110102020201010202021212020102020102020201010101111212021212020102121202120301020201020101010101010212021203120203010102010112121212010201120101020212010111020112120202020202030303030404040404040412010101020202020212020303020301030303030101010101020102020403010204121212010101010202031212010102030401010102020303030304010303040404020204010401120202010112020204010303121201010203010202020203040401020202020203120404010311031212120203010201030101020102020211040202010202011201021212120101010102030312010101010102020101010102020203030204020303020312010102030102010204030204010212020102040201020101011209120103051201010203010102030102040202020201020101020202010103020301020201010204010212110302120101010402010101031212010104020304020201030102121212030204030301010302031103110301110203020101120202030201020202040101010204020212030201020202120402040202010112020102020201111201030302120402010201030212020302010104020302020103030103030101040101030202040103011201020202020202020201030302010212120102040201020112040102010402041204011212030201030201010402010102020101010112020112010201010202121212010202011201120101010202020202020202020202021202020202020202020202020303030303030303030303030303030303030303030303030303030101020112020512120101020203030401020203010104010109030102111111111201010502020303040402010311121202030203030203030302020411121211020202121204110101010102020303030302031111121212121201020202110203010103010102030302111212120101010404010102010101041203111201030311011211111112120103041204020211110103010410120512010202020211121201020201010412010103010102030202021201011201010201040211020301021204091203010212010205011201031112120312110101011212020203040311011201051202020101010501021102120205010301021201030202010103010101010101040202020202020202020202020203090105111101010104120304010102010101110311121202020103120303020302020212041201030212030201020312020301020610020305020412030211030101020201030202120111101212020203030402010201010303040401120202030312120612050511121203030102010301120101010403010302020202110302011102120312120202120202111201010203120202020302120212010103020303030302010412120101010112050301010102121202030101120103010101010101010101010101010101010101010112010102020102020202020212020402030304030304030304030303030303030303030303030303030303030303030303030303030303030303030303030303030303030303030303030303030312040101040101010401010401010101040101010101010401020204020201101202020101020202030303050202020501020303120101111111120203041201030502020201030312030312010202020203020204030103020103010201021104010101111202020203020201010101010303020302020103030202010112011010111201010304040102100201020202030202010402111202020102010202011212010202010204120102021202120402030102030202090103010102020304010202030103020102010203120102010202091103011201020202030102010202110111021201010202100101080101010202030202010203011103020202020101020202091103010202030201030103040102031001020201011202010102020203020203010202020202031201010202010303041102120301010102021203010201030401120102020302021202020212010202020202010201020102020302020202020101020202020203020212011212010201010101010203021202020103020201020211020902021002020101030212020201020202010204110202020202010202010304020202040202020202020303030303030303030303030303030303030303030303030303030303030303030303030303121212121212121212010101031202011101010109010112041203010103010112030301010103120104111201010211010204010101020312010101010102011101020202010101020201110303031201020103010201020201020301030202031201030101010103040101030103020212020101020203010103120102010104111202030101011212120103010101010111040302120202030102030212120203090102010101020201010202020101010304030202020203010302110101030202110202010101010202031101030203030401010302020212120301040203020202030201030302120101020104021103030101020312010203010202031202030301020303010102120301040201041202020209010104010112010102010101030303010102040103010201011201010304010101010201020104010102011102030202120103100112120111010303020112010204020203010202031103040404040203030112010402030210110312030103030201010101010302020201010202010101020112040112010102010202020102021201121203010301030103020103020101010201020103010402020103030102030202010101120301010201020201010302020201110101010101040101010312120101030101010101010101010101020202020303030304040102010201120201120109010204050102111212010211120212011212020312010201020102010301011103120102010102121203091201040101020201030202090101021201040212120102120101090212121209041201011204120101021201090112111201010101121201040103040210020212121203030103120302011201120102120109031112010304030101030102120112010203010301031201111209040202020104120112010102120101021212090312121101120102011002030401011203120101121201011203120312041002011202120301121202020102120111011201021212010201010102020304021203021212010301121201010401030304121212011201121201120101121101030101050212120112120112120112120101010112040101040103040102030303110203020303030303020301020203010102020301020202030303030301010303030302020202020203030102020201120102010203030302020203020203031201020103030201011201020102030103020303101202030303020312031201010202031101041102020201021212121201010201010101010303100101030103030302020202010212121104041212010102020301010103010203020302121110020201051102020201011211120101030303030102010312120102010212100303010301030102020301010101020211020303010303030303120103110101030302020101010101010401010102050103030312110101120203010602120101010310110301020202030101120202040101020301020202010202020501110205020312020201020202030412040102120203020211120203050202120103120212011211120203010101030104120101020109040301011112010102020101120102010302030305011201030202121203120301120512120104021201021201021205041212020212020101011201030202121203011202010202030203030302030303010203030203020302030103030203020202020102020303030103020202020112020203030202021212120212120303031202020202121201120104041201020511121112010101020203011104051201120402040203121202110102020103111202011212020202021101120101120304120112010402120412011112010202040112021201120202120310121201020312020201010402021202010503020201020101110102010112020103010212120111021203041212010203010112030212120202030302120203010401110202040103020102010101120101120102041203011101120102020312030301030311010205111210010112120302040112090412010202010101010112120202110201010102020202030312011201021002020101010102110102031112010201010211120112010303030101040203010301120102010310020101021201030301020112120203020112031201120204020201110301021202010201121202120101020101021201010101010101010102020202020204030303030303030404030510020201011112011001020302020204021101020203011111111201020112020212120110121102030201110412110102110403111101020302010501010303020102020311040311010901020502010202030401020211121201030212020212020302110303020103010202010303020403111002111204020103040602120204020111110101010201030201020303011211010301120301040202030312120203020103030303010103110403030203011103030203030412030201011203030302120112010303010211030102010203010402030212011202021202030402030201030101020202030202040201030101010201010203010203120104020202060101020903120404040405120101010101010101020303040404041112010101010101020202020303040404040404040403110103010201051212120901110101020301120104120101120112101111120202040203020102031104031211010103041211030112010302020101010311010301111101010111020202030303021012010303020301110101011112011212020102100203121201010301021211010312010111010312030301111112010103110211011212120101020112020401120103010102120101100302010202030303011201090911030201031001110101041202040404010101010101121202010102010212120104010101021203031101020401120101011101011201010102110201011212010211110202011112120301010103120102021201020101010112020101020202010112010202041101010502010102010112010301030101020101010102030101010101030201010312010301020101010804010101010112010112030101011211010301021212010204121101100101010111110111010112120202120112010304120201020101010102010412121212120101010101010101020203010101010101040101010104010101101201011212010112070403031112011112011212121201010112010111011203010112020101011212010301120103040112011212010101011201121201010101011212120101010101121201010101010101020202020202020202020202020202020212020211030212031102030203030101010412041201110306050512120102040211030303030202030311020202020312010102030201010202021203020212050202020302011201010102020202020112110212120202040104021210121201011201030303020101031202020202030403021201020202121102021201040102020102020202030302030502020101010202010301020303030202010103010203011101010202040101010201030304040101010102010102020203030103011201020302010303120303120102010101010202020403020201030102120305020203020212020102020301030302011212020212030401020203030103120202010201021201010301031203010303040101010202021101011102030103030102030202030102030101030103030301030203020203010103030303010201110103010102010203030202030301110303020202020601010112020312020101020102020202020301030101010201030201010102120102010202120102020204020202010203031202020101030201020212120203020201120201030212020104020101040101030202121204020103010202040202010202020101020312020203020102041203020102030203020302010203010103010202030303010102010302010103030303010103040203020103010201031101010101020203010101020302010101020304050303020201021203030102010302020203010103010302030202020211010202120102020202010202020301021202031202020304030203010203030102030301030202030102020301020202020202100102020301010303020112030204010201010301010301120204020302020202020101010208020102020201020201010201030302020201020203020202030202020103010101010101020302020301030603020202020211010106120303020203020102020102030101030102120201030202020101020101020103010301020202020203030202020303030302020203020201020201030302010302020303020302120202030202020203010202020202010202010202030301010303040303040404040404040404040404040202030403020201020301030303030304040404040412121201010202110303030103010103060302010303020207070101020203040401020202030303110202020203030204111212121201010304020402010202010302010301030312020302020301020103030202030112021201020203030302020202030303030203020203030402020202030303011202020302020112030203030102011202010203120102021202010102120302021201010202020203020102030202020303041112120304120205020102030112020303030302020211031202121201030303020102120102120303030304040310121203020303020202020202030303111204030201020302020303040503010302020302020301010303030203030301031203010202010102020101021212020202020203030103030203010302021103020103030202120202030202010302020301030312020103010202040303010201010102010303010102020204021202030202031202010201020312020101020101030303021103120302040102030311020203020201030303030203010303070303021202020203020302120301040203030303010203120202020303020303030101040102030203120202011002020203020203020102020102120312110112020202030101011203020303021201030102020302020202020202020202020202020304040102020202010202020202020202020202020202020202020212021201121201120311010102020104010301010103020112120203010201010202041011111212121202121212010203010311120103030202020402121212011111121102010201011103010101010110110402010103120201010101101203120101040112011201021009110303010101121103010102121111120512110111121003010104010903111201011112011212120111040102010902031011120103111212010201120101120112120101040303010302010310111111120102120301020111030912010201041101020112110101010211011209121212010311020101010101120101011112010101100303010202010101120308120112120103020112020101120101010103121101010901030301010101010102120211030111030401030101011102110301120312020401090901120203120101010312110111110101030912121203010101120109091211111111110409010102011112010201010102010112010112010101010101110112100301020101100111020112120103120303121110120112031011110111020101110201010101110111011002100112010101121212010102020201010111031201111201010101110201111201120101010102030901110112121211110112010301011201010101010111021101011110111101120101121101010101010103110111111101111211120112120101010111011202030112010212011101111211011212021212011101120111011101010112121101021201010101011101121201111101010101010101010112010101010101010101010101010101011111111111031112121201010102020202020307091111111111111112121212121212121212121212120101010101010101010101010101010101010202020202020202020203030303030303030303030304060107111111121212121212121212010101010101010102020202020203030303030303030304040405010312021111121212121212120101120101010101010101010102020202020202020202020203030303030303030303040405051201010201020203020102121011011111111112020203030211010101021102020211121212121212010101010101010101010101010101010101120112011201010101010101010102020202020202020202020202020202020212020202020202020203030303030303030303030303030303040101010101010101010101010101020201020202020202020202020202030103030101030301010101030303010301020401020101010101010102020202020202020202010302020201030301020201020202121212010101010101010101010101020202020201020202020202010202020202020202020202020202020202020202030303030303030303030311111112011010101111111111111111111111111111111111121212121212121212121212121212121212121212121212121212121201010101010101010101010101010101010101010101010202020202020202020202020303030303030505060101020304040501010304021101020202010204010202120202030303030401121204010312010412120402020203020203010202020304020202030412120101010103010103010102020203010202030303010202020202010101010202020401020101031202020202020204020203040201010102010202030302020201010404020202120203120201030303020202020203040202120404030103020402011111120101010202030103030311111111111212121212121212121212121212121212121201010101020101010101010101010101010101010101010102020102020202020203030303030303030405121010101112121212121212010101010101010101010101020202020202020202030303030303030303030303030304040401101212121212121212010201010102010101020202020202020202020303030303030303030303040404040401121201010101010101020202020202020202030304120404030404040404040402020202020211120202030203050102020303030404040404041201010202020203020202020202020203030303030303030303030203031201010101010102020202020303111112121212120301010101010101010102030303041202010301120102040101010102030301120101020204120104030102110204040211031202120101021101030403020301101212010302030103030304040303120201120301030404030304030303030103020304010203030303030302010403020302020302030402120402020401120202010202010102020202020201010103051002111212121212121212020102010101020202020202030303030405050505051201010101010101020202020303030303051112120101120101010101020203030303030303010101020202030102010101010303030210010202030303030302111111120101010202020203100211020302030101010103030101030103111212030303010103031102111101020201111203101103020303011211010103010101021203021111120101120212010101020202031011111102111111111212021212121212121212120101010101010101020202020202020303040512110312031212121201010101020203031112121201010101010101010101010202021202020202020202020202020202030303030303030303030404010103120103010202020212020202010202020203120303030304030312021201010303020103040312020202020202020202020202020202020202020202020202020202020303030303041201020202020202020202020202020203110212121212010101020302020202020101020202120102020312030102020202030103020201030101030201020203020202020202010103020202020203021102010202010201111201010302020202020303011212010102030103020101040402010203020303020303030103020211010312120303020112020202010203020202030202010204020202020201010203030201020302010102030203030202020202020202020202020212030312121212031212010101010101010101010101010101010202020202020202020202021102020202020303031103030312110412121212010101010101010101010202020202120303030303030101120102120202030303111201010102020202020303120301121203121001020302020301010211011112121212120101010101010101010101010101020202020203030303040402020102011204030102010204010101010202011103020101020302010302030101120212010201020201030210021212120103031001011111111111011212121212121212121212120112121212120201020102010101010101020101010101010101010202020202020202020203030202041112121212120212120101010102010101010101010102020202020303030412121201010201010101020202020202020203030303040302040104010202020202020204020204020202020202030303030303030402030201020202020202030201020202020202030302010202020203020202010202031010111111111111121212121212121212120101010101010101010101020202020202020203030412010402011202021212020202030112011201120203120401010303110102010303020303010202020201010101020303030301020302020101030311010202030203030202030303030102020202030302020302020302010202010202010411111112121201010102101111111111111103111111111111111212121212121212121212011212121212121212010101010303010101010101020101010202020202020402020203020202020202020203030303030303120404040404040204040211031112121212120101010201020101010101020302020202020202030303030303030303030303030401020311120312121212021202010102010101030102010302020202030202020202030302030301020403030303030302040404030404040403040202010202020101020102120301010103020203011212120101010101020102020203030302030303030303030304101111010103120311010103021103030203030101020202120303031103030303030312120312021012010112010212020303030303030303030302031010101011111111111111111112121212121212121212121212010101010101010102020202020202020303041201020102120201120102020303030312021203030303041202121103020112121203030302031201021211120112120404120312120102010311010303010303010303120204030303020203010103111111111212121212121212010101010101010101010101120203030303030404040404111212120101010101010102020202020203030303030303041112121212121212010101010202020202020303030304040404020203120101010101010101020202020201030303030301030404120101020101010101010304010103010403010301010102010101020102010101020203030203030302021112030303101111011212121212121212121201010101010201010102020202030301020202020201010203010103030312121202020202020103121204030203030303020311120202010201030102020303021202040103020401020103030303020312040403030301010303030302030102010212020103021201030312030304121201121201010101010101010101010101010101010101010101010102020102020202030303030303030404120112121212120101010101010101010202030412010201010101020211121201010112010101021201111202120101110102020303030312120201110102020112031201030502030302120101050103120201120212020312120212010101120302010102010202120203121212010103030212010112010203120304010202030201010202020301021212110102011201020212110201020212021201010103120112121201020501030401021202020101020101031212011201021212120201031212120102121201120202120112120112011101020303031212010212010101121201010103020104010202020502010212011212020103120212120201030212010201120202120301021201020112011202011205010112020204120201121201120202030301121212121201010101010101010101020203040101020402030401010103030404030301010302030111020303121201030205110101041201020304020304010202040303030212030203031004030302030301020301010311120103040403030302010302020202020403030101040402030103030302041002040403040403120303010212040301010203040401030102020302031204030203040303010304040301030104040201020302010303040304120303020304021201040404041212020301040303040312040311020102030202031102030101030301010304030112010102040205011210020101010404010204040202040101021102120301020103020104010204100104040401011105010301040404020201030302030302030301110404040304030301040205010203011201010101021104040404020101050402040404040101010101050101010101020202020102020202020502020102010203030201011201010301110401010202030303020203030202020212030202020103030403011201010501030303030303021202021201010203020404020202040204020102021203040101030403021101010212030302010312010203030303020202010101010202020212010203040202030202020201010303041104010203031201020304020303030304020211020202021201030402020202010303020202030201010101040202010201010102020103030303030201010403120101020302020201030102020201020302011201030303020101030302030102020101020202010304020202010304010201040202020202030102020103020103010202020101010212010202010302010101020202020202020101030201020201020102010202010202020202020203030303030303030303010301030203121212010101010101010101010101010101010202110404120112011010120101020303111201020203030303030411040102020101010202121104010112010212020202120312020201010111031201010402050103120101021111020212021201120201110110010401010212020202120102010212020201121212010403010101010202020101011102030310010204021012011201041011020410011202020102100104111112010404120102011011120312100202010202121111041202010101110204011202101102040212010102021101120202021201010201121011121201030104020101021002020104110202110201030202021111021012020312120202100101121203011002120211120212120102040102120202030203020204040101101002041202021201021204120101010402030403120112020105020202021011010102121202121211020102021002020202120204021204021201021201020204010202120402021204020202020201020202100201021202030202020201010202020202020202020102020202030103030303111101121201010101010101010202120101020202040412011002020412120101010101020205120103021002110301020404040111010102010112120301010301010103120101010202010101021203011201010101010104100102120202111101020103010301120101010402010102120312101202020201100101121202030101020101031212100211040112030101010301010202101012010101031212010401010302011110120103120111010111010112121101011102040212110101010101040101121201030212031103011112121201110101010101011202020202020212010102030303100102110204120303120304120203021201121201010101020203010301040201010102120301010202020101021203120112120112110112120101010402021112120101021203031201030312020202021003011211020102120102020301010302121212010203020102040311010203020103011201010302030302030112031203010102121204020303120402031101030301121201050203030301020303030101030202120103020201030312030301030303111212120102120212011202031201021203040201120203040203010102020211031202010211111201010101020304100101010101020302020102020202121201120102120202021111121202030201020202020201010101010101010102100201020201020201020203021201120202020212010101020202020201101210020201020101120202020101021101101201010104040102030101010201020202111112120101021201020102010202021212120112010212020201021212120102120312120202010112010101020201020202120102010302010201020112111201011212011201120201020201111104020112120212020201020212120304031201021202010202010212020202020402020202010201020101020312020201020211030202020212010102040101021202010202020302020202010201010202021112010104110202010202021202030101020202120201010112020212010101120201010102120301020112020111010202010101120212120102120201021202121212020102020112020210020202011201021201020212010102010201030102011201020202011201020202010202020202020212021102021202011201020202020202020212020202020202020202020212020202021202110202020202020102020201021202010303111111111103121212121212121212010101010102050508111111111203120303121202120302121203120312030201030303010101030101010201010101010101010112010301010101010101010101010202030302030202010102020302030202030202030203020401030203030304040204030104030411010201121212120110010102010102010101020201010101010301010101010101030202020202020201020302020202010202010202021003010312030412040404020102011203031203031212120102120203010301020201010101010202010101010202020102020202' to numeric"
     ]
    },
    {
     "data": {
      "image/png": "[encoded data removed]",
      "text/plain": [
       "<Figure size 640x480 with 1 Axes>"
      ]
     },
     "metadata": {},
     "output_type": "display_data"
    }
   ],
   "source": [
    "data = cicatrices_incedios[\"mes_incendio\"]\n",
    "sns.histplot(data, bins=100, kde=True)\n",
    "\n",
    "mean_val = np.mean(data)\n",
    "median_val = np.median(data)\n",
    "std_dev = np.std(data)\n",
    "min_val = np.min(data)\n",
    "max_val = np.max(data)\n",
    "\n",
    "#plt.legend([f'Mean: {mean_val:.2f}', f'Median: {median_val:.2f}', f'Standard Deviation: {std_dev:.2f}', f'Min: {min_val:.2f}', f'Max: {max_val:.2f}'], loc='upper right', ncols=10)\n",
    "\n",
    "plt.axvline(mean_val, color='red', linestyle='--', label=f'Mean: {mean_val:.2f}')\n",
    "plt.axvline(median_val, color='green', linestyle='-.', label=f'Median: {median_val:.2f}')\n",
    "\n",
    "plt.legend(loc='upper right')\n",
    "\n",
    "print(min_val)\n",
    "print(max_val)\n",
    "print(std_dev)\n",
    "\n",
    "plt.title(\"Histogram for average price per room\")\n",
    "plt.show()"
   ]
  },
  {
   "cell_type": "code",
   "execution_count": 10,
   "metadata": {},
   "outputs": [
    {
     "data": {
      "image/png": "[encoded data removed]",
      "text/plain": [
       "<Figure size 640x480 with 2 Axes>"
      ]
     },
     "metadata": {},
     "output_type": "display_data"
    }
   ],
   "source": [
    "numeric_df = cicatrices_incedios.select_dtypes(include=\"number\")\n",
    "sns.heatmap(numeric_df.corr(method=\"pearson\"), annot=True, cmap='coolwarm', annot_kws={\"size\": 6})\n",
    "plt.show()"
   ]
  }
 ],
 "metadata": {
  "kernelspec": {
   "display_name": "Python 3",
   "language": "python",
   "name": "python3"
  },
  "language_info": {
   "codemirror_mode": {
    "name": "ipython",
    "version": 3
   },
   "file_extension": ".py",
   "mimetype": "text/x-python",
   "name": "python",
   "nbconvert_exporter": "python",
   "pygments_lexer": "ipython3",
   "version": "3.12.9"
  }
 },
 "nbformat": 4,
 "nbformat_minor": 2
}
