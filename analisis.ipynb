{
 "cells": [
  {
   "cell_type": "markdown",
   "metadata": {},
   "source": [
    "# Minería de datos, Incendios: Analisis de Datos de los CSV"
   ]
  },
  {
   "cell_type": "markdown",
   "metadata": {},
   "source": [
    "## importaciones de las librerías\n",
    "### Importamos Pandas para:\n",
    "<ul>\n",
    "    <li>El trabajo con CSV</li>\n",
    "    <li></li>\n",
    "</ul>"
   ]
  },
  {
   "cell_type": "code",
   "execution_count": null,
   "metadata": {},
   "outputs": [],
   "source": [
    "import pandas as pd\n",
    "import seaborn as sns\n",
    "import matplotlib.pyplot as plt\n",
    "import plotly.express as px\n",
    "import numpy as np"
   ]
  },
  {
   "cell_type": "markdown",
   "metadata": {},
   "source": [
    "## Importación de la data"
   ]
  },
  {
   "cell_type": "code",
   "execution_count": null,
   "metadata": {},
   "outputs": [],
   "source": [
    "cicatrices_incedios = pd.read_csv(\"https://raw.githubusercontent.com/Kiki1108/incendios/refs/heads/main/data/cicatrices_incendios_resumen.csv\")\n",
    "cicatrices_incedios.head()"
   ]
  },
  {
   "cell_type": "markdown",
   "metadata": {},
   "source": [
    "### ¿Qué significa cada una de las columnas?\n",
    "\n",
    "<ul>\n",
    "    <li><strong>fireID</strong> → Identificador único del incendio.</li>\n",
    "    <li><strong>season</strong> → Año en que ocurrió el incendio.</li>\n",
    "    <li><strong>code</strong> → Código del área donde ocurrió el incendio (probablemente código regional o de país).</li>\n",
    "    <li><strong>cut_reg</strong> → Código de la región administrativa en la que ocurrió el incendio.</li>\n",
    "    <li><strong>region_conaf</strong> → Nombre de la región según la CONAF (Corporación Nacional Forestal de Chile).</li>\n",
    "    <li><strong>name_conaf</strong> → Nombre asignado al incendio en los registros de CONAF.</li>\n",
    "    <li><strong>area_conaf</strong> → Área del incendio registrada por CONAF en hectáreas.</li>\n",
    "    <li><strong>ign_date_conaf</strong> → Fecha de inicio del incendio.</li>\n",
    "    <li><strong>ctrl_date_conaf</strong> → Fecha en que el incendio fue controlado.</li>\n",
    "    <li><strong>lat, lon</strong> → Latitud y longitud del incendio.</li>\n",
    "    <li><strong>firescar</strong> → Identificación de la cicatriz del incendio (probablemente en imágenes satelitales).</li>\n",
    "    <li><strong>folderloc</strong> → Ubicación del archivo en la base de datos.</li>\n",
    "    <li><strong>firescar_img_name</strong> → Nombre de la imagen satelital de la cicatriz del incendio.</li>\n",
    "    <li><strong>prefire_img_name</strong> → Nombre de la imagen satelital previa al incendio.</li>\n",
    "    <li><strong>postfire_img_name</strong> → Nombre de la imagen satelital posterior al incendio.</li>\n",
    "    <li><strong>rdnbr_img_name</strong> → Nombre de la imagen con el índice RDNBR (relacionado con la severidad del incendio).</li>\n",
    "    <li><strong>sev_img_name</strong> → Imagen de severidad del incendio.</li>\n",
    "    <li><strong>firescar_vec_name</strong> → Nombre del archivo vectorial de la cicatriz del incendio.</li>\n",
    "    <li><strong>sev_vec_name</strong> → Nombre del archivo vectorial de la severidad del incendio.</li>\n",
    "    <li><strong>north_lat, south_lat</strong> → Latitud máxima y mínima del área afectada.</li>\n",
    "    <li><strong>west_lon, east_lon</strong> → Longitud máxima y mínima del área afectada.</li>\n",
    "    <li><strong>width, height</strong> → Dimensiones de la zona afectada (posiblemente en píxeles o metros).</li>\n",
    "    <li><strong>total_area</strong> → Área total afectada (posiblemente en m²).</li>\n",
    "    <li><strong>area_unchs</strong> → Área sin cambios después del incendio.</li>\n",
    "    <li><strong>area_lows</strong> → Área con baja severidad de quemado.</li>\n",
    "    <li><strong>area_mods</strong> → Área con severidad moderada.</li>\n",
    "    <li><strong>area_hs</strong> → Área con alta severidad.</li>\n",
    "    <li><strong>firescar_poly</strong> → Polígonos de cicatrices de incendios.</li>\n",
    "    <li><strong>sev_poly</strong> → Polígonos de severidad del incendio.</li>\n",
    "    <li><strong>overlap</strong> → Superposición con incendios previos o cicatrices antiguas.</li>\n",
    "    <li><strong>obs</strong> → Observaciones adicionales sobre el incendio.</li>\n",
    "</ul>\n",
    "\n",
    "\n",
    "## Analisis del estado / calidad de los datos"
   ]
  },
  {
   "cell_type": "code",
   "execution_count": null,
   "metadata": {},
   "outputs": [],
   "source": [
    "# Analisis de missing values\n",
    "cicatrices_incedios.isna().sum()"
   ]
  },
  {
   "cell_type": "code",
   "execution_count": null,
   "metadata": {},
   "outputs": [],
   "source": [
    "# Revisión de duplicados\n",
    "print(cicatrices_incedios.duplicated().sum())"
   ]
  },
  {
   "cell_type": "code",
   "execution_count": null,
   "metadata": {},
   "outputs": [],
   "source": [
    "# Descriptores generales\n",
    "# Cantidad, media, desviación estandar, minimo, maximo, quartiles.\n",
    "cicatrices_incedios.describe()"
   ]
  },
  {
   "cell_type": "code",
   "execution_count": null,
   "metadata": {},
   "outputs": [],
   "source": [
    "# Revisión de tipos de datos\n",
    "cicatrices_incedios.info()"
   ]
  },
  {
   "cell_type": "code",
   "execution_count": null,
   "metadata": {},
   "outputs": [],
   "source": [
    "# Revisión de valores únicos por columna\n",
    "cols = cicatrices_incedios.columns.tolist()\n",
    "for col in cols:\n",
    "    print(f\"{col}: {cicatrices_incedios[col].unique()}\")"
   ]
  },
  {
   "cell_type": "code",
   "execution_count": null,
   "metadata": {},
   "outputs": [],
   "source": [
    "# Asegurarse que ign_date_conaf es de tipo datetime\n",
    "cicatrices_incedios[\"ign_date_conaf\"] = pd.to_datetime(cicatrices_incedios[\"ign_date_conaf\"])\n",
    "\n",
    "# Extraer solo el mes en formato numérico (01, 02, ..., 12)\n",
    "cicatrices_incedios[\"mes_incendio\"] = cicatrices_incedios[\"ign_date_conaf\"].dt.strftime(\"%m\")\n",
    "\n",
    "# Crear el gráfico Sunburst\n",
    "fig = px.sunburst(cicatrices_incedios, path=[\"region_conaf\", \"mes_incendio\"])\n",
    "fig.update_traces(textinfo=\"label+percent parent\")\n",
    "fig.show()"
   ]
  },
  {
   "cell_type": "code",
   "execution_count": null,
   "metadata": {},
   "outputs": [],
   "source": [
    "data = cicatrices_incedios[\"mes_incendio\"]\n",
    "sns.histplot(data, bins=100, kde=True)\n",
    "\n",
    "mean_val = np.mean(data)\n",
    "median_val = np.median(data)\n",
    "std_dev = np.std(data)\n",
    "min_val = np.min(data)\n",
    "max_val = np.max(data)\n",
    "\n",
    "#plt.legend([f'Mean: {mean_val:.2f}', f'Median: {median_val:.2f}', f'Standard Deviation: {std_dev:.2f}', f'Min: {min_val:.2f}', f'Max: {max_val:.2f}'], loc='upper right', ncols=10)\n",
    "\n",
    "plt.axvline(mean_val, color='red', linestyle='--', label=f'Mean: {mean_val:.2f}')\n",
    "plt.axvline(median_val, color='green', linestyle='-.', label=f'Median: {median_val:.2f}')\n",
    "\n",
    "plt.legend(loc='upper right')\n",
    "\n",
    "print(min_val)\n",
    "print(max_val)\n",
    "print(std_dev)\n",
    "\n",
    "plt.title(\"Histogram for average price per room\")\n",
    "plt.show()"
   ]
  },
  {
   "cell_type": "code",
   "execution_count": null,
   "metadata": {},
   "outputs": [],
   "source": [
    "# Revisión de la corralación entre variables\n",
    "numeric_df = cicatrices_incedios.select_dtypes(include=\"number\")\n",
    "sns.heatmap(numeric_df.corr(method=\"pearson\"), annot=True, cmap='coolwarm', annot_kws={\"size\": 6})\n",
    "plt.show()"
   ]
  },
  {
   "cell_type": "markdown",
   "metadata": {},
   "source": [
    "### Qué preguntantas nos podemos hacer??\n",
    "\n",
    "<ul>\n",
    "    <li>aaaa\n",
    "    </li>\n",
    "</ul>"
   ]
  }
 ],
 "metadata": {
  "kernelspec": {
   "display_name": "Python 3",
   "language": "python",
   "name": "python3"
  },
  "language_info": {
   "codemirror_mode": {
    "name": "ipython",
    "version": 3
   },
   "file_extension": ".py",
   "mimetype": "text/x-python",
   "name": "python",
   "nbconvert_exporter": "python",
   "pygments_lexer": "ipython3",
   "version": "3.12.9"
  }
 },
 "nbformat": 4,
 "nbformat_minor": 2
}
