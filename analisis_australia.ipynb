{
 "cells": [
  {
   "cell_type": "markdown",
   "id": "100eefc3",
   "metadata": {},
   "source": [
    "# Analisis de incendios en Australia, Fuente XXXXXXXXXXX\n",
    "Ramo Minería de datos"
   ]
  },
  {
   "cell_type": "code",
   "execution_count": null,
   "id": "bcda8b0f",
   "metadata": {},
   "outputs": [],
   "source": [
    "# Importación de librerías\n",
    "import pandas as pd\n",
    "import seaborn as sns\n",
    "import matplotlib.pyplot as plt\n",
    "import plotly.express as px\n",
    "import numpy as np"
   ]
  },
  {
   "cell_type": "code",
   "execution_count": null,
   "id": "406e2f60",
   "metadata": {},
   "outputs": [],
   "source": [
    "# Importación de datos\n",
    "incendios = pd.read_csv(\"https://raw.githubusercontent.com/Kiki1108/incendios/refs/heads/main/data/nws_australia.csv\")\n",
    "incendios.head()"
   ]
  },
  {
   "cell_type": "markdown",
   "id": "c9f6705b",
   "metadata": {},
   "source": [
    "### ¿Qué significa cada una de las columnas?\n",
    "\n",
    "<ul>\n",
    "    <li>AAAAAAAAAAAAAA</li>\n",
    "</ul>"
   ]
  },
  {
   "cell_type": "code",
   "execution_count": null,
   "id": "a75356c2",
   "metadata": {},
   "outputs": [],
   "source": [
    "# Analisis de missing values\n",
    "incendios.isna().sum()"
   ]
  },
  {
   "cell_type": "code",
   "execution_count": null,
   "id": "14ee7809",
   "metadata": {},
   "outputs": [],
   "source": [
    "# Revisión de duplicados\n",
    "print(incendios.duplicated().sum())"
   ]
  },
  {
   "cell_type": "code",
   "execution_count": null,
   "id": "4a751a6a",
   "metadata": {},
   "outputs": [],
   "source": [
    "# Descriptores generales\n",
    "# Cantidad, media, desviación estandar, minimo, maximo, quartiles.\n",
    "incendios.describe()"
   ]
  },
  {
   "cell_type": "code",
   "execution_count": null,
   "id": "a265b61e",
   "metadata": {},
   "outputs": [],
   "source": [
    "# Revisión de tipos de datos\n",
    "incendios.info()"
   ]
  },
  {
   "cell_type": "code",
   "execution_count": null,
   "id": "b8889c09",
   "metadata": {},
   "outputs": [],
   "source": [
    "# Revisión de valores únicos por columna\n",
    "cols = incendios.columns.tolist()\n",
    "for col in cols:\n",
    "    print(f\"{col}: {incendios[col].unique()}\")"
   ]
  },
  {
   "cell_type": "markdown",
   "id": "68a4257c",
   "metadata": {},
   "source": [
    "### Qué preguntantas nos podemos hacer??\n",
    "\n",
    "<ul>\n",
    "    <li>¿En qué mes hay más incencios?</li>\n",
    "    <li>¿Cuál es la distribución con los incendios en fecha?</li>\n",
    "    <li>¿Cuál es la distribución con los incendios por año?</li>\n",
    "    <li>Area por mes</li>\n",
    "    <li>Area por año</li>\n",
    "    <li>CSV datos metereológicos</li>\n",
    "</ul>"
   ]
  },
  {
   "cell_type": "code",
   "execution_count": null,
   "id": "72437e6a",
   "metadata": {},
   "outputs": [],
   "source": [
    "# Años con más incendios\n",
    "area_anual = incendios.groupby(\"Year\")[\"AreaHa\"].sum()\n",
    "\n",
    "area_anual_df = area_anual.reset_index()  # convierte Series a DataFrame\n",
    "\n",
    "sns.barplot(data=area_anual_df, x=\"Year\", y=\"AreaHa\")\n",
    "\n",
    "plt.title(\"Área quemada por año\")\n",
    "plt.xlabel(\"Año\")\n",
    "plt.ylabel(\"Área quemada (hectáreas)\")\n",
    "plt.xticks(rotation=90)  # gira las etiquetas del eje x si hay muchos años\n",
    "plt.tight_layout()\n",
    "plt.show()\n"
   ]
  },
  {
   "cell_type": "code",
   "execution_count": null,
   "id": "03f6f8f3",
   "metadata": {},
   "outputs": [],
   "source": [
    "# Usamos los datos agrupados que ya tienes\n",
    "area_anual = incendios.groupby(\"Year\")[\"AreaHa\"].sum()\n",
    "\n",
    "# Ordenamos de mayor a menor para que se vea más claro\n",
    "area_anual = area_anual.sort_values(ascending=False)\n",
    "\n",
    "# Si hay demasiados años, mejor mostrar solo los más relevantes\n",
    "top_n = 10\n",
    "area_top = area_anual.head(top_n)\n",
    "otros = area_anual.iloc[top_n:].sum()\n",
    "area_top[\"Otros\"] = otros  # agrupamos los años menores como \"Otros\"\n",
    "\n",
    "# Gráfico de torta\n",
    "plt.figure(figsize=(8, 8))\n",
    "plt.pie(area_top, labels=area_top.index, autopct=\"%1.1f%%\", startangle=90)\n",
    "\n",
    "plt.title(\"Proporción del área quemada por año\")\n",
    "plt.tight_layout()\n",
    "plt.show()"
   ]
  },
  {
   "cell_type": "code",
   "execution_count": null,
   "id": "a8b1e4f4",
   "metadata": {},
   "outputs": [],
   "source": [
    "# Ordenamos de mayor a menor (opcional)\n",
    "area_anual = area_anual.sort_values(ascending=False)\n",
    "\n",
    "# Gráfico de torta\n",
    "plt.figure(figsize=(10, 10))\n",
    "plt.pie(\n",
    "    area_anual,\n",
    "    labels=area_anual.index,\n",
    "    autopct=\"%1.1f%%\",\n",
    "    startangle=90,\n",
    "    textprops={'fontsize': 6}  # Tamaño de letra más pequeño\n",
    ")\n",
    "\n",
    "plt.title(\"Proporción del área quemada por año\", fontsize=12)\n",
    "plt.tight_layout()\n",
    "plt.show()"
   ]
  },
  {
   "cell_type": "code",
   "execution_count": null,
   "id": "443f6b54",
   "metadata": {},
   "outputs": [],
   "source": [
    "# Asegúrate de que las fechas estén bien\n",
    "incendios[\"StartDate\"] = pd.to_datetime(incendios[\"StartDate\"])\n",
    "incendios[\"mes_incendio\"] = incendios[\"StartDate\"].dt.strftime(\"%m\")\n",
    "incendios[\"anio\"] = incendios[\"StartDate\"].dt.year\n",
    "\n",
    "# Contar cantidad de incendios por mes y año\n",
    "conteo_por_mes_anio = incendios.groupby([\"mes_incendio\", \"anio\"]).size().reset_index(name=\"cantidad\")\n",
    "\n",
    "# Calcular el promedio por mes\n",
    "promedio_incendios_mes = conteo_por_mes_anio.groupby(\"mes_incendio\")[\"cantidad\"].mean().reset_index()\n",
    "\n",
    "# Ordenar los meses\n",
    "orden_meses = ['07', '08', '09', '10', '11', '12', '01', '02', '03', '04', '05', '06']\n",
    "\n",
    "# Gráfico\n",
    "sns.barplot(data=promedio_incendios_mes, x=\"mes_incendio\", y=\"cantidad\", order=orden_meses)\n",
    "\n",
    "plt.title(\"Promedio de incendios por mes (normalizado por año)\")\n",
    "plt.xlabel(\"Mes\")\n",
    "plt.ylabel(\"Promedio de incendios\")\n",
    "plt.tight_layout()\n",
    "plt.show()\n"
   ]
  },
  {
   "cell_type": "code",
   "execution_count": null,
   "id": "25d9bde5",
   "metadata": {},
   "outputs": [],
   "source": [
    "orden_meses = ['07', '08', '09', '10', '11', '12', '01', '02', '03', '04', '05', '06']\n",
    "\n",
    "sns.countplot(data=incendios, x=\"mes_incendio\", order=orden_meses)\n",
    "\n",
    "\n",
    "plt.title(\"Cantidad de incendios por mes\")\n",
    "plt.xlabel(\"Mes\")\n",
    "plt.ylabel(\"Cantidad de incendios\")\n",
    "plt.show()"
   ]
  },
  {
   "cell_type": "code",
   "execution_count": null,
   "id": "362f88a2",
   "metadata": {},
   "outputs": [],
   "source": [
    "# Asegúrate que 'StartDate' está en datetime (ya lo tienes)\n",
    "incendios[\"StartDate\"] = pd.to_datetime(incendios[\"StartDate\"])\n",
    "\n",
    "# Extraer mes y año\n",
    "incendios[\"mes_incendio\"] = incendios[\"StartDate\"].dt.strftime(\"%m\")\n",
    "incendios[\"anio\"] = incendios[\"StartDate\"].dt.year\n",
    "\n",
    "# Crear tabla con área total por mes y año\n",
    "area_por_mes_anio = incendios.groupby([\"mes_incendio\", \"anio\"])[\"AreaHa\"].sum().reset_index()\n",
    "\n",
    "# Ahora agrupamos solo por mes para sacar el promedio\n",
    "area_mes_promedio = area_por_mes_anio.groupby(\"mes_incendio\")[\"AreaHa\"].mean().reset_index()\n",
    "\n",
    "# Orden de meses\n",
    "orden_meses = ['07', '08', '09', '10', '11', '12', '01', '02', '03', '04', '05', '06']\n",
    "\n",
    "# Gráfico\n",
    "sns.barplot(data=area_mes_promedio, x=\"mes_incendio\", y=\"AreaHa\", order=orden_meses)\n",
    "\n",
    "plt.title(\"Promedio de área quemada por mes (normalizado por año)\")\n",
    "plt.xlabel(\"Mes\")\n",
    "plt.ylabel(\"Área quemada promedio (ha)\")\n",
    "plt.tight_layout()\n",
    "plt.show()\n"
   ]
  }
 ],
 "metadata": {
  "kernelspec": {
   "display_name": "Python 3",
   "language": "python",
   "name": "python3"
  },
  "language_info": {
   "codemirror_mode": {
    "name": "ipython",
    "version": 3
   },
   "file_extension": ".py",
   "mimetype": "text/x-python",
   "name": "python",
   "nbconvert_exporter": "python",
   "pygments_lexer": "ipython3",
   "version": "3.12.10"
  }
 },
 "nbformat": 4,
 "nbformat_minor": 5
}
