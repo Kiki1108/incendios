{
 "cells": [
  {
   "cell_type": "markdown",
   "metadata": {},
   "source": [
    "# Analisis de incendios en Chile, Fuente CONAF\n",
    "Ramo Minería de datos"
   ]
  },
  {
   "cell_type": "code",
   "execution_count": 1,
   "metadata": {},
   "outputs": [],
   "source": [
    "# Importación de librerías\n",
    "import pandas as pd\n",
    "import seaborn as sns\n",
    "import matplotlib.pyplot as plt\n",
    "import plotly.express as px\n",
    "import numpy as np"
   ]
  },
  {
   "cell_type": "code",
   "execution_count": 2,
   "metadata": {},
   "outputs": [
    {
     "data": {
      "text/html": [
       "<div>\n",
       "<style scoped>\n",
       "    .dataframe tbody tr th:only-of-type {\n",
       "        vertical-align: middle;\n",
       "    }\n",
       "\n",
       "    .dataframe tbody tr th {\n",
       "        vertical-align: top;\n",
       "    }\n",
       "\n",
       "    .dataframe thead th {\n",
       "        text-align: right;\n",
       "    }\n",
       "</style>\n",
       "<table border=\"1\" class=\"dataframe\">\n",
       "  <thead>\n",
       "    <tr style=\"text-align: right;\">\n",
       "      <th></th>\n",
       "      <th>fireID</th>\n",
       "      <th>season</th>\n",
       "      <th>code</th>\n",
       "      <th>cut_reg</th>\n",
       "      <th>region_conaf</th>\n",
       "      <th>name_conaf</th>\n",
       "      <th>area_conaf</th>\n",
       "      <th>ign_date_conaf</th>\n",
       "      <th>ctrl_date_conaf</th>\n",
       "      <th>lat</th>\n",
       "      <th>...</th>\n",
       "      <th>height</th>\n",
       "      <th>total_area</th>\n",
       "      <th>area_unchs</th>\n",
       "      <th>area_lows</th>\n",
       "      <th>area_mods</th>\n",
       "      <th>area_hs</th>\n",
       "      <th>firescar_poly</th>\n",
       "      <th>sev_poly</th>\n",
       "      <th>overlap</th>\n",
       "      <th>obs</th>\n",
       "    </tr>\n",
       "  </thead>\n",
       "  <tbody>\n",
       "    <tr>\n",
       "      <th>0</th>\n",
       "      <td>ID10000</td>\n",
       "      <td>1986</td>\n",
       "      <td>CL-BI</td>\n",
       "      <td>8</td>\n",
       "      <td>Biobío</td>\n",
       "      <td>RAPELCO</td>\n",
       "      <td>51.0</td>\n",
       "      <td>1986-01-04</td>\n",
       "      <td>1986-01-04</td>\n",
       "      <td>-37.6710</td>\n",
       "      <td>...</td>\n",
       "      <td>NaN</td>\n",
       "      <td>NaN</td>\n",
       "      <td>NaN</td>\n",
       "      <td>NaN</td>\n",
       "      <td>NaN</td>\n",
       "      <td>NaN</td>\n",
       "      <td>NaN</td>\n",
       "      <td>NaN</td>\n",
       "      <td>NaN</td>\n",
       "      <td>NaN</td>\n",
       "    </tr>\n",
       "    <tr>\n",
       "      <th>1</th>\n",
       "      <td>ID100000</td>\n",
       "      <td>2003</td>\n",
       "      <td>CL-ML</td>\n",
       "      <td>7</td>\n",
       "      <td>Maule</td>\n",
       "      <td>MAITENHUAPI</td>\n",
       "      <td>50.0</td>\n",
       "      <td>2003-02-09</td>\n",
       "      <td>2003-02-09</td>\n",
       "      <td>-35.3283</td>\n",
       "      <td>...</td>\n",
       "      <td>46.0</td>\n",
       "      <td>4.278272e+05</td>\n",
       "      <td>0.0</td>\n",
       "      <td>0.0</td>\n",
       "      <td>178748.092346</td>\n",
       "      <td>2.490791e+05</td>\n",
       "      <td>1.0</td>\n",
       "      <td>57.0</td>\n",
       "      <td>NaN</td>\n",
       "      <td>NaN</td>\n",
       "    </tr>\n",
       "    <tr>\n",
       "      <th>2</th>\n",
       "      <td>ID10002</td>\n",
       "      <td>1986</td>\n",
       "      <td>CL-BI</td>\n",
       "      <td>16</td>\n",
       "      <td>Ñuble</td>\n",
       "      <td>LAs chilcas</td>\n",
       "      <td>87.0</td>\n",
       "      <td>1986-02-03</td>\n",
       "      <td>1986-02-03</td>\n",
       "      <td>-36.6711</td>\n",
       "      <td>...</td>\n",
       "      <td>118.0</td>\n",
       "      <td>3.227681e+06</td>\n",
       "      <td>0.0</td>\n",
       "      <td>0.0</td>\n",
       "      <td>710373.072388</td>\n",
       "      <td>2.517308e+06</td>\n",
       "      <td>16.0</td>\n",
       "      <td>423.0</td>\n",
       "      <td>NaN</td>\n",
       "      <td>The ignition point is located in the current C...</td>\n",
       "    </tr>\n",
       "    <tr>\n",
       "      <th>3</th>\n",
       "      <td>ID100027</td>\n",
       "      <td>2003</td>\n",
       "      <td>CL-ML</td>\n",
       "      <td>7</td>\n",
       "      <td>Maule</td>\n",
       "      <td>LAS CATALINAS II</td>\n",
       "      <td>80.0</td>\n",
       "      <td>2003-02-15</td>\n",
       "      <td>2003-02-16</td>\n",
       "      <td>-35.5755</td>\n",
       "      <td>...</td>\n",
       "      <td>114.0</td>\n",
       "      <td>1.155078e+06</td>\n",
       "      <td>0.0</td>\n",
       "      <td>0.0</td>\n",
       "      <td>539904.116699</td>\n",
       "      <td>6.151739e+05</td>\n",
       "      <td>6.0</td>\n",
       "      <td>122.0</td>\n",
       "      <td>NaN</td>\n",
       "      <td>NaN</td>\n",
       "    </tr>\n",
       "    <tr>\n",
       "      <th>4</th>\n",
       "      <td>ID10003</td>\n",
       "      <td>1986</td>\n",
       "      <td>CL-BI</td>\n",
       "      <td>16</td>\n",
       "      <td>Ñuble</td>\n",
       "      <td>NAHUELTORO 1</td>\n",
       "      <td>53.0</td>\n",
       "      <td>1986-02-06</td>\n",
       "      <td>1986-02-06</td>\n",
       "      <td>-36.4938</td>\n",
       "      <td>...</td>\n",
       "      <td>NaN</td>\n",
       "      <td>NaN</td>\n",
       "      <td>NaN</td>\n",
       "      <td>NaN</td>\n",
       "      <td>NaN</td>\n",
       "      <td>NaN</td>\n",
       "      <td>NaN</td>\n",
       "      <td>NaN</td>\n",
       "      <td>NaN</td>\n",
       "      <td>NaN</td>\n",
       "    </tr>\n",
       "  </tbody>\n",
       "</table>\n",
       "<p>5 rows × 35 columns</p>\n",
       "</div>"
      ],
      "text/plain": [
       "     fireID  season   code  cut_reg region_conaf        name_conaf  \\\n",
       "0   ID10000    1986  CL-BI        8       Biobío           RAPELCO   \n",
       "1  ID100000    2003  CL-ML        7        Maule       MAITENHUAPI   \n",
       "2   ID10002    1986  CL-BI       16        Ñuble       LAs chilcas   \n",
       "3  ID100027    2003  CL-ML        7        Maule  LAS CATALINAS II   \n",
       "4   ID10003    1986  CL-BI       16        Ñuble      NAHUELTORO 1   \n",
       "\n",
       "   area_conaf ign_date_conaf ctrl_date_conaf      lat  ...  height  \\\n",
       "0        51.0     1986-01-04      1986-01-04 -37.6710  ...     NaN   \n",
       "1        50.0     2003-02-09      2003-02-09 -35.3283  ...    46.0   \n",
       "2        87.0     1986-02-03      1986-02-03 -36.6711  ...   118.0   \n",
       "3        80.0     2003-02-15      2003-02-16 -35.5755  ...   114.0   \n",
       "4        53.0     1986-02-06      1986-02-06 -36.4938  ...     NaN   \n",
       "\n",
       "     total_area area_unchs area_lows      area_mods       area_hs  \\\n",
       "0           NaN        NaN       NaN            NaN           NaN   \n",
       "1  4.278272e+05        0.0       0.0  178748.092346  2.490791e+05   \n",
       "2  3.227681e+06        0.0       0.0  710373.072388  2.517308e+06   \n",
       "3  1.155078e+06        0.0       0.0  539904.116699  6.151739e+05   \n",
       "4           NaN        NaN       NaN            NaN           NaN   \n",
       "\n",
       "  firescar_poly sev_poly overlap  \\\n",
       "0           NaN      NaN     NaN   \n",
       "1           1.0     57.0     NaN   \n",
       "2          16.0    423.0     NaN   \n",
       "3           6.0    122.0     NaN   \n",
       "4           NaN      NaN     NaN   \n",
       "\n",
       "                                                 obs  \n",
       "0                                                NaN  \n",
       "1                                                NaN  \n",
       "2  The ignition point is located in the current C...  \n",
       "3                                                NaN  \n",
       "4                                                NaN  \n",
       "\n",
       "[5 rows x 35 columns]"
      ]
     },
     "execution_count": 2,
     "metadata": {},
     "output_type": "execute_result"
    }
   ],
   "source": [
    "# Importación de datos\n",
    "cicatrices_incedios = pd.read_csv(\"https://raw.githubusercontent.com/Kiki1108/incendios/refs/heads/main/data/chile.csv\")\n",
    "cicatrices_incedios.head()"
   ]
  },
  {
   "cell_type": "markdown",
   "metadata": {},
   "source": [
    "### ¿Qué significa cada una de las columnas?\n",
    "\n",
    "<ul>\n",
    "    <li><strong>fireID</strong> → Identificador único del incendio.</li>\n",
    "    <li><strong>season</strong> → Año en que ocurrió el incendio.</li>\n",
    "    <li><strong>code</strong> → Código del área donde ocurrió el incendio (probablemente código regional o de país).</li>\n",
    "    <li><strong>cut_reg</strong> → Código de la región administrativa en la que ocurrió el incendio.</li>\n",
    "    <li><strong>region_conaf</strong> → Nombre de la región según la CONAF (Corporación Nacional Forestal de Chile).</li>\n",
    "    <li><strong>name_conaf</strong> → Nombre asignado al incendio en los registros de CONAF.</li>\n",
    "    <li><strong>area_conaf</strong> → Área del incendio registrada por CONAF en hectáreas.</li>\n",
    "    <li><strong>ign_date_conaf</strong> → Fecha de inicio del incendio.</li>\n",
    "    <li><strong>ctrl_date_conaf</strong> → Fecha en que el incendio fue controlado.</li>\n",
    "    <li><strong>lat, lon</strong> → Latitud y longitud del incendio.</li>\n",
    "    <li><strong>firescar</strong> → Identificación de la cicatriz del incendio (probablemente en imágenes satelitales).</li>\n",
    "    <li><strong>folderloc</strong> → Ubicación del archivo en la base de datos.</li>\n",
    "    <li><strong>firescar_img_name</strong> → Nombre de la imagen satelital de la cicatriz del incendio.</li>\n",
    "    <li><strong>prefire_img_name</strong> → Nombre de la imagen satelital previa al incendio.</li>\n",
    "    <li><strong>postfire_img_name</strong> → Nombre de la imagen satelital posterior al incendio.</li>\n",
    "    <li><strong>rdnbr_img_name</strong> → Nombre de la imagen con el índice RDNBR (relacionado con la severidad del incendio).</li>\n",
    "    <li><strong>sev_img_name</strong> → Imagen de severidad del incendio.</li>\n",
    "    <li><strong>firescar_vec_name</strong> → Nombre del archivo vectorial de la cicatriz del incendio.</li>\n",
    "    <li><strong>sev_vec_name</strong> → Nombre del archivo vectorial de la severidad del incendio.</li>\n",
    "    <li><strong>north_lat, south_lat</strong> → Latitud máxima y mínima del área afectada.</li>\n",
    "    <li><strong>west_lon, east_lon</strong> → Longitud máxima y mínima del área afectada.</li>\n",
    "    <li><strong>width, height</strong> → Dimensiones de la zona afectada (posiblemente en píxeles o metros).</li>\n",
    "    <li><strong>total_area</strong> → Área total afectada (posiblemente en m²).</li>\n",
    "    <li><strong>area_unchs</strong> → Área sin cambios después del incendio.</li>\n",
    "    <li><strong>area_lows</strong> → Área con baja severidad de quemado.</li>\n",
    "    <li><strong>area_mods</strong> → Área con severidad moderada.</li>\n",
    "    <li><strong>area_hs</strong> → Área con alta severidad.</li>\n",
    "    <li><strong>firescar_poly</strong> → Polígonos de cicatrices de incendios.</li>\n",
    "    <li><strong>sev_poly</strong> → Polígonos de severidad del incendio.</li>\n",
    "    <li><strong>overlap</strong> → Superposición con incendios previos o cicatrices antiguas.</li>\n",
    "    <li><strong>obs</strong> → Observaciones adicionales sobre el incendio.</li>\n",
    "</ul>\n",
    "\n",
    "\n",
    "## Analisis del estado / calidad de los datos"
   ]
  },
  {
   "cell_type": "code",
   "execution_count": 3,
   "metadata": {},
   "outputs": [
    {
     "data": {
      "text/plain": [
       "fireID                   0\n",
       "season                   0\n",
       "code                     0\n",
       "cut_reg                  0\n",
       "region_conaf             0\n",
       "name_conaf               0\n",
       "area_conaf               0\n",
       "ign_date_conaf           0\n",
       "ctrl_date_conaf          0\n",
       "lat                      0\n",
       "lon                      0\n",
       "firescar                 0\n",
       "folderloc             4097\n",
       "firescar_img_name     4097\n",
       "prefire_img_name      4097\n",
       "postfire_img_name     4097\n",
       "rdnbr_img_name        4097\n",
       "sev_img_name          4097\n",
       "firescar_vec_name     4097\n",
       "sev_vec_name          4097\n",
       "north_lat             4097\n",
       "south_lat             4097\n",
       "west_lon              4097\n",
       "east_lon              4097\n",
       "width                 4097\n",
       "height                4097\n",
       "total_area            4097\n",
       "area_unchs            4097\n",
       "area_lows             4097\n",
       "area_mods             4097\n",
       "area_hs               4097\n",
       "firescar_poly         4097\n",
       "sev_poly              4097\n",
       "overlap              10064\n",
       "obs                  11589\n",
       "dtype: int64"
      ]
     },
     "execution_count": 3,
     "metadata": {},
     "output_type": "execute_result"
    }
   ],
   "source": [
    "# Analisis de missing values\n",
    "cicatrices_incedios.isna().sum()"
   ]
  },
  {
   "cell_type": "code",
   "execution_count": 4,
   "metadata": {},
   "outputs": [
    {
     "name": "stdout",
     "output_type": "stream",
     "text": [
      "0\n"
     ]
    }
   ],
   "source": [
    "# Revisión de duplicados\n",
    "print(cicatrices_incedios.duplicated().sum())"
   ]
  },
  {
   "cell_type": "code",
   "execution_count": 5,
   "metadata": {},
   "outputs": [
    {
     "data": {
      "text/html": [
       "<div>\n",
       "<style scoped>\n",
       "    .dataframe tbody tr th:only-of-type {\n",
       "        vertical-align: middle;\n",
       "    }\n",
       "\n",
       "    .dataframe tbody tr th {\n",
       "        vertical-align: top;\n",
       "    }\n",
       "\n",
       "    .dataframe thead th {\n",
       "        text-align: right;\n",
       "    }\n",
       "</style>\n",
       "<table border=\"1\" class=\"dataframe\">\n",
       "  <thead>\n",
       "    <tr style=\"text-align: right;\">\n",
       "      <th></th>\n",
       "      <th>season</th>\n",
       "      <th>cut_reg</th>\n",
       "      <th>area_conaf</th>\n",
       "      <th>lat</th>\n",
       "      <th>lon</th>\n",
       "      <th>firescar</th>\n",
       "      <th>north_lat</th>\n",
       "      <th>south_lat</th>\n",
       "      <th>west_lon</th>\n",
       "      <th>east_lon</th>\n",
       "      <th>width</th>\n",
       "      <th>height</th>\n",
       "      <th>total_area</th>\n",
       "      <th>area_unchs</th>\n",
       "      <th>area_lows</th>\n",
       "      <th>area_mods</th>\n",
       "      <th>area_hs</th>\n",
       "      <th>firescar_poly</th>\n",
       "      <th>sev_poly</th>\n",
       "    </tr>\n",
       "  </thead>\n",
       "  <tbody>\n",
       "    <tr>\n",
       "      <th>count</th>\n",
       "      <td>12250.000000</td>\n",
       "      <td>12250.000000</td>\n",
       "      <td>12250.000000</td>\n",
       "      <td>12250.000000</td>\n",
       "      <td>12250.000000</td>\n",
       "      <td>12250.000000</td>\n",
       "      <td>8153.000000</td>\n",
       "      <td>8153.000000</td>\n",
       "      <td>8153.000000</td>\n",
       "      <td>8153.000000</td>\n",
       "      <td>8153.000000</td>\n",
       "      <td>8153.000000</td>\n",
       "      <td>8.153000e+03</td>\n",
       "      <td>8153.0</td>\n",
       "      <td>8.153000e+03</td>\n",
       "      <td>8.153000e+03</td>\n",
       "      <td>8.153000e+03</td>\n",
       "      <td>8153.000000</td>\n",
       "      <td>8153.000000</td>\n",
       "    </tr>\n",
       "    <tr>\n",
       "      <th>mean</th>\n",
       "      <td>2002.889878</td>\n",
       "      <td>8.788898</td>\n",
       "      <td>162.016658</td>\n",
       "      <td>-36.160550</td>\n",
       "      <td>-72.021913</td>\n",
       "      <td>0.665551</td>\n",
       "      <td>-35.766741</td>\n",
       "      <td>-35.783576</td>\n",
       "      <td>-71.909786</td>\n",
       "      <td>-71.891267</td>\n",
       "      <td>68.718876</td>\n",
       "      <td>62.469766</td>\n",
       "      <td>3.053903e+06</td>\n",
       "      <td>0.0</td>\n",
       "      <td>2.389187e+04</td>\n",
       "      <td>8.062175e+05</td>\n",
       "      <td>2.223797e+06</td>\n",
       "      <td>5.899546</td>\n",
       "      <td>216.848645</td>\n",
       "    </tr>\n",
       "    <tr>\n",
       "      <th>std</th>\n",
       "      <td>10.358023</td>\n",
       "      <td>3.309122</td>\n",
       "      <td>1698.260123</td>\n",
       "      <td>2.410442</td>\n",
       "      <td>0.785569</td>\n",
       "      <td>0.471817</td>\n",
       "      <td>2.371484</td>\n",
       "      <td>2.372316</td>\n",
       "      <td>0.782938</td>\n",
       "      <td>0.782595</td>\n",
       "      <td>101.786266</td>\n",
       "      <td>102.178169</td>\n",
       "      <td>3.117599e+07</td>\n",
       "      <td>0.0</td>\n",
       "      <td>5.755228e+05</td>\n",
       "      <td>8.000398e+06</td>\n",
       "      <td>2.332097e+07</td>\n",
       "      <td>97.444902</td>\n",
       "      <td>1985.821834</td>\n",
       "    </tr>\n",
       "    <tr>\n",
       "      <th>min</th>\n",
       "      <td>1985.000000</td>\n",
       "      <td>4.000000</td>\n",
       "      <td>10.000000</td>\n",
       "      <td>-43.843300</td>\n",
       "      <td>-74.232600</td>\n",
       "      <td>0.000000</td>\n",
       "      <td>-43.833025</td>\n",
       "      <td>-43.880995</td>\n",
       "      <td>-74.119635</td>\n",
       "      <td>-73.997823</td>\n",
       "      <td>3.000000</td>\n",
       "      <td>2.000000</td>\n",
       "      <td>4.345003e+03</td>\n",
       "      <td>0.0</td>\n",
       "      <td>0.000000e+00</td>\n",
       "      <td>0.000000e+00</td>\n",
       "      <td>0.000000e+00</td>\n",
       "      <td>1.000000</td>\n",
       "      <td>1.000000</td>\n",
       "    </tr>\n",
       "    <tr>\n",
       "      <th>25%</th>\n",
       "      <td>1994.000000</td>\n",
       "      <td>6.000000</td>\n",
       "      <td>15.000000</td>\n",
       "      <td>-38.005300</td>\n",
       "      <td>-72.592200</td>\n",
       "      <td>0.000000</td>\n",
       "      <td>-37.786644</td>\n",
       "      <td>-37.805778</td>\n",
       "      <td>-72.485689</td>\n",
       "      <td>-72.462243</td>\n",
       "      <td>26.000000</td>\n",
       "      <td>22.000000</td>\n",
       "      <td>1.631970e+05</td>\n",
       "      <td>0.0</td>\n",
       "      <td>0.000000e+00</td>\n",
       "      <td>3.468296e+04</td>\n",
       "      <td>9.348120e+04</td>\n",
       "      <td>1.000000</td>\n",
       "      <td>18.000000</td>\n",
       "    </tr>\n",
       "    <tr>\n",
       "      <th>50%</th>\n",
       "      <td>2004.000000</td>\n",
       "      <td>8.000000</td>\n",
       "      <td>26.000000</td>\n",
       "      <td>-36.548950</td>\n",
       "      <td>-72.052800</td>\n",
       "      <td>1.000000</td>\n",
       "      <td>-35.463331</td>\n",
       "      <td>-35.479501</td>\n",
       "      <td>-71.754281</td>\n",
       "      <td>-71.734877</td>\n",
       "      <td>43.000000</td>\n",
       "      <td>37.000000</td>\n",
       "      <td>3.977722e+05</td>\n",
       "      <td>0.0</td>\n",
       "      <td>0.000000e+00</td>\n",
       "      <td>9.522537e+04</td>\n",
       "      <td>2.602239e+05</td>\n",
       "      <td>2.000000</td>\n",
       "      <td>41.000000</td>\n",
       "    </tr>\n",
       "    <tr>\n",
       "      <th>75%</th>\n",
       "      <td>2013.000000</td>\n",
       "      <td>10.000000</td>\n",
       "      <td>70.000000</td>\n",
       "      <td>-33.962850</td>\n",
       "      <td>-71.382900</td>\n",
       "      <td>1.000000</td>\n",
       "      <td>-33.631307</td>\n",
       "      <td>-33.646399</td>\n",
       "      <td>-71.326862</td>\n",
       "      <td>-71.305572</td>\n",
       "      <td>76.000000</td>\n",
       "      <td>67.000000</td>\n",
       "      <td>1.170953e+06</td>\n",
       "      <td>0.0</td>\n",
       "      <td>0.000000e+00</td>\n",
       "      <td>2.929125e+05</td>\n",
       "      <td>8.210708e+05</td>\n",
       "      <td>3.000000</td>\n",
       "      <td>102.000000</td>\n",
       "    </tr>\n",
       "    <tr>\n",
       "      <th>max</th>\n",
       "      <td>2018.000000</td>\n",
       "      <td>16.000000</td>\n",
       "      <td>159813.000000</td>\n",
       "      <td>-29.511200</td>\n",
       "      <td>-70.222200</td>\n",
       "      <td>1.000000</td>\n",
       "      <td>-29.857036</td>\n",
       "      <td>-29.858922</td>\n",
       "      <td>-70.223552</td>\n",
       "      <td>-70.217892</td>\n",
       "      <td>2229.000000</td>\n",
       "      <td>2433.000000</td>\n",
       "      <td>1.353321e+09</td>\n",
       "      <td>0.0</td>\n",
       "      <td>3.761882e+07</td>\n",
       "      <td>3.236190e+08</td>\n",
       "      <td>1.031391e+09</td>\n",
       "      <td>5286.000000</td>\n",
       "      <td>87752.000000</td>\n",
       "    </tr>\n",
       "  </tbody>\n",
       "</table>\n",
       "</div>"
      ],
      "text/plain": [
       "             season       cut_reg     area_conaf           lat           lon  \\\n",
       "count  12250.000000  12250.000000   12250.000000  12250.000000  12250.000000   \n",
       "mean    2002.889878      8.788898     162.016658    -36.160550    -72.021913   \n",
       "std       10.358023      3.309122    1698.260123      2.410442      0.785569   \n",
       "min     1985.000000      4.000000      10.000000    -43.843300    -74.232600   \n",
       "25%     1994.000000      6.000000      15.000000    -38.005300    -72.592200   \n",
       "50%     2004.000000      8.000000      26.000000    -36.548950    -72.052800   \n",
       "75%     2013.000000     10.000000      70.000000    -33.962850    -71.382900   \n",
       "max     2018.000000     16.000000  159813.000000    -29.511200    -70.222200   \n",
       "\n",
       "           firescar    north_lat    south_lat     west_lon     east_lon  \\\n",
       "count  12250.000000  8153.000000  8153.000000  8153.000000  8153.000000   \n",
       "mean       0.665551   -35.766741   -35.783576   -71.909786   -71.891267   \n",
       "std        0.471817     2.371484     2.372316     0.782938     0.782595   \n",
       "min        0.000000   -43.833025   -43.880995   -74.119635   -73.997823   \n",
       "25%        0.000000   -37.786644   -37.805778   -72.485689   -72.462243   \n",
       "50%        1.000000   -35.463331   -35.479501   -71.754281   -71.734877   \n",
       "75%        1.000000   -33.631307   -33.646399   -71.326862   -71.305572   \n",
       "max        1.000000   -29.857036   -29.858922   -70.223552   -70.217892   \n",
       "\n",
       "             width       height    total_area  area_unchs     area_lows  \\\n",
       "count  8153.000000  8153.000000  8.153000e+03      8153.0  8.153000e+03   \n",
       "mean     68.718876    62.469766  3.053903e+06         0.0  2.389187e+04   \n",
       "std     101.786266   102.178169  3.117599e+07         0.0  5.755228e+05   \n",
       "min       3.000000     2.000000  4.345003e+03         0.0  0.000000e+00   \n",
       "25%      26.000000    22.000000  1.631970e+05         0.0  0.000000e+00   \n",
       "50%      43.000000    37.000000  3.977722e+05         0.0  0.000000e+00   \n",
       "75%      76.000000    67.000000  1.170953e+06         0.0  0.000000e+00   \n",
       "max    2229.000000  2433.000000  1.353321e+09         0.0  3.761882e+07   \n",
       "\n",
       "          area_mods       area_hs  firescar_poly      sev_poly  \n",
       "count  8.153000e+03  8.153000e+03    8153.000000   8153.000000  \n",
       "mean   8.062175e+05  2.223797e+06       5.899546    216.848645  \n",
       "std    8.000398e+06  2.332097e+07      97.444902   1985.821834  \n",
       "min    0.000000e+00  0.000000e+00       1.000000      1.000000  \n",
       "25%    3.468296e+04  9.348120e+04       1.000000     18.000000  \n",
       "50%    9.522537e+04  2.602239e+05       2.000000     41.000000  \n",
       "75%    2.929125e+05  8.210708e+05       3.000000    102.000000  \n",
       "max    3.236190e+08  1.031391e+09    5286.000000  87752.000000  "
      ]
     },
     "execution_count": 5,
     "metadata": {},
     "output_type": "execute_result"
    }
   ],
   "source": [
    "# Descriptores generales\n",
    "# Cantidad, media, desviación estandar, minimo, maximo, quartiles.\n",
    "cicatrices_incedios.describe()"
   ]
  },
  {
   "cell_type": "code",
   "execution_count": 6,
   "metadata": {},
   "outputs": [
    {
     "name": "stdout",
     "output_type": "stream",
     "text": [
      "<class 'pandas.core.frame.DataFrame'>\n",
      "RangeIndex: 12250 entries, 0 to 12249\n",
      "Data columns (total 35 columns):\n",
      " #   Column             Non-Null Count  Dtype  \n",
      "---  ------             --------------  -----  \n",
      " 0   fireID             12250 non-null  object \n",
      " 1   season             12250 non-null  int64  \n",
      " 2   code               12250 non-null  object \n",
      " 3   cut_reg            12250 non-null  int64  \n",
      " 4   region_conaf       12250 non-null  object \n",
      " 5   name_conaf         12250 non-null  object \n",
      " 6   area_conaf         12250 non-null  float64\n",
      " 7   ign_date_conaf     12250 non-null  object \n",
      " 8   ctrl_date_conaf    12250 non-null  object \n",
      " 9   lat                12250 non-null  float64\n",
      " 10  lon                12250 non-null  float64\n",
      " 11  firescar           12250 non-null  int64  \n",
      " 12  folderloc          8153 non-null   object \n",
      " 13  firescar_img_name  8153 non-null   object \n",
      " 14  prefire_img_name   8153 non-null   object \n",
      " 15  postfire_img_name  8153 non-null   object \n",
      " 16  rdnbr_img_name     8153 non-null   object \n",
      " 17  sev_img_name       8153 non-null   object \n",
      " 18  firescar_vec_name  8153 non-null   object \n",
      " 19  sev_vec_name       8153 non-null   object \n",
      " 20  north_lat          8153 non-null   float64\n",
      " 21  south_lat          8153 non-null   float64\n",
      " 22  west_lon           8153 non-null   float64\n",
      " 23  east_lon           8153 non-null   float64\n",
      " 24  width              8153 non-null   float64\n",
      " 25  height             8153 non-null   float64\n",
      " 26  total_area         8153 non-null   float64\n",
      " 27  area_unchs         8153 non-null   float64\n",
      " 28  area_lows          8153 non-null   float64\n",
      " 29  area_mods          8153 non-null   float64\n",
      " 30  area_hs            8153 non-null   float64\n",
      " 31  firescar_poly      8153 non-null   float64\n",
      " 32  sev_poly           8153 non-null   float64\n",
      " 33  overlap            2186 non-null   object \n",
      " 34  obs                661 non-null    object \n",
      "dtypes: float64(16), int64(3), object(16)\n",
      "memory usage: 3.3+ MB\n"
     ]
    }
   ],
   "source": [
    "# Revisión de tipos de datos\n",
    "cicatrices_incedios.info()"
   ]
  },
  {
   "cell_type": "code",
   "execution_count": 7,
   "metadata": {},
   "outputs": [
    {
     "name": "stdout",
     "output_type": "stream",
     "text": [
      "fireID: ['ID10000' 'ID100000' 'ID10002' ... 'ID9999' 'ID99995' 'ID99998']\n",
      "season: [1986 2003 1987 1985 2004 2005 2006 2007 2008 2009 2010 2011 1988 2012\n",
      " 2013 2014 2015 2016 2017 2018 1989 1990 1991 1992 1993 1994 1995 1996\n",
      " 1997 1998 1999 2000 2001 2002]\n",
      "code: ['CL-BI' 'CL-ML' 'CL-AR' 'CL-VS' 'CL-LI' 'CL-LR' 'CL-CO' 'CL-LL' 'CL-RM']\n",
      "cut_reg: [ 8  7 16  9  5  6 14  4 10 13]\n",
      "region_conaf: ['Biobío' 'Maule' 'Ñuble' 'La Araucanía' 'Valparaíso' 'OHiggins'\n",
      " 'Los Ríos' 'Coquimbo' 'Los Lagos' 'Santiago']\n",
      "name_conaf: ['RAPELCO' 'MAITENHUAPI' 'LAs chilcas' ... 'CUATRO ESQUINAS' 'LA REINA'\n",
      " 'BALLICA NORTE 3']\n",
      "area_conaf: [  51.   50.   87. ...  685. 1020. 1045.]\n",
      "ign_date_conaf: ['1986-01-04' '2003-02-09' '1986-02-03' ... '2002-12-01' '1986-01-15'\n",
      " '2003-01-16']\n",
      "ctrl_date_conaf: ['1986-01-04' '2003-02-09' '1986-02-03' ... '1986-01-15' '2003-01-16'\n",
      " '2003-01-17']\n",
      "lat: [-37.671  -35.3283 -36.6711 ... -36.1722 -35.9472 -35.8431]\n",
      "lon: [-72.3978 -71.5799 -71.9708 ... -71.8282 -71.6757 -71.7295]\n",
      "firescar: [0 1]\n",
      "folderloc: [nan 'FireScar_CL-ML_Maule_2003' 'FireScar_CL-BI_BioBio_1986'\n",
      " 'FireScar_CL-ML_Maule_1986' 'FireScar_CL-VS_Valparaiso_1986'\n",
      " 'FireScar_CL-LI_Ohiggins_1986' 'FireScar_CL-LR_LosRios_1986'\n",
      " 'FireScar_CL-BI_BioBio_2003' 'FireScar_CL-VS_Valparaiso_1987'\n",
      " 'FireScar_CL-AR_Araucania_2003' 'FireScar_CL-LR_LosRios_2003'\n",
      " 'FireScar_CL-LL_LosLagos_2003' 'FireScar_CL-RM_Metropolitana_2003'\n",
      " 'FireScar_CL-LI_Ohiggins_1987' 'FireScar_CL-LI_Ohiggins_2004'\n",
      " 'FireScar_CL-BI_BioBio_2004' 'FireScar_CL-AR_Araucania_2004'\n",
      " 'FireScar_CL-CO_Coquimbo_2004' 'FireScar_CL-VS_Valparaiso_2004'\n",
      " 'FireScar_CL-ML_Maule_2004' 'FireScar_CL-RM_Metropolitana_2004'\n",
      " 'FireScar_CL-LR_LosRios_2004' 'FireScar_CL-LL_LosLagos_2004'\n",
      " 'FireScar_CL-ML_Maule_1987' 'FireScar_CL-BI_BioBio_1987'\n",
      " 'FireScar_CL-BI_BioBio_2005' 'FireScar_CL-LR_LosRios_2005'\n",
      " 'FireScar_CL-VS_Valparaiso_2005' 'FireScar_CL-LI_Ohiggins_2005'\n",
      " 'FireScar_CL-ML_Maule_2005' 'FireScar_CL-AR_Araucania_2005'\n",
      " 'FireScar_CL-RM_Metropolitana_2005' 'FireScar_CL-LL_LosLagos_2005'\n",
      " 'FireScar_CL-CO_Coquimbo_2005' 'FireScar_CL-ML_Maule_2006'\n",
      " 'FireScar_CL-LL_LosLagos_2006' 'FireScar_CL-VS_Valparaiso_2006'\n",
      " 'FireScar_CL-LI_Ohiggins_2006' 'FireScar_CL-BI_BioBio_2006'\n",
      " 'FireScar_CL-AR_Araucania_2006' 'FireScar_CL-LR_LosRios_2006'\n",
      " 'FireScar_CL-RM_Metropolitana_2006' 'FireScar_CL-CO_Coquimbo_2006'\n",
      " 'FireScar_CL-AR_Araucania_1987' 'FireScar_CL-RM_Metropolitana_2007'\n",
      " 'FireScar_CL-LL_LosLagos_2007' 'FireScar_CL-CO_Coquimbo_2007'\n",
      " 'FireScar_CL-VS_Valparaiso_2007' 'FireScar_CL-LI_Ohiggins_2007'\n",
      " 'FireScar_CL-ML_Maule_2007' 'FireScar_CL-BI_BioBio_2007'\n",
      " 'FireScar_CL-AR_Araucania_2007' 'FireScar_CL-LL_LosLagos_1987'\n",
      " 'FireScar_CL-AR_Araucania_2008' 'FireScar_CL-LL_LosLagos_2008'\n",
      " 'FireScar_CL-ML_Maule_2008' 'FireScar_CL-BI_BioBio_2008'\n",
      " 'FireScar_CL-RM_Metropolitana_2008' 'FireScar_CL-VS_Valparaiso_2008'\n",
      " 'FireScar_CL-LI_Ohiggins_2008' 'FireScar_CL-LR_LosRios_2008'\n",
      " 'FireScar_CL-CO_Coquimbo_2008' 'FireScar_CL-LR_LosRios_1987'\n",
      " 'FireScar_CL-RM_Metropolitana_1987' 'FireScar_CL-AR_Araucania_2009'\n",
      " 'FireScar_CL-BI_BioBio_2009' 'FireScar_CL-RM_Metropolitana_2009'\n",
      " 'FireScar_CL-ML_Maule_2009' 'FireScar_CL-VS_Valparaiso_2009'\n",
      " 'FireScar_CL-LL_LosLagos_2009' 'FireScar_CL-LI_Ohiggins_2009'\n",
      " 'FireScar_CL-LR_LosRios_2009' 'FireScar_CL-ML_Maule_2010'\n",
      " 'FireScar_CL-BI_BioBio_2010' 'FireScar_CL-RM_Metropolitana_2010'\n",
      " 'FireScar_CL-VS_Valparaiso_2010' 'FireScar_CL-LI_Ohiggins_2010'\n",
      " 'FireScar_CL-CO_Coquimbo_2010' 'FireScar_CL-AR_Araucania_2010'\n",
      " 'FireScar_CL-LI_Ohiggins_2011' 'FireScar_CL-BI_BioBio_2011'\n",
      " 'FireScar_CL-ML_Maule_2011' 'FireScar_CL-RM_Metropolitana_2011'\n",
      " 'FireScar_CL-VS_Valparaiso_2011' 'FireScar_CL-AR_Araucania_2011'\n",
      " 'FireScar_CL-CO_Coquimbo_2011' 'FireScar_CL-LL_LosLagos_2011'\n",
      " 'FireScar_CL-CO_Coquimbo_1988' 'FireScar_CL-VS_Valparaiso_1988'\n",
      " 'FireScar_CL-BI_BioBio_2012' 'FireScar_CL-AR_Araucania_2012'\n",
      " 'FireScar_CL-ML_Maule_2012' 'FireScar_CL-RM_Metropolitana_2012'\n",
      " 'FireScar_CL-LI_Ohiggins_2012' 'FireScar_CL-CO_Coquimbo_2012'\n",
      " 'FireScar_CL-VS_Valparaiso_2012' 'FireScar_CL-LR_LosRios_2012'\n",
      " 'FireScar_CL-LL_LosLagos_2012' 'FireScar_CL-CO_Coquimbo_2013'\n",
      " 'FireScar_CL-LI_Ohiggins_2013' 'FireScar_CL-VS_Valparaiso_2013'\n",
      " 'FireScar_CL-BI_BioBio_2013' 'FireScar_CL-ML_Maule_2013'\n",
      " 'FireScar_CL-AR_Araucania_2013' 'FireScar_CL-LL_LosLagos_2013'\n",
      " 'FireScar_CL-RM_Metropolitana_2013' 'FireScar_CL-LR_LosRios_2013'\n",
      " 'FireScar_CL-LI_Ohiggins_1988' 'FireScar_CL-ML_Maule_1988'\n",
      " 'FireScar_CL-ML_Maule_2014' 'FireScar_CL-AR_Araucania_2014'\n",
      " 'FireScar_CL-VS_Valparaiso_2014' 'FireScar_CL-BI_BioBio_2014'\n",
      " 'FireScar_CL-LI_Ohiggins_2014' 'FireScar_CL-LL_LosLagos_2014'\n",
      " 'FireScar_CL-RM_Metropolitana_2014' 'FireScar_CL-LR_LosRios_2014'\n",
      " 'FireScar_CL-CO_Coquimbo_2014' 'FireScar_CL-AR_Araucania_2015'\n",
      " 'FireScar_CL-ML_Maule_2015' 'FireScar_CL-BI_BioBio_2015'\n",
      " 'FireScar_CL-LI_Ohiggins_2015' 'FireScar_CL-LL_LosLagos_2015'\n",
      " 'FireScar_CL-VS_Valparaiso_2015' 'FireScar_CL-RM_Metropolitana_2015'\n",
      " 'FireScar_CL-LR_LosRios_2015' 'FireScar_CL-CO_Coquimbo_2015'\n",
      " 'FireScar_CL-BI_BioBio_1985' 'FireScar_CL-RM_Metropolitana_2016'\n",
      " 'FireScar_CL-BI_BioBio_2016' 'FireScar_CL-AR_Araucania_2016'\n",
      " 'FireScar_CL-LR_LosRios_2016' 'FireScar_CL-VS_Valparaiso_2016'\n",
      " 'FireScar_CL-LL_LosLagos_2016' 'FireScar_CL-ML_Maule_2016'\n",
      " 'FireScar_CL-CO_Coquimbo_2016' 'FireScar_CL-LI_Ohiggins_2016'\n",
      " 'FireScar_CL-RM_Metropolitana_2017' 'FireScar_CL-BI_BioBio_2017'\n",
      " 'FireScar_CL-VS_Valparaiso_2017' 'FireScar_CL-CO_Coquimbo_2017'\n",
      " 'FireScar_CL-ML_Maule_2017' 'FireScar_CL-LI_Ohiggins_2017'\n",
      " 'FireScar_CL-AR_Araucania_2017' 'FireScar_CL-LR_LosRios_2017'\n",
      " 'FireScar_CL-LL_LosLagos_2017' 'FireScar_CL-CO_Coquimbo_2018'\n",
      " 'FireScar_CL-VS_Valparaiso_2018' 'FireScar_CL-LI_Ohiggins_2018'\n",
      " 'FireScar_CL-ML_Maule_2018' 'FireScar_CL-BI_BioBio_2018'\n",
      " 'FireScar_CL-RM_Metropolitana_1988' 'FireScar_CL-AR_Araucania_2018'\n",
      " 'FireScar_CL-LL_LosLagos_2018' 'FireScar_CL-RM_Metropolitana_2018'\n",
      " 'FireScar_CL-LR_LosRios_2018' 'FireScar_CL-CO_Coquimbo_1989'\n",
      " 'FireScar_CL-VS_Valparaiso_1989' 'FireScar_CL-LI_Ohiggins_1989'\n",
      " 'FireScar_CL-ML_Maule_1989' 'FireScar_CL-RM_Metropolitana_1989'\n",
      " 'FireScar_CL-CO_Coquimbo_1990' 'FireScar_CL-VS_Valparaiso_1990'\n",
      " 'FireScar_CL-LI_Ohiggins_1990' 'FireScar_CL-ML_Maule_1990'\n",
      " 'FireScar_CL-RM_Metropolitana_1990' 'FireScar_CL-CO_Coquimbo_1991'\n",
      " 'FireScar_CL-VS_Valparaiso_1991' 'FireScar_CL-LI_Ohiggins_1991'\n",
      " 'FireScar_CL-ML_Maule_1991' 'FireScar_CL-RM_Metropolitana_1991'\n",
      " 'FireScar_CL-CO_Coquimbo_1992' 'FireScar_CL-VS_Valparaiso_1992'\n",
      " 'FireScar_CL-LI_Ohiggins_1992' 'FireScar_CL-ML_Maule_1992'\n",
      " 'FireScar_CL-RM_Metropolitana_1992' 'FireScar_CL-CO_Coquimbo_1993'\n",
      " 'FireScar_CL-VS_Valparaiso_1993' 'FireScar_CL-LI_Ohiggins_1993'\n",
      " 'FireScar_CL-ML_Maule_1993' 'FireScar_CL-RM_Metropolitana_1993'\n",
      " 'FireScar_CL-CO_Coquimbo_1994' 'FireScar_CL-VS_Valparaiso_1994'\n",
      " 'FireScar_CL-LI_Ohiggins_1994' 'FireScar_CL-ML_Maule_1994'\n",
      " 'FireScar_CL-RM_Metropolitana_1994' 'FireScar_CL-VS_Valparaiso_1995'\n",
      " 'FireScar_CL-LI_Ohiggins_1995' 'FireScar_CL-ML_Maule_1995'\n",
      " 'FireScar_CL-RM_Metropolitana_1995' 'FireScar_CL-VS_Valparaiso_1996'\n",
      " 'FireScar_CL-LI_Ohiggins_1996' 'FireScar_CL-RM_Metropolitana_1996'\n",
      " 'FireScar_CL-ML_Maule_1996' 'FireScar_CL-LI_Ohiggins_1997'\n",
      " 'FireScar_CL-VS_Valparaiso_1997' 'FireScar_CL-RM_Metropolitana_1997'\n",
      " 'FireScar_CL-ML_Maule_1997' 'FireScar_CL-VS_Valparaiso_1998'\n",
      " 'FireScar_CL-ML_Maule_1998' 'FireScar_CL-RM_Metropolitana_1998'\n",
      " 'FireScar_CL-LI_Ohiggins_1998' 'FireScar_CL-AR_Araucania_1998'\n",
      " 'FireScar_CL-LL_LosLagos_1998' 'FireScar_CL-LR_LosRios_1998'\n",
      " 'FireScar_CL-BI_BioBio_1998' 'FireScar_CL-CO_Coquimbo_1998'\n",
      " 'FireScar_CL-AR_Araucania_1986' 'FireScar_CL-LI_Ohiggins_1999'\n",
      " 'FireScar_CL-ML_Maule_1999' 'FireScar_CL-BI_BioBio_1999'\n",
      " 'FireScar_CL-RM_Metropolitana_1999' 'FireScar_CL-AR_Araucania_1999'\n",
      " 'FireScar_CL-VS_Valparaiso_1999' 'FireScar_CL-LR_LosRios_1999'\n",
      " 'FireScar_CL-CO_Coquimbo_1999' 'FireScar_CL-LL_LosLagos_1999'\n",
      " 'FireScar_CL-LL_LosLagos_1986' 'FireScar_CL-VS_Valparaiso_2000'\n",
      " 'FireScar_CL-LI_Ohiggins_2000' 'FireScar_CL-ML_Maule_2000'\n",
      " 'FireScar_CL-AR_Araucania_2000' 'FireScar_CL-RM_Metropolitana_2000'\n",
      " 'FireScar_CL-BI_BioBio_2000' 'FireScar_CL-RM_Metropolitana_1986'\n",
      " 'FireScar_CL-VS_Valparaiso_2001' 'FireScar_CL-LI_Ohiggins_2001'\n",
      " 'FireScar_CL-ML_Maule_2001' 'FireScar_CL-BI_BioBio_2001'\n",
      " 'FireScar_CL-AR_Araucania_2001' 'FireScar_CL-LL_LosLagos_2001'\n",
      " 'FireScar_CL-RM_Metropolitana_2001' 'FireScar_CL-CO_Coquimbo_2001'\n",
      " 'FireScar_CL-AR_Araucania_2002' 'FireScar_CL-VS_Valparaiso_2002'\n",
      " 'FireScar_CL-ML_Maule_2002' 'FireScar_CL-BI_BioBio_2002'\n",
      " 'FireScar_CL-LR_LosRios_2002' 'FireScar_CL-RM_Metropolitana_2002'\n",
      " 'FireScar_CL-LL_LosLagos_2002' 'FireScar_CL-LI_Ohiggins_2002'\n",
      " 'FireScar_CL-CO_Coquimbo_2002' 'FireScar_CL-CO_Coquimbo_2003'\n",
      " 'FireScar_CL-VS_Valparaiso_2003' 'FireScar_CL-LI_Ohiggins_2003']\n",
      "firescar_img_name: [nan 'FireScar_CL-ML_ID100000_u400_20030209.tif'\n",
      " 'FireScar_CL-BI_ID10002_u500_19860203.tif' ...\n",
      " 'FireScar_CL-ML_ID99985_u550_20030206.tif'\n",
      " 'FireScar_CL-ML_ID99995_u350_20030209.tif'\n",
      " 'FireScar_CL-ML_ID99998_u600_20030209.tif']\n",
      "prefire_img_name: [nan 'ImgPreF_CL-ML_ID100000_u400_20030209.tif'\n",
      " 'ImgPreF_CL-BI_ID10002_u500_19860203.tif' ...\n",
      " 'ImgPreF_CL-ML_ID99985_u550_20030206.tif'\n",
      " 'ImgPreF_CL-ML_ID99995_u350_20030209.tif'\n",
      " 'ImgPreF_CL-ML_ID99998_u600_20030209.tif']\n",
      "postfire_img_name: [nan 'ImgPosF_CL-ML_ID100000_u400_20030209.tif'\n",
      " 'ImgPosF_CL-BI_ID10002_u500_19860203.tif' ...\n",
      " 'ImgPosF_CL-ML_ID99985_u550_20030206.tif'\n",
      " 'ImgPosF_CL-ML_ID99995_u350_20030209.tif'\n",
      " 'ImgPosF_CL-ML_ID99998_u600_20030209.tif']\n",
      "rdnbr_img_name: [nan 'RdNBR_CL-ML_ID100000_u400_20030209.tif'\n",
      " 'RdNBR_CL-BI_ID10002_u500_19860203.tif' ...\n",
      " 'RdNBR_CL-ML_ID99985_u550_20030206.tif'\n",
      " 'RdNBR_CL-ML_ID99995_u350_20030209.tif'\n",
      " 'RdNBR_CL-ML_ID99998_u600_20030209.tif']\n",
      "sev_img_name: [nan 'Severity_CL-ML_ID100000_u400_20030209.tif'\n",
      " 'Severity_CL-BI_ID10002_u500_19860203.tif' ...\n",
      " 'Severity_CL-ML_ID99985_u550_20030206.tif'\n",
      " 'Severity_CL-ML_ID99995_u350_20030209.tif'\n",
      " 'Severity_CL-ML_ID99998_u600_20030209.tif']\n",
      "firescar_vec_name: [nan 'FireScar_CL-ML_ID100000_u400_20030209.shp'\n",
      " 'FireScar_CL-BI_ID10002_u500_19860203.shp' ...\n",
      " 'FireScar_CL-ML_ID99985_u550_20030206.shp'\n",
      " 'FireScar_CL-ML_ID99995_u350_20030209.shp'\n",
      " 'FireScar_CL-ML_ID99998_u600_20030209.shp']\n",
      "sev_vec_name: [nan 'Severity_CL-ML_ID100000_u400_20030209.shp'\n",
      " 'Severity_CL-BI_ID10002_u500_19860203.shp' ...\n",
      " 'Severity_CL-ML_ID99985_u550_20030206.shp'\n",
      " 'Severity_CL-ML_ID99995_u350_20030209.shp'\n",
      " 'Severity_CL-ML_ID99998_u600_20030209.shp']\n",
      "north_lat: [         nan -35.32804518 -36.65773146 ... -35.89317532 -35.94707424\n",
      " -35.84251034]\n",
      "south_lat: [         nan -35.34044193 -36.68953182 ... -35.90341612 -35.95246413\n",
      " -35.85059518]\n",
      "west_lon: [         nan -71.58153476 -71.98092574 ... -71.83162574 -72.31752448\n",
      " -71.77745733]\n",
      "east_lon: [         nan -71.57183296 -71.93241671 ... -71.67343242 -72.40996112\n",
      " -71.52790534]\n",
      "width: [  nan   36.  180.   49.   26.  147.   39.   11.   71.   50.  212.   58.\n",
      "   32.   33.  132.   27.   98.   66.   44.   62.   17.   29.  103.   21.\n",
      "   53.  101.  130.  128.   28.   35.   64.  106.   65.  156.   76.   18.\n",
      "   12.   24.   48.   67.   74.  155.  129.   38.   47.   16.   37.   15.\n",
      "   25.   23.   75.   40.   73.   20.  111.    8.   19.   42.   82.   13.\n",
      "   22.   14.  176.   31.   70.   78.   84.   93.  198.   30.   60.  121.\n",
      "    9.  122.   59.   90.   41.    7.   68.  117.   61.  135.   91.   87.\n",
      "   45.  137.  120.   43.   83.   51.   72.  116.  486.   52.   81.  239.\n",
      "  112.  110.  126.   34.   54.   96.  124.   88.   10.   56.  162.  145.\n",
      "   46.   99.  256.   55.  148.  213.   63.  107.   94.   89.  350.   80.\n",
      "  164.  221.   79.   97.  131.  209.   92.   57.  114.  100.   69.  108.\n",
      "  161.  154.  283.  204.  272.  214.  243.  242.  280.  260.  186.   86.\n",
      "  159.   77.  168.  189.   85.  123.  141.  115.  118.  109.  104.  193.\n",
      "  144.  175.  143.  166.  138.  125.  174.  133.  105.  226.  217.   95.\n",
      "  558.  178.  146.  142.  113.  281.  165.  202.  247.  197.  220.  361.\n",
      "  419.  136.  187.  119.  102.  190.  286.    6.  157.  185.  564.  179.\n",
      "  634.  465.  205.  575.  235.  196.    5.  285.  181.  228.  238.  194.\n",
      "  234.  216.  311.  208.  151.  215.  288.  347.  172.  273.  140.  574.\n",
      "  606.  153.  314.  152.  177.  513.  413.  386.  139.  299.  342.  248.\n",
      "  200.  692.  290.  210.  233.  207.  219.  271.  530.  246.  338.  368.\n",
      "  374.  170.  134.  163.  149.  229.  277.  279.  183.  307.  436.  321.\n",
      "  127.  440.  188.  422.  329.  428.  701.    3.    4.  169.  150.  182.\n",
      "  224.  250.  423.  312.  191.  452.  399.  316.  432.  401.  481.  664.\n",
      "  284.  385.  310.  160.  526.  206.  351.  345.  298.  291.  167.  230.\n",
      "  274.  304.  232.  367.  201.  249.  218.  241.  363.  264.  318.  319.\n",
      "  346.  463.  532.  322.  381.  292.  266.  225.  580.  211. 2228.  184.\n",
      "  327.  158.  222.  251.  468.  812.  992.  402.  257.  467.  252.  379.\n",
      "  392.  297.  474.  464.  337. 2229.  354.  393.  499. 1895.  783.  605.\n",
      " 1567. 1059.  378. 1125.  635.  491.  552. 1036. 1595.  240.  294.  353.\n",
      "  192.  270.  303.  390.  376.  439.  603.  269.  339.  255.  171.  203.\n",
      "  259.  395.  195.  424.  328.  173.  332.  364.  275.  245.  296.  495.\n",
      "  365.  244.  236.  265.  679.  276.  865.  925.  836.  360.  869.  686.\n",
      "  835.  660.  680.  855.  702.  411.  410.  293.  254.  267.  403.  278.\n",
      "  389.  199.]\n",
      "height: [      nan 4.600e+01 1.180e+02 1.140e+02 2.900e+01 1.800e+02 3.200e+01\n",
      " 2.300e+01 1.550e+02 9.700e+01 1.930e+02 3.800e+01 2.200e+01 2.400e+01\n",
      " 7.200e+01 4.800e+01 8.400e+01 5.700e+01 1.400e+01 9.200e+01 2.000e+01\n",
      " 8.800e+01 8.600e+01 5.200e+01 1.100e+01 4.900e+01 8.000e+00 1.730e+02\n",
      " 9.900e+01 9.000e+01 6.700e+01 1.000e+02 2.600e+01 2.800e+01 7.500e+01\n",
      " 9.000e+00 2.100e+01 4.000e+01 4.700e+01 7.400e+01 3.100e+01 4.100e+01\n",
      " 7.100e+01 2.380e+02 5.500e+01 1.900e+01 3.500e+01 6.900e+01 8.300e+01\n",
      " 1.500e+01 4.500e+01 5.600e+01 7.700e+01 1.700e+02 6.000e+00 3.000e+01\n",
      " 3.600e+01 1.700e+01 1.300e+01 4.400e+01 6.000e+01 5.300e+01 1.600e+01\n",
      " 6.100e+01 2.700e+01 2.500e+01 1.320e+02 8.100e+01 4.300e+01 3.700e+01\n",
      " 6.600e+01 1.610e+02 1.800e+01 1.260e+02 3.300e+01 1.120e+02 3.900e+01\n",
      " 1.470e+02 7.000e+00 4.200e+01 1.500e+02 5.000e+00 1.200e+01 1.620e+02\n",
      " 6.500e+01 1.010e+02 1.600e+02 6.400e+01 5.100e+01 1.020e+02 1.110e+02\n",
      " 9.500e+01 1.080e+02 6.300e+01 7.800e+01 1.330e+02 7.300e+01 3.520e+02\n",
      " 3.400e+01 1.950e+02 7.900e+01 2.640e+02 8.500e+01 7.000e+01 1.460e+02\n",
      " 8.200e+01 5.400e+01 9.800e+01 1.000e+01 5.000e+01 1.230e+02 9.300e+01\n",
      " 6.200e+01 1.150e+02 1.280e+02 1.070e+02 9.600e+01 5.900e+01 1.240e+02\n",
      " 5.800e+01 2.430e+02 8.000e+01 1.480e+02 6.800e+01 1.050e+02 1.190e+02\n",
      " 1.040e+02 4.280e+02 1.210e+02 8.700e+01 1.390e+02 1.790e+02 9.100e+01\n",
      " 2.240e+02 2.440e+02 1.900e+02 4.440e+02 1.880e+02 2.480e+02 4.170e+02\n",
      " 2.410e+02 1.540e+02 2.300e+02 1.740e+02 2.080e+02 1.660e+02 1.220e+02\n",
      " 1.090e+02 1.690e+02 1.520e+02 1.350e+02 2.090e+02 7.600e+01 1.680e+02\n",
      " 1.030e+02 1.450e+02 1.130e+02 2.160e+02 1.580e+02 1.570e+02 2.600e+02\n",
      " 1.510e+02 1.250e+02 3.360e+02 2.150e+02 1.530e+02 2.010e+02 1.920e+02\n",
      " 1.830e+02 1.630e+02 1.760e+02 1.060e+02 1.380e+02 1.160e+02 1.360e+02\n",
      " 1.340e+02 1.890e+02 1.640e+02 2.290e+02 1.100e+02 6.080e+02 2.610e+02\n",
      " 1.087e+03 2.100e+02 2.040e+02 5.740e+02 2.910e+02 3.420e+02 4.860e+02\n",
      " 9.570e+02 5.000e+02 1.020e+03 1.310e+02 3.150e+02 9.400e+01 1.490e+02\n",
      " 1.430e+02 1.440e+02 2.250e+02 2.420e+02 1.770e+02 8.900e+01 1.420e+02\n",
      " 2.030e+02 1.170e+02 4.770e+02 3.180e+02 1.410e+02 2.180e+02 1.870e+02\n",
      " 1.670e+02 2.670e+02 2.620e+02 2.770e+02 2.840e+02 2.560e+02 2.680e+02\n",
      " 1.940e+02 2.880e+02 2.270e+02 1.850e+02 2.280e+02 2.550e+02 2.990e+02\n",
      " 2.400e+02 2.540e+02 4.000e+00 2.470e+02 2.710e+02 1.370e+02 2.500e+02\n",
      " 2.700e+02 3.130e+02 2.350e+02 1.200e+02 1.970e+02 1.270e+02 2.580e+02\n",
      " 3.300e+02 2.070e+02 2.750e+02 2.170e+02 1.400e+02 2.390e+02 2.370e+02\n",
      " 7.120e+02 1.290e+02 2.760e+02 3.780e+02 1.960e+02 1.750e+02 3.040e+02\n",
      " 5.170e+02 3.950e+02 9.670e+02 1.650e+02 2.000e+00 2.570e+02 1.560e+02\n",
      " 2.330e+02 3.110e+02 3.100e+02 1.780e+02 1.720e+02 2.930e+02 3.060e+02\n",
      " 2.020e+02 2.450e+02 2.530e+02 2.110e+02 5.140e+02 7.340e+02 6.630e+02\n",
      " 3.630e+02 5.350e+02 6.870e+02 7.400e+02 3.030e+02 3.650e+02 3.430e+02\n",
      " 3.590e+02 1.590e+02 5.380e+02 3.340e+02 1.980e+02 3.530e+02 3.870e+02\n",
      " 3.570e+02 2.460e+02 2.130e+02 2.200e+02 2.690e+02 2.320e+02 3.200e+02\n",
      " 3.710e+02 1.300e+02 4.910e+02 2.260e+02 3.020e+02 3.120e+02 4.030e+02\n",
      " 2.205e+03 2.230e+02 1.860e+02 1.910e+02 1.710e+02 5.010e+02 2.210e+02\n",
      " 4.720e+02 2.650e+02 1.010e+03 9.830e+02 2.720e+02 3.580e+02 2.120e+02\n",
      " 4.700e+02 2.810e+02 3.310e+02 2.920e+02 2.510e+02 2.830e+02 5.100e+02\n",
      " 2.660e+02 4.150e+02 3.010e+02 3.190e+02 3.170e+02 2.431e+03 2.890e+02\n",
      " 2.730e+02 3.160e+02 3.700e+02 1.286e+03 4.330e+02 6.280e+02 3.140e+02\n",
      " 4.640e+02 1.239e+03 9.120e+02 5.820e+02 4.310e+02 9.140e+02 6.470e+02\n",
      " 8.630e+02 6.010e+02 1.477e+03 1.402e+03 1.241e+03 2.433e+03 1.810e+02\n",
      " 3.000e+00 2.140e+02 1.820e+02 3.620e+02 3.860e+02 2.870e+02 2.740e+02\n",
      " 4.020e+02 3.730e+02 3.050e+02 2.360e+02 2.900e+02 1.840e+02 2.340e+02\n",
      " 2.940e+02 1.022e+03 7.470e+02 1.066e+03 4.570e+02 3.210e+02 1.099e+03\n",
      " 2.520e+02 1.154e+03 2.980e+02 1.152e+03 1.094e+03 7.870e+02 3.330e+02\n",
      " 4.410e+02 3.290e+02 4.400e+02 2.050e+02 4.160e+02 3.910e+02 4.230e+02\n",
      " 4.240e+02 3.640e+02 4.210e+02 4.670e+02 5.060e+02 3.320e+02 5.050e+02]\n",
      "total_area: [             nan  427827.19384766 3227680.69720459 ...  261178.98193359\n",
      "  178127.77404785  242417.43884277]\n",
      "area_unchs: [nan  0.]\n",
      "area_lows: [            nan      0.          22222.67669678 ...   9624.86169434\n",
      " 219678.88854981   4994.39770508]\n",
      "area_mods: [            nan 178748.09234619 710373.07238769 ...  17460.33496094\n",
      " 127961.61248779   3639.91894531]\n",
      "area_hs: [             nan  249079.10150146 2517307.62481689 ...  243718.64697266\n",
      "   50166.16156006  238777.51989746]\n",
      "firescar_poly: [      nan 1.000e+00 1.600e+01 6.000e+00 2.000e+00 5.000e+00 3.000e+00\n",
      " 7.000e+00 4.000e+00 2.200e+01 1.100e+01 8.000e+00 9.000e+00 1.000e+01\n",
      " 1.200e+01 5.100e+01 1.400e+01 1.700e+01 1.800e+01 2.000e+01 2.300e+01\n",
      " 1.500e+01 2.500e+01 1.300e+01 4.100e+01 1.900e+01 2.400e+01 3.200e+01\n",
      " 2.600e+01 2.800e+01 4.200e+01 3.100e+01 4.300e+01 6.900e+01 4.900e+01\n",
      " 3.000e+01 4.800e+01 4.600e+01 1.690e+02 3.400e+01 2.100e+01 5.700e+01\n",
      " 3.800e+01 6.300e+01 1.080e+02 1.910e+02 5.800e+01 8.000e+01 3.700e+01\n",
      " 2.900e+01 6.700e+01 3.490e+03 3.483e+03 1.420e+02 1.260e+02 1.170e+02\n",
      " 2.700e+01 5.286e+03 6.480e+02 7.100e+01 5.200e+01 1.240e+02 4.700e+01\n",
      " 9.700e+01 6.460e+02 6.910e+02 4.851e+03 3.300e+01 4.400e+01 8.300e+01\n",
      " 8.100e+01 9.100e+01 5.300e+01 3.600e+01 8.600e+01 3.500e+01 1.020e+02\n",
      " 2.070e+02 8.900e+01 6.100e+01 1.310e+02 6.400e+01 4.500e+01 6.800e+01]\n",
      "sev_poly: [       nan 5.7000e+01 4.2300e+02 1.2200e+02 2.0000e+00 3.5600e+02\n",
      " 4.7000e+01 1.9000e+01 5.5000e+01 1.2900e+02 8.3100e+02 6.0000e+01\n",
      " 2.1000e+01 1.7000e+01 3.2700e+02 2.5000e+01 1.1600e+02 8.4000e+01\n",
      " 7.0000e+01 1.3000e+01 1.2000e+01 2.1100e+02 1.5000e+01 1.4000e+01\n",
      " 3.0000e+00 1.0400e+02 2.0100e+02 7.0000e+00 5.3000e+01 1.8000e+01\n",
      " 1.0000e+00 3.1000e+01 2.4400e+02 1.0500e+02 2.4300e+02 1.1100e+02\n",
      " 1.0200e+02 9.0000e+00 5.2000e+01 3.8000e+01 4.9000e+01 2.8000e+01\n",
      " 4.3000e+01 4.2000e+01 8.2000e+01 2.9000e+01 4.0000e+00 1.9100e+02\n",
      " 3.0600e+02 4.1000e+01 2.4000e+01 3.5000e+01 2.2000e+01 7.6000e+01\n",
      " 1.8900e+02 3.0000e+01 1.0700e+02 2.7000e+01 3.4000e+01 2.0000e+01\n",
      " 7.2000e+01 1.6000e+01 3.9000e+01 8.0000e+01 2.8300e+02 5.4000e+01\n",
      " 2.3900e+02 1.1000e+02 5.9000e+01 1.1000e+01 5.0800e+02 1.3500e+02\n",
      " 5.1000e+01 3.6000e+01 2.2200e+02 3.0200e+02 5.0000e+00 2.8500e+02\n",
      " 6.2000e+01 6.7000e+01 6.0000e+00 1.6900e+02 5.8000e+01 6.3000e+01\n",
      " 1.3200e+02 3.3000e+01 2.2100e+02 1.1200e+02 2.5400e+02 1.7100e+02\n",
      " 1.6400e+02 4.0800e+02 1.1500e+02 3.2000e+01 1.3000e+02 8.5000e+01\n",
      " 8.1000e+01 4.0000e+01 1.2400e+02 2.5700e+02 2.2300e+02 1.4300e+02\n",
      " 1.0000e+02 5.9600e+02 1.1700e+02 9.3000e+01 1.1800e+02 2.8630e+03\n",
      " 5.0000e+01 1.0800e+03 2.2000e+02 6.6000e+01 3.6700e+02 7.0500e+02\n",
      " 8.7000e+01 1.6800e+02 7.8000e+01 2.7000e+02 2.6600e+02 1.4400e+02\n",
      " 2.0600e+02 2.3000e+01 1.3300e+02 7.4000e+01 8.0000e+00 6.1000e+01\n",
      " 7.3000e+01 1.0800e+02 7.7000e+01 3.5700e+02 4.9800e+02 4.4000e+01\n",
      " 9.0000e+01 4.6000e+01 1.5100e+02 2.6000e+01 3.7000e+01 5.4200e+02\n",
      " 1.5900e+02 4.5000e+01 2.4800e+02 1.4600e+02 8.3000e+01 1.6000e+02\n",
      " 3.8500e+02 5.6000e+01 8.6000e+01 1.2100e+02 6.8000e+01 6.4000e+01\n",
      " 1.0300e+02 1.0900e+02 9.1000e+01 9.9000e+01 9.7000e+01 7.9000e+01\n",
      " 8.8000e+01 1.5500e+02 2.5100e+02 1.3600e+02 1.1400e+02 2.3200e+02\n",
      " 2.6800e+02 1.0100e+02 9.8000e+01 6.2600e+02 2.4000e+02 2.8900e+02\n",
      " 1.8100e+02 1.2600e+02 4.5900e+02 1.0600e+02 1.4800e+02 1.8600e+02\n",
      " 1.5000e+02 2.4500e+02 1.4900e+02 2.7200e+02 1.3700e+02 4.9900e+02\n",
      " 2.2700e+02 4.4600e+02 2.5500e+02 1.9900e+02 5.0500e+02 5.8800e+02\n",
      " 8.9900e+02 1.2420e+03 8.9100e+02 1.0790e+03 4.3200e+02 1.7800e+02\n",
      " 1.0000e+01 2.1600e+02 2.0400e+02 6.5000e+01 3.4700e+02 1.7700e+02\n",
      " 1.1900e+02 6.9000e+01 8.9000e+01 4.0700e+02 1.2700e+02 7.1000e+01\n",
      " 9.6000e+01 1.8300e+02 2.6400e+02 4.8000e+01 1.3100e+02 1.3800e+02\n",
      " 9.2000e+01 1.9600e+02 1.4000e+02 5.2700e+02 2.1800e+02 2.1700e+02\n",
      " 2.3800e+02 1.2000e+02 3.5100e+02 1.7600e+02 2.1900e+02 2.6000e+02\n",
      " 3.4200e+02 2.4200e+02 3.8300e+02 5.4300e+02 2.7500e+02 3.6800e+02\n",
      " 2.2500e+02 4.8000e+02 1.6700e+02 3.7100e+02 1.8200e+02 6.5300e+02\n",
      " 4.1000e+02 5.7600e+02 2.1400e+02 2.8700e+02 5.2100e+02 3.3000e+02\n",
      " 1.7400e+02 4.2400e+02 2.1300e+02 6.2400e+02 7.1500e+02 5.9000e+02\n",
      " 1.0920e+03 2.6500e+02 7.1800e+02 5.1500e+02 1.2220e+03 7.4600e+02\n",
      " 2.2800e+02 1.9700e+02 1.1300e+02 1.5600e+02 7.5000e+01 2.0200e+02\n",
      " 4.5700e+02 1.8400e+02 1.9500e+02 2.9900e+02 7.5200e+02 4.0600e+02\n",
      " 9.4000e+01 1.4200e+02 3.1900e+02 1.9400e+02 3.2200e+02 1.6200e+02\n",
      " 1.2300e+02 1.5300e+02 2.4700e+02 1.6100e+02 1.2500e+02 2.0000e+02\n",
      " 3.7570e+03 7.3800e+02 1.1737e+04 7.3100e+02 9.1400e+02 2.6300e+02\n",
      " 3.9000e+03 1.0480e+03 5.9100e+02 6.0100e+02 1.4920e+03 4.6500e+03\n",
      " 9.5600e+02 6.5200e+02 4.9690e+03 9.2300e+02 3.9740e+03 9.5000e+01\n",
      " 4.5800e+02 2.5200e+02 3.1300e+02 1.6600e+02 1.5700e+02 1.8500e+02\n",
      " 2.3400e+02 1.4500e+02 4.1800e+02 2.8400e+02 1.4100e+02 1.9200e+02\n",
      " 1.3400e+02 3.3200e+02 5.6500e+02 2.7900e+02 2.6900e+02 4.6700e+02\n",
      " 4.5100e+02 5.5500e+02 4.2600e+02 5.7800e+02 5.7300e+02 1.8030e+03\n",
      " 8.4000e+02 3.1500e+02 2.4600e+02 3.2000e+02 3.4800e+02 6.8700e+02\n",
      " 5.7400e+02 5.0100e+02 1.3900e+02 2.0700e+02 1.4700e+02 5.5300e+02\n",
      " 3.2800e+02 7.0100e+02 5.7000e+02 3.4400e+02 8.4600e+02 1.7900e+02\n",
      " 3.0800e+02 4.5600e+02 1.5200e+02 6.6800e+02 1.1660e+03 1.7000e+02\n",
      " 1.9300e+02 8.1800e+02 5.7500e+02 2.2400e+02 2.6200e+02 3.0000e+02\n",
      " 2.3300e+02 3.2900e+02 2.8600e+02 2.5000e+02 4.7100e+02 2.7600e+02\n",
      " 3.6300e+02 2.9100e+02 5.2000e+02 7.0400e+02 5.1600e+02 6.0300e+02\n",
      " 7.4800e+02 6.7900e+02 9.3700e+02 8.5100e+02 1.2530e+03 2.3880e+03\n",
      " 6.5700e+02 9.1900e+02 2.4900e+02 3.1200e+02 6.5100e+02 7.1000e+02\n",
      " 5.3900e+02 9.5300e+02 4.3900e+02 1.7500e+02 3.0100e+02 1.6300e+02\n",
      " 6.7700e+02 1.9460e+03 2.1000e+02 2.7300e+02 1.0970e+03 3.0700e+02\n",
      " 8.9200e+02 2.8200e+02 3.3500e+02 5.3000e+02 4.4400e+02 7.6400e+02\n",
      " 6.9300e+02 4.3500e+02 7.6600e+02 2.8760e+03 4.0000e+02 2.2230e+03\n",
      " 1.9520e+03 1.6510e+03 1.4240e+03 2.5600e+02 1.8700e+02 2.8000e+02\n",
      " 1.0780e+03 1.8000e+02 2.1500e+02 3.1000e+02 1.5400e+02 2.0900e+02\n",
      " 6.3200e+02 1.7300e+02 3.9600e+02 2.9400e+02 2.7800e+02 3.0900e+02\n",
      " 4.9400e+02 6.4700e+02 2.7100e+02 8.4900e+02 1.0880e+03 1.8810e+03\n",
      " 3.3750e+03 5.4900e+02 2.0500e+02 9.6900e+02 4.8500e+02 5.3500e+02\n",
      " 2.4200e+03 4.6400e+02 1.9000e+02 5.2400e+02 2.9000e+02 8.4200e+02\n",
      " 4.6800e+02 2.4400e+03 1.5800e+03 2.0280e+03 9.1300e+03 1.2800e+02\n",
      " 3.3700e+02 2.0800e+02 1.8800e+02 3.1400e+02 2.1200e+02 3.2500e+02\n",
      " 6.6700e+02 4.1500e+02 5.6900e+02 6.2500e+02 6.5900e+02 2.6700e+02\n",
      " 5.5700e+02 4.2900e+02 4.1600e+02 2.3100e+02 9.0900e+02 5.8600e+02\n",
      " 6.9900e+02 6.7300e+02 2.0300e+02 4.8100e+02 6.6200e+02 5.5900e+02\n",
      " 6.8000e+02 5.8500e+02 6.5000e+02 3.5200e+02 2.3600e+02 3.4300e+02\n",
      " 8.5000e+02 4.7900e+02 2.9600e+02 3.1800e+02 3.8700e+02 1.5800e+02\n",
      " 1.8820e+03 3.1600e+02 1.2850e+03 5.3300e+02 6.9400e+02 8.7500e+02\n",
      " 1.0330e+03 1.0290e+03 1.2910e+03 6.6000e+02 1.9030e+03 1.5470e+03\n",
      " 5.2490e+03 5.3440e+03 1.0770e+03 3.7700e+02 2.2900e+02 1.0300e+03\n",
      " 6.6600e+02 2.9300e+02 4.7800e+02 2.8100e+02 4.7330e+03 4.4900e+02\n",
      " 3.8000e+02 7.9900e+02 2.6470e+03 3.0500e+02 4.0400e+02 7.1700e+02\n",
      " 4.9700e+02 4.1200e+02 2.5800e+02 3.0300e+02 5.4400e+02 1.7200e+02\n",
      " 2.4100e+02 2.9700e+02 3.3300e+02 3.9500e+02 3.9100e+02 7.8000e+02\n",
      " 3.3900e+02 6.3100e+02 4.6600e+02 1.3750e+03 2.3500e+02 3.7400e+02\n",
      " 2.7700e+02 5.1200e+02 1.1820e+03 8.5300e+02 5.7200e+02 7.1300e+02\n",
      " 4.0100e+02 4.0900e+02 3.3400e+02 4.5000e+02 7.9500e+02 3.8100e+02\n",
      " 3.2100e+02 2.9500e+02 4.1100e+02 3.8600e+02 2.6100e+02 3.8900e+02\n",
      " 4.8200e+02 1.2720e+03 9.2600e+02 5.6700e+02 7.7100e+02 1.0720e+03\n",
      " 1.0620e+03 1.0120e+03 1.5960e+03 1.8450e+03 1.6200e+03 2.3500e+03\n",
      " 1.7670e+03 5.9630e+03 4.2800e+02 1.0650e+03 3.7900e+02 2.9800e+02\n",
      " 1.6500e+02 3.9400e+02 8.1400e+02 1.6140e+03 2.1130e+03 3.9560e+03\n",
      " 6.4600e+02 1.9800e+02 8.6900e+02 5.9517e+04 5.2200e+02 2.3000e+02\n",
      " 9.6100e+02 3.2400e+02 4.3800e+02 3.3800e+02 2.5900e+02 9.9700e+02\n",
      " 5.9501e+04 1.3820e+03 5.2600e+02 4.2100e+02 6.7600e+02 4.4000e+02\n",
      " 4.3100e+02 3.8200e+02 6.8600e+02 7.9800e+02 4.7400e+02 4.6500e+02\n",
      " 3.7600e+02 7.1900e+02 2.7400e+02 4.7700e+02 1.0110e+03 1.4230e+03\n",
      " 4.4700e+02 7.7600e+02 3.1650e+03 9.5800e+02 5.4600e+02 8.7600e+02\n",
      " 1.0810e+03 1.7137e+04 7.4900e+02 8.1000e+02 1.2010e+03 2.3780e+03\n",
      " 1.1460e+03 6.8900e+02 9.5700e+02 1.7760e+03 1.4760e+03 1.2180e+03\n",
      " 5.0580e+03 1.4330e+03 1.1720e+03 2.3590e+03 1.6340e+03 1.3530e+03\n",
      " 2.6290e+03 1.6920e+03 8.7752e+04 3.3680e+03 2.7050e+03 2.8910e+03\n",
      " 2.7652e+04 3.3170e+03 3.1460e+03 3.7840e+03 3.9970e+03 1.6755e+04\n",
      " 1.5151e+04 6.3810e+03 3.7600e+03 2.9129e+04 6.4930e+03 4.7190e+03\n",
      " 2.7649e+04 3.8880e+03 2.2210e+04 2.8812e+04 1.8979e+04 8.5419e+04\n",
      " 4.6000e+02 1.5440e+03 3.6600e+02 8.9000e+02 4.7000e+02 7.2000e+02\n",
      " 6.4800e+02 5.6800e+02 1.2890e+03 7.8300e+02 9.3400e+02 1.0200e+03\n",
      " 1.3450e+03 1.3690e+03 6.7100e+02 1.0240e+03 5.1700e+02 8.6700e+02\n",
      " 7.5700e+02 6.8200e+02 8.0400e+02 1.3300e+03 3.6200e+02 4.4100e+02\n",
      " 6.9500e+02 9.4500e+02 1.4400e+03 3.6100e+02 5.0300e+02 9.7700e+02\n",
      " 5.7100e+02 3.0400e+02 6.3900e+02 1.5930e+03 7.7500e+02 4.6100e+02\n",
      " 2.3700e+02 3.9800e+02 3.6400e+02 8.4300e+02 7.5800e+02 7.0800e+02\n",
      " 5.9500e+02 6.0000e+02 1.4850e+03 9.2800e+02 1.7160e+03 1.1220e+03\n",
      " 3.9200e+02 4.7200e+02 2.2600e+02 3.2300e+02 7.6200e+02 1.0670e+03\n",
      " 2.5300e+02 5.5100e+02 6.4100e+02 3.7000e+02 1.6570e+03 5.8700e+02\n",
      " 4.6200e+02 3.7300e+02 3.7200e+02 6.0700e+02 3.4000e+02 3.2600e+02\n",
      " 3.6500e+02 1.3080e+03 9.9200e+02 1.5300e+03 6.0600e+02 3.5400e+02\n",
      " 5.5200e+02 9.6400e+02 4.2700e+02 1.2440e+03 1.8350e+03 4.9600e+02\n",
      " 3.8800e+02 3.6000e+02 7.0700e+02 5.1800e+02 5.9900e+02 3.9000e+02\n",
      " 4.3600e+02 3.5300e+02 1.3120e+03 2.3980e+03 1.1700e+03 8.6400e+02\n",
      " 8.3500e+02 9.4000e+02 3.3600e+02 5.7700e+02 5.8200e+02 3.4500e+02\n",
      " 6.9100e+02 7.2500e+02 1.1325e+04 7.1100e+02 4.1400e+02 1.0030e+03\n",
      " 4.5200e+02 7.2700e+02 5.4700e+02 3.0702e+04 2.5980e+04 7.6900e+02\n",
      " 2.2410e+03 1.1910e+03 2.3006e+04 4.0500e+02 6.0800e+02 2.4331e+04\n",
      " 1.9040e+03 1.6563e+04 1.3780e+03 2.3219e+04 1.4930e+04 1.3680e+04\n",
      " 1.0019e+04 4.8600e+02 4.9100e+02 2.1370e+03 1.1610e+03 7.5900e+02\n",
      " 2.0240e+03 7.3700e+02 2.0150e+03 1.2760e+03 1.9800e+03 1.0730e+03\n",
      " 1.6880e+03 2.2440e+03 6.3600e+02 1.8780e+03 1.6640e+03 9.1000e+02\n",
      " 7.3600e+02 2.2420e+03 1.1080e+03 5.3200e+02 7.6800e+02 9.9600e+02\n",
      " 2.0190e+03 1.3680e+03 1.7200e+03 1.7140e+03 4.8900e+02 1.1420e+03\n",
      " 2.2820e+03 6.4500e+02 1.7730e+03 4.2500e+02 1.2470e+03 1.6690e+03\n",
      " 9.0800e+02 1.0090e+03 3.4900e+02 6.3300e+02 3.7800e+02 9.7900e+02\n",
      " 5.9800e+02 7.3000e+02]\n",
      "overlap: [nan 'ID5377' 'ID5956, ID5964' ... 'ID7137' 'ID8240' 'ID100150']\n",
      "obs: [nan 'The ignition point is located in the current CL-NB region'\n",
      " 'The ignition point is located in the CL-LI region'\n",
      " 'The ignition point is located in the CL-VS region'\n",
      " 'The ignition point is located in the CL-AR region'\n",
      " 'The ignition point is located in the CL-ML region'\n",
      " 'The ignition point is located in the CL-BI region'\n",
      " 'The ignition point is located in the CL-RM region'\n",
      " 'The ignition point is located in the CL-CO region'\n",
      " 'The ignition point is located in the CL-LR region']\n"
     ]
    }
   ],
   "source": [
    "# Revisión de valores únicos por columna\n",
    "cols = cicatrices_incedios.columns.tolist()\n",
    "for col in cols:\n",
    "    print(f\"{col}: {cicatrices_incedios[col].unique()}\")"
   ]
  },
  {
   "cell_type": "markdown",
   "metadata": {},
   "source": [
    "### Qué preguntantas nos podemos hacer??\n",
    "\n",
    "<ul>\n",
    "    <li>¿Qué regiones tiene más incencios?¿En qué mes?</li>\n",
    "    <li>¿Cuál es la distribución con los incendios en fecha?</li>\n",
    "    <li>PENDIENTE Distribucion de las área</li>\n",
    "    <li>PENDIENTE Area por mes</li>\n",
    "    <li>PENDIENTE CSV datos metereológicos</li>\n",
    "    <li>PENDIENTE Nomalizar área por región</li>\n",
    "    <li>PENDIENTE Revisar la área xd</li>\n",
    "</ul>"
   ]
  },
  {
   "cell_type": "code",
   "execution_count": 8,
   "metadata": {},
   "outputs": [
    {
     "data": {
      "application/vnd.plotly.v1+json": {
       "config": {
        "plotlyServerURL": "https://plot.ly"
       },
       "data": [
        {
         "branchvalues": "total",
         "domain": {
          "x": [
           0,
           1
          ],
          "y": [
           0,
           1
          ]
         },
         "hovertemplate": "labels=%{label}<br>count=%{value}<br>parent=%{parent}<br>id=%{id}<extra></extra>",
         "ids": [
          "Biobío/01",
          "Maule/02",
          "Ñuble/02",
          "La Araucanía/03",
          "Maule/01",
          "Valparaíso/01",
          "OHiggins/01",
          "La Araucanía/02",
          "Maule/03",
          "Ñuble/01",
          "La Araucanía/12",
          "Maule/04",
          "Los Ríos/01",
          "Maule/11",
          "Maule/05",
          "Biobío/03",
          "Ñuble/03",
          "Coquimbo/01",
          "Biobío/02",
          "Valparaíso/11",
          "Ñuble/04",
          "Biobío/04",
          "Valparaíso/02",
          "Ñuble/05",
          "Valparaíso/12",
          "Biobío/11",
          "Biobío/12",
          "Biobío/05",
          "La Araucanía/01",
          "La Araucanía/04",
          "Los Lagos/01",
          "Los Ríos/02",
          "Los Ríos/03",
          "Los Lagos/04",
          "Santiago/07",
          "Santiago/11",
          "Santiago/12",
          "Santiago/01",
          "Santiago/02",
          "OHiggins/03",
          "Santiago/03",
          "Santiago/04",
          "Valparaíso/03",
          "Coquimbo/12",
          "Valparaíso/04",
          "OHiggins/12",
          "OHiggins/02",
          "Coquimbo/02",
          "OHiggins/10",
          "La Araucanía/10",
          "Ñuble/12",
          "Coquimbo/04",
          "Maule/12",
          "Los Ríos/08",
          "Coquimbo/10",
          "Coquimbo/11",
          "Los Lagos/02",
          "OHiggins/11",
          "Maule/10",
          "Coquimbo/03",
          "OHiggins/04",
          "Los Lagos/11",
          "Valparaíso/09",
          "OHiggins/05",
          "Biobío/09",
          "Santiago/05",
          "Los Ríos/12",
          "Los Lagos/12",
          "Ñuble/11",
          "La Araucanía/11",
          "Los Lagos/03",
          "Coquimbo/09",
          "Coquimbo/05",
          "Santiago/06",
          "Valparaíso/10",
          "Valparaíso/05",
          "Santiago/10",
          "Santiago/09",
          "Maule/08",
          "Maule/09",
          "Ñuble/09",
          "Ñuble/10",
          "Valparaíso/06",
          "Biobío/10",
          "OHiggins/09",
          "Maule/06",
          "Valparaíso/08",
          "Maule/07",
          "Los Ríos/04",
          "Los Ríos/11",
          "Los Ríos/05",
          "Los Lagos/05",
          "Valparaíso/07",
          "La Araucanía/09",
          "Los Lagos/10",
          "Coquimbo/08",
          "OHiggins/07",
          "Los Ríos/10",
          "Biobío",
          "Maule",
          "Ñuble",
          "La Araucanía",
          "Valparaíso",
          "OHiggins",
          "Los Ríos",
          "Coquimbo",
          "Los Lagos",
          "Santiago"
         ],
         "labels": [
          "01",
          "02",
          "02",
          "03",
          "01",
          "01",
          "01",
          "02",
          "03",
          "01",
          "12",
          "04",
          "01",
          "11",
          "05",
          "03",
          "03",
          "01",
          "02",
          "11",
          "04",
          "04",
          "02",
          "05",
          "12",
          "11",
          "12",
          "05",
          "01",
          "04",
          "01",
          "02",
          "03",
          "04",
          "07",
          "11",
          "12",
          "01",
          "02",
          "03",
          "03",
          "04",
          "03",
          "12",
          "04",
          "12",
          "02",
          "02",
          "10",
          "10",
          "12",
          "04",
          "12",
          "08",
          "10",
          "11",
          "02",
          "11",
          "10",
          "03",
          "04",
          "11",
          "09",
          "05",
          "09",
          "05",
          "12",
          "12",
          "11",
          "11",
          "03",
          "09",
          "05",
          "06",
          "10",
          "05",
          "10",
          "09",
          "08",
          "09",
          "09",
          "10",
          "06",
          "10",
          "09",
          "06",
          "08",
          "07",
          "04",
          "11",
          "05",
          "05",
          "07",
          "09",
          "10",
          "08",
          "07",
          "10",
          "Biobío",
          "Maule",
          "Ñuble",
          "La Araucanía",
          "Valparaíso",
          "OHiggins",
          "Los Ríos",
          "Coquimbo",
          "Los Lagos",
          "Santiago"
         ],
         "name": "",
         "parents": [
          "Biobío",
          "Maule",
          "Ñuble",
          "La Araucanía",
          "Maule",
          "Valparaíso",
          "OHiggins",
          "La Araucanía",
          "Maule",
          "Ñuble",
          "La Araucanía",
          "Maule",
          "Los Ríos",
          "Maule",
          "Maule",
          "Biobío",
          "Ñuble",
          "Coquimbo",
          "Biobío",
          "Valparaíso",
          "Ñuble",
          "Biobío",
          "Valparaíso",
          "Ñuble",
          "Valparaíso",
          "Biobío",
          "Biobío",
          "Biobío",
          "La Araucanía",
          "La Araucanía",
          "Los Lagos",
          "Los Ríos",
          "Los Ríos",
          "Los Lagos",
          "Santiago",
          "Santiago",
          "Santiago",
          "Santiago",
          "Santiago",
          "OHiggins",
          "Santiago",
          "Santiago",
          "Valparaíso",
          "Coquimbo",
          "Valparaíso",
          "OHiggins",
          "OHiggins",
          "Coquimbo",
          "OHiggins",
          "La Araucanía",
          "Ñuble",
          "Coquimbo",
          "Maule",
          "Los Ríos",
          "Coquimbo",
          "Coquimbo",
          "Los Lagos",
          "OHiggins",
          "Maule",
          "Coquimbo",
          "OHiggins",
          "Los Lagos",
          "Valparaíso",
          "OHiggins",
          "Biobío",
          "Santiago",
          "Los Ríos",
          "Los Lagos",
          "Ñuble",
          "La Araucanía",
          "Los Lagos",
          "Coquimbo",
          "Coquimbo",
          "Santiago",
          "Valparaíso",
          "Valparaíso",
          "Santiago",
          "Santiago",
          "Maule",
          "Maule",
          "Ñuble",
          "Ñuble",
          "Valparaíso",
          "Biobío",
          "OHiggins",
          "Maule",
          "Valparaíso",
          "Maule",
          "Los Ríos",
          "Los Ríos",
          "Los Ríos",
          "Los Lagos",
          "Valparaíso",
          "La Araucanía",
          "Los Lagos",
          "Coquimbo",
          "OHiggins",
          "Los Ríos",
          "",
          "",
          "",
          "",
          "",
          "",
          "",
          "",
          "",
          ""
         ],
         "textinfo": "label+percent parent",
         "type": "sunburst",
         "values": {
          "bdata": "fQJeAV4BZwKqASYCmwG3A/8AGgF1AHYAQAAyAAYAmQEpATcAjgKPAGkAmQBHAQQAlQE3AK8ACABKAjoAdQCPAFgAAwABAJkAOQE3AaQApABUABwAwgAyAF8A4wD0ADAACwAKAD4ABQDDAAIACgAlAOUAPwAPABgATwARAAcAGAAOAAoAGgBSAAsAHQBFAAMABAAHAB8AHQAZAAIAAQAIAAIABAAEABYAAQABAAMAAwAGAAUAAQABAAIABAADAAEAAQACAE8IlAVdBEIJ/gbJBFEB7QAJAkoE",
          "dtype": "i2"
         }
        }
       ],
       "layout": {
        "legend": {
         "tracegroupgap": 0
        },
        "margin": {
         "t": 60
        },
        "template": {
         "data": {
          "bar": [
           {
            "error_x": {
             "color": "#2a3f5f"
            },
            "error_y": {
             "color": "#2a3f5f"
            },
            "marker": {
             "line": {
              "color": "#E5ECF6",
              "width": 0.5
             },
             "pattern": {
              "fillmode": "overlay",
              "size": 10,
              "solidity": 0.2
             }
            },
            "type": "bar"
           }
          ],
          "barpolar": [
           {
            "marker": {
             "line": {
              "color": "#E5ECF6",
              "width": 0.5
             },
             "pattern": {
              "fillmode": "overlay",
              "size": 10,
              "solidity": 0.2
             }
            },
            "type": "barpolar"
           }
          ],
          "carpet": [
           {
            "aaxis": {
             "endlinecolor": "#2a3f5f",
             "gridcolor": "white",
             "linecolor": "white",
             "minorgridcolor": "white",
             "startlinecolor": "#2a3f5f"
            },
            "baxis": {
             "endlinecolor": "#2a3f5f",
             "gridcolor": "white",
             "linecolor": "white",
             "minorgridcolor": "white",
             "startlinecolor": "#2a3f5f"
            },
            "type": "carpet"
           }
          ],
          "choropleth": [
           {
            "colorbar": {
             "outlinewidth": 0,
             "ticks": ""
            },
            "type": "choropleth"
           }
          ],
          "contour": [
           {
            "colorbar": {
             "outlinewidth": 0,
             "ticks": ""
            },
            "colorscale": [
             [
              0,
              "#0d0887"
             ],
             [
              0.1111111111111111,
              "#46039f"
             ],
             [
              0.2222222222222222,
              "#7201a8"
             ],
             [
              0.3333333333333333,
              "#9c179e"
             ],
             [
              0.4444444444444444,
              "#bd3786"
             ],
             [
              0.5555555555555556,
              "#d8576b"
             ],
             [
              0.6666666666666666,
              "#ed7953"
             ],
             [
              0.7777777777777778,
              "#fb9f3a"
             ],
             [
              0.8888888888888888,
              "#fdca26"
             ],
             [
              1,
              "#f0f921"
             ]
            ],
            "type": "contour"
           }
          ],
          "contourcarpet": [
           {
            "colorbar": {
             "outlinewidth": 0,
             "ticks": ""
            },
            "type": "contourcarpet"
           }
          ],
          "heatmap": [
           {
            "colorbar": {
             "outlinewidth": 0,
             "ticks": ""
            },
            "colorscale": [
             [
              0,
              "#0d0887"
             ],
             [
              0.1111111111111111,
              "#46039f"
             ],
             [
              0.2222222222222222,
              "#7201a8"
             ],
             [
              0.3333333333333333,
              "#9c179e"
             ],
             [
              0.4444444444444444,
              "#bd3786"
             ],
             [
              0.5555555555555556,
              "#d8576b"
             ],
             [
              0.6666666666666666,
              "#ed7953"
             ],
             [
              0.7777777777777778,
              "#fb9f3a"
             ],
             [
              0.8888888888888888,
              "#fdca26"
             ],
             [
              1,
              "#f0f921"
             ]
            ],
            "type": "heatmap"
           }
          ],
          "histogram": [
           {
            "marker": {
             "pattern": {
              "fillmode": "overlay",
              "size": 10,
              "solidity": 0.2
             }
            },
            "type": "histogram"
           }
          ],
          "histogram2d": [
           {
            "colorbar": {
             "outlinewidth": 0,
             "ticks": ""
            },
            "colorscale": [
             [
              0,
              "#0d0887"
             ],
             [
              0.1111111111111111,
              "#46039f"
             ],
             [
              0.2222222222222222,
              "#7201a8"
             ],
             [
              0.3333333333333333,
              "#9c179e"
             ],
             [
              0.4444444444444444,
              "#bd3786"
             ],
             [
              0.5555555555555556,
              "#d8576b"
             ],
             [
              0.6666666666666666,
              "#ed7953"
             ],
             [
              0.7777777777777778,
              "#fb9f3a"
             ],
             [
              0.8888888888888888,
              "#fdca26"
             ],
             [
              1,
              "#f0f921"
             ]
            ],
            "type": "histogram2d"
           }
          ],
          "histogram2dcontour": [
           {
            "colorbar": {
             "outlinewidth": 0,
             "ticks": ""
            },
            "colorscale": [
             [
              0,
              "#0d0887"
             ],
             [
              0.1111111111111111,
              "#46039f"
             ],
             [
              0.2222222222222222,
              "#7201a8"
             ],
             [
              0.3333333333333333,
              "#9c179e"
             ],
             [
              0.4444444444444444,
              "#bd3786"
             ],
             [
              0.5555555555555556,
              "#d8576b"
             ],
             [
              0.6666666666666666,
              "#ed7953"
             ],
             [
              0.7777777777777778,
              "#fb9f3a"
             ],
             [
              0.8888888888888888,
              "#fdca26"
             ],
             [
              1,
              "#f0f921"
             ]
            ],
            "type": "histogram2dcontour"
           }
          ],
          "mesh3d": [
           {
            "colorbar": {
             "outlinewidth": 0,
             "ticks": ""
            },
            "type": "mesh3d"
           }
          ],
          "parcoords": [
           {
            "line": {
             "colorbar": {
              "outlinewidth": 0,
              "ticks": ""
             }
            },
            "type": "parcoords"
           }
          ],
          "pie": [
           {
            "automargin": true,
            "type": "pie"
           }
          ],
          "scatter": [
           {
            "fillpattern": {
             "fillmode": "overlay",
             "size": 10,
             "solidity": 0.2
            },
            "type": "scatter"
           }
          ],
          "scatter3d": [
           {
            "line": {
             "colorbar": {
              "outlinewidth": 0,
              "ticks": ""
             }
            },
            "marker": {
             "colorbar": {
              "outlinewidth": 0,
              "ticks": ""
             }
            },
            "type": "scatter3d"
           }
          ],
          "scattercarpet": [
           {
            "marker": {
             "colorbar": {
              "outlinewidth": 0,
              "ticks": ""
             }
            },
            "type": "scattercarpet"
           }
          ],
          "scattergeo": [
           {
            "marker": {
             "colorbar": {
              "outlinewidth": 0,
              "ticks": ""
             }
            },
            "type": "scattergeo"
           }
          ],
          "scattergl": [
           {
            "marker": {
             "colorbar": {
              "outlinewidth": 0,
              "ticks": ""
             }
            },
            "type": "scattergl"
           }
          ],
          "scattermap": [
           {
            "marker": {
             "colorbar": {
              "outlinewidth": 0,
              "ticks": ""
             }
            },
            "type": "scattermap"
           }
          ],
          "scattermapbox": [
           {
            "marker": {
             "colorbar": {
              "outlinewidth": 0,
              "ticks": ""
             }
            },
            "type": "scattermapbox"
           }
          ],
          "scatterpolar": [
           {
            "marker": {
             "colorbar": {
              "outlinewidth": 0,
              "ticks": ""
             }
            },
            "type": "scatterpolar"
           }
          ],
          "scatterpolargl": [
           {
            "marker": {
             "colorbar": {
              "outlinewidth": 0,
              "ticks": ""
             }
            },
            "type": "scatterpolargl"
           }
          ],
          "scatterternary": [
           {
            "marker": {
             "colorbar": {
              "outlinewidth": 0,
              "ticks": ""
             }
            },
            "type": "scatterternary"
           }
          ],
          "surface": [
           {
            "colorbar": {
             "outlinewidth": 0,
             "ticks": ""
            },
            "colorscale": [
             [
              0,
              "#0d0887"
             ],
             [
              0.1111111111111111,
              "#46039f"
             ],
             [
              0.2222222222222222,
              "#7201a8"
             ],
             [
              0.3333333333333333,
              "#9c179e"
             ],
             [
              0.4444444444444444,
              "#bd3786"
             ],
             [
              0.5555555555555556,
              "#d8576b"
             ],
             [
              0.6666666666666666,
              "#ed7953"
             ],
             [
              0.7777777777777778,
              "#fb9f3a"
             ],
             [
              0.8888888888888888,
              "#fdca26"
             ],
             [
              1,
              "#f0f921"
             ]
            ],
            "type": "surface"
           }
          ],
          "table": [
           {
            "cells": {
             "fill": {
              "color": "#EBF0F8"
             },
             "line": {
              "color": "white"
             }
            },
            "header": {
             "fill": {
              "color": "#C8D4E3"
             },
             "line": {
              "color": "white"
             }
            },
            "type": "table"
           }
          ]
         },
         "layout": {
          "annotationdefaults": {
           "arrowcolor": "#2a3f5f",
           "arrowhead": 0,
           "arrowwidth": 1
          },
          "autotypenumbers": "strict",
          "coloraxis": {
           "colorbar": {
            "outlinewidth": 0,
            "ticks": ""
           }
          },
          "colorscale": {
           "diverging": [
            [
             0,
             "#8e0152"
            ],
            [
             0.1,
             "#c51b7d"
            ],
            [
             0.2,
             "#de77ae"
            ],
            [
             0.3,
             "#f1b6da"
            ],
            [
             0.4,
             "#fde0ef"
            ],
            [
             0.5,
             "#f7f7f7"
            ],
            [
             0.6,
             "#e6f5d0"
            ],
            [
             0.7,
             "#b8e186"
            ],
            [
             0.8,
             "#7fbc41"
            ],
            [
             0.9,
             "#4d9221"
            ],
            [
             1,
             "#276419"
            ]
           ],
           "sequential": [
            [
             0,
             "#0d0887"
            ],
            [
             0.1111111111111111,
             "#46039f"
            ],
            [
             0.2222222222222222,
             "#7201a8"
            ],
            [
             0.3333333333333333,
             "#9c179e"
            ],
            [
             0.4444444444444444,
             "#bd3786"
            ],
            [
             0.5555555555555556,
             "#d8576b"
            ],
            [
             0.6666666666666666,
             "#ed7953"
            ],
            [
             0.7777777777777778,
             "#fb9f3a"
            ],
            [
             0.8888888888888888,
             "#fdca26"
            ],
            [
             1,
             "#f0f921"
            ]
           ],
           "sequentialminus": [
            [
             0,
             "#0d0887"
            ],
            [
             0.1111111111111111,
             "#46039f"
            ],
            [
             0.2222222222222222,
             "#7201a8"
            ],
            [
             0.3333333333333333,
             "#9c179e"
            ],
            [
             0.4444444444444444,
             "#bd3786"
            ],
            [
             0.5555555555555556,
             "#d8576b"
            ],
            [
             0.6666666666666666,
             "#ed7953"
            ],
            [
             0.7777777777777778,
             "#fb9f3a"
            ],
            [
             0.8888888888888888,
             "#fdca26"
            ],
            [
             1,
             "#f0f921"
            ]
           ]
          },
          "colorway": [
           "#636efa",
           "#EF553B",
           "#00cc96",
           "#ab63fa",
           "#FFA15A",
           "#19d3f3",
           "#FF6692",
           "#B6E880",
           "#FF97FF",
           "#FECB52"
          ],
          "font": {
           "color": "#2a3f5f"
          },
          "geo": {
           "bgcolor": "white",
           "lakecolor": "white",
           "landcolor": "#E5ECF6",
           "showlakes": true,
           "showland": true,
           "subunitcolor": "white"
          },
          "hoverlabel": {
           "align": "left"
          },
          "hovermode": "closest",
          "mapbox": {
           "style": "light"
          },
          "paper_bgcolor": "white",
          "plot_bgcolor": "#E5ECF6",
          "polar": {
           "angularaxis": {
            "gridcolor": "white",
            "linecolor": "white",
            "ticks": ""
           },
           "bgcolor": "#E5ECF6",
           "radialaxis": {
            "gridcolor": "white",
            "linecolor": "white",
            "ticks": ""
           }
          },
          "scene": {
           "xaxis": {
            "backgroundcolor": "#E5ECF6",
            "gridcolor": "white",
            "gridwidth": 2,
            "linecolor": "white",
            "showbackground": true,
            "ticks": "",
            "zerolinecolor": "white"
           },
           "yaxis": {
            "backgroundcolor": "#E5ECF6",
            "gridcolor": "white",
            "gridwidth": 2,
            "linecolor": "white",
            "showbackground": true,
            "ticks": "",
            "zerolinecolor": "white"
           },
           "zaxis": {
            "backgroundcolor": "#E5ECF6",
            "gridcolor": "white",
            "gridwidth": 2,
            "linecolor": "white",
            "showbackground": true,
            "ticks": "",
            "zerolinecolor": "white"
           }
          },
          "shapedefaults": {
           "line": {
            "color": "#2a3f5f"
           }
          },
          "ternary": {
           "aaxis": {
            "gridcolor": "white",
            "linecolor": "white",
            "ticks": ""
           },
           "baxis": {
            "gridcolor": "white",
            "linecolor": "white",
            "ticks": ""
           },
           "bgcolor": "#E5ECF6",
           "caxis": {
            "gridcolor": "white",
            "linecolor": "white",
            "ticks": ""
           }
          },
          "title": {
           "x": 0.05
          },
          "xaxis": {
           "automargin": true,
           "gridcolor": "white",
           "linecolor": "white",
           "ticks": "",
           "title": {
            "standoff": 15
           },
           "zerolinecolor": "white",
           "zerolinewidth": 2
          },
          "yaxis": {
           "automargin": true,
           "gridcolor": "white",
           "linecolor": "white",
           "ticks": "",
           "title": {
            "standoff": 15
           },
           "zerolinecolor": "white",
           "zerolinewidth": 2
          }
         }
        }
       }
      }
     },
     "metadata": {},
     "output_type": "display_data"
    }
   ],
   "source": [
    "# Asegurarse que ign_date_conaf es de tipo datetime\n",
    "cicatrices_incedios[\"ign_date_conaf\"] = pd.to_datetime(cicatrices_incedios[\"ign_date_conaf\"])\n",
    "\n",
    "# Extraer solo el mes en formato numérico (01, 02, ..., 12)\n",
    "cicatrices_incedios[\"mes_incendio\"] = cicatrices_incedios[\"ign_date_conaf\"].dt.strftime(\"%m\")\n",
    "\n",
    "# Crear el gráfico Sunburst\n",
    "fig = px.sunburst(cicatrices_incedios, path=[\"region_conaf\", \"mes_incendio\"])\n",
    "fig.update_traces(textinfo=\"label+percent parent\")\n",
    "fig.show()"
   ]
  },
  {
   "cell_type": "code",
   "execution_count": 9,
   "metadata": {},
   "outputs": [
    {
     "data": {
      "image/png": "[encoded data removed]",
      "text/plain": [
       "<Figure size 640x480 with 1 Axes>"
      ]
     },
     "metadata": {},
     "output_type": "display_data"
    }
   ],
   "source": [
    "data = cicatrices_incedios[\"mes_incendio\"]\n",
    "orden_meses = ['07', '08', '09', '10', '11', '12', '01', '02', '03', '04', '05', '06']\n",
    "\n",
    "sns.countplot(data=cicatrices_incedios, x=\"mes_incendio\", order=orden_meses)\n",
    "\n",
    "\n",
    "plt.title(\"Cantidad de incendios por mes\")\n",
    "plt.xlabel(\"Mes\")\n",
    "plt.ylabel(\"Cantidad de incendios\")\n",
    "plt.show()"
   ]
  },
  {
   "cell_type": "code",
   "execution_count": 12,
   "metadata": {},
   "outputs": [
    {
     "data": {
      "image/png": "[encoded data removed]",
      "text/plain": [
       "<Figure size 640x480 with 1 Axes>"
      ]
     },
     "metadata": {},
     "output_type": "display_data"
    }
   ],
   "source": [
    "# Asegúrate de que las fechas estén bien\n",
    "cicatrices_incedios[\"ign_date_conaf\"] = pd.to_datetime(cicatrices_incedios[\"ign_date_conaf\"])\n",
    "cicatrices_incedios[\"mes_incendio\"] = cicatrices_incedios[\"ign_date_conaf\"].dt.strftime(\"%m\")\n",
    "cicatrices_incedios[\"anio\"] = cicatrices_incedios[\"ign_date_conaf\"].dt.year\n",
    "\n",
    "# Contar cantidad de cicatrices_incedios por mes y año\n",
    "conteo_por_mes_anio = cicatrices_incedios.groupby([\"mes_incendio\", \"anio\"]).size().reset_index(name=\"cantidad\")\n",
    "\n",
    "# Calcular el promedio por mes\n",
    "promedio_incendios_mes = conteo_por_mes_anio.groupby(\"mes_incendio\")[\"cantidad\"].mean().reset_index()\n",
    "\n",
    "# Ordenar los meses\n",
    "orden_meses = ['07', '08', '09', '10', '11', '12', '01', '02', '03', '04', '05', '06']\n",
    "\n",
    "# Gráfico\n",
    "sns.barplot(data=promedio_incendios_mes, x=\"mes_incendio\", y=\"cantidad\", order=orden_meses)\n",
    "\n",
    "plt.title(\"Promedio de incendios por mes (normalizado por año)\")\n",
    "plt.xlabel(\"Mes\")\n",
    "plt.ylabel(\"Promedio de incendios\")\n",
    "plt.tight_layout()\n",
    "plt.show()\n"
   ]
  },
  {
   "cell_type": "code",
   "execution_count": 10,
   "metadata": {},
   "outputs": [
    {
     "data": {
      "image/png": "[encoded data removed]",
      "text/plain": [
       "<Figure size 640x480 with 1 Axes>"
      ]
     },
     "metadata": {},
     "output_type": "display_data"
    }
   ],
   "source": [
    "# Años con más cicatrices_incedios\n",
    "area_mes = cicatrices_incedios.groupby(\"mes_incendio\")[\"total_area\"].sum()\n",
    "\n",
    "area_mes_df = area_mes.reset_index()  # convierte Series a DataFrame\n",
    "\n",
    "orden_meses = ['07', '08', '09', '10', '11', '12', '01', '02', '03', '04', '05', '06']\n",
    "sns.barplot(data=area_mes_df, x=\"mes_incendio\", y=\"total_area\", order=orden_meses)\n",
    "\n",
    "plt.title(\"Área quemada por mes\")\n",
    "plt.xlabel(\"Año\")\n",
    "plt.ylabel(\"Área quemada (metros cuadrados)\")\n",
    "plt.xticks(rotation=90)  # gira las etiquetas del eje x si hay muchos años\n",
    "plt.tight_layout()\n",
    "plt.show()\n",
    "\n"
   ]
  },
  {
   "cell_type": "code",
   "execution_count": 14,
   "metadata": {},
   "outputs": [
    {
     "data": {
      "image/png": "[encoded data removed]",
      "text/plain": [
       "<Figure size 640x480 with 1 Axes>"
      ]
     },
     "metadata": {},
     "output_type": "display_data"
    }
   ],
   "source": [
    "# Asegúrate que 'StartDate' está en datetime (ya lo tienes)\n",
    "cicatrices_incedios[\"ign_date_conaf\"] = pd.to_datetime(cicatrices_incedios[\"ign_date_conaf\"])\n",
    "\n",
    "# Extraer mes y año\n",
    "cicatrices_incedios[\"mes_incendio\"] = cicatrices_incedios[\"ign_date_conaf\"].dt.strftime(\"%m\")\n",
    "cicatrices_incedios[\"anio\"] = cicatrices_incedios[\"ign_date_conaf\"].dt.year\n",
    "\n",
    "# Crear tabla con área total por mes y año\n",
    "area_por_mes_anio = cicatrices_incedios.groupby([\"mes_incendio\", \"anio\"])[\"area_conaf\"].sum().reset_index()\n",
    "\n",
    "# Ahora agrupamos solo por mes para sacar el promedio\n",
    "area_mes_promedio = area_por_mes_anio.groupby(\"mes_incendio\")[\"area_conaf\"].mean().reset_index()\n",
    "\n",
    "# Orden de meses\n",
    "orden_meses = ['07', '08', '09', '10', '11', '12', '01', '02', '03', '04', '05', '06']\n",
    "\n",
    "# Gráfico\n",
    "sns.barplot(data=area_mes_promedio, x=\"mes_incendio\", y=\"area_conaf\", order=orden_meses)\n",
    "\n",
    "plt.title(\"Promedio de área quemada por mes (normalizado por año)\")\n",
    "plt.xlabel(\"Mes\")\n",
    "plt.ylabel(\"Área quemada promedio (ha)\")\n",
    "plt.tight_layout()\n",
    "plt.show()\n"
   ]
  },
  {
   "cell_type": "code",
   "execution_count": null,
   "metadata": {},
   "outputs": [],
   "source": []
  },
  {
   "cell_type": "code",
   "execution_count": 15,
   "metadata": {},
   "outputs": [
    {
     "data": {
      "image/png": "[encoded data removed]",
      "text/plain": [
       "<Figure size 640x480 with 2 Axes>"
      ]
     },
     "metadata": {},
     "output_type": "display_data"
    }
   ],
   "source": [
    "# Revisión de la corralación entre variables\n",
    "numeric_df = cicatrices_incedios.select_dtypes(include=\"number\")\n",
    "sns.heatmap(numeric_df.corr(method=\"pearson\"), annot=True, cmap='coolwarm', annot_kws={\"size\": 6})\n",
    "plt.show()"
   ]
  }
 ],
 "metadata": {
  "kernelspec": {
   "display_name": "Python 3",
   "language": "python",
   "name": "python3"
  },
  "language_info": {
   "codemirror_mode": {
    "name": "ipython",
    "version": 3
   },
   "file_extension": ".py",
   "mimetype": "text/x-python",
   "name": "python",
   "nbconvert_exporter": "python",
   "pygments_lexer": "ipython3",
   "version": "3.12.9"
  }
 },
 "nbformat": 4,
 "nbformat_minor": 2
}
